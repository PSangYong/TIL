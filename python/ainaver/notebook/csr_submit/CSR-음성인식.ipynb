{
 "cells": [
  {
   "cell_type": "code",
   "execution_count": 10,
   "id": "c4ee538e",
   "metadata": {},
   "outputs": [
    {
     "name": "stdout",
     "output_type": "stream",
     "text": [
      "Name: requests\r\n",
      "Version: 2.25.1\r\n",
      "Summary: Python HTTP for Humans.\r\n",
      "Home-page: https://requests.readthedocs.io\r\n",
      "Author: Kenneth Reitz\r\n",
      "Author-email: me@kennethreitz.org\r\n",
      "License: Apache 2.0\r\n",
      "Location: /Users/sangyongpark/opt/anaconda3/lib/python3.8/site-packages\r\n",
      "Requires: chardet, urllib3, idna, certifi\r\n",
      "Required-by: Sphinx, jupyterlab-server, conda, conda-repo-cli, conda-build, anaconda-project, anaconda-client\r\n"
     ]
    }
   ],
   "source": [
    "!pip show requests"
   ]
  },
  {
   "cell_type": "code",
   "execution_count": 8,
   "id": "98314bf8",
   "metadata": {},
   "outputs": [],
   "source": [
    "# !pip install requests"
   ]
  },
  {
   "cell_type": "code",
   "execution_count": 13,
   "id": "50d52fe9",
   "metadata": {},
   "outputs": [
    {
     "name": "stdout",
     "output_type": "stream",
     "text": [
      "{\"text\":\"네이버 클로바 ai api를 사용해서 안녕하세요 저는 ai 플랫폼 기반의 지능형 서비스 개발 프로젝트 제2탄 박 상용입니다 이것은 과정 실습 평가 샘플 음성입니다 이 음성인식 결과가 텍스트로 출력 될 것입니다\"}\n"
     ]
    }
   ],
   "source": [
    "import requests\n",
    "client_id = \"s3ch49gyp6\"\n",
    " \n",
    "client_secret = \"3C1rjOi02zCY5ZhWZDQfOfeQEpAPF64ZWgjtLyB8\"\n",
    "lang = \"Kor\" # 언어코드{Kor, Jpn, Eng, Chn}\n",
    "url = \"https://naveropenapi.apigw.ntruss.com/recog/v1/stt?lang=\" + lang\n",
    "# data = open('./hi.m4a', 'rb') # read byte\n",
    "data = open('./sample.mp3', 'rb')\n",
    "# data = open('./ma.mp3', 'rb') # 60초넘어서 ST001 Error발생\n",
    "headers = {\n",
    "    \"X-NCP-APIGW-API-KEY-ID\": client_id,\n",
    "    \"X-NCP-APIGW-API-KEY\": client_secret,\n",
    "    \"Content-Type\" : \"application/octet-stream\"\n",
    "}\n",
    "response = requests.post(url, data=data, headers=headers)\n",
    "rescode = response.status_code\n",
    "if(rescode == 200):\n",
    "    print(response.text)\n",
    "else :\n",
    "    print(\"Error : \" + response.text)"
   ]
  },
  {
   "cell_type": "code",
   "execution_count": null,
   "id": "f754ed8c",
   "metadata": {},
   "outputs": [],
   "source": []
  }
 ],
 "metadata": {
  "kernelspec": {
   "display_name": "pydata",
   "language": "python",
   "name": "pydata"
  },
  "language_info": {
   "codemirror_mode": {
    "name": "ipython",
    "version": 3
   },
   "file_extension": ".py",
   "mimetype": "text/x-python",
   "name": "python",
   "nbconvert_exporter": "python",
   "pygments_lexer": "ipython3",
   "version": "3.7.11"
  }
 },
 "nbformat": 4,
 "nbformat_minor": 5
}
