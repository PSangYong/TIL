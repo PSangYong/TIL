{
 "cells": [
  {
   "cell_type": "code",
   "execution_count": 1,
   "id": "552e0cb0",
   "metadata": {},
   "outputs": [
    {
     "name": "stdout",
     "output_type": "stream",
     "text": [
      "{\"predictions\": [{\"num_detections\": 7, \"detection_classes\": [1.0, 1.0, 1.0, 1.0, 1.0, 1.0, 31.0], \"detection_names\": [\"person\", \"person\", \"person\", \"person\", \"person\", \"person\", \"handbag\"], \"detection_scores\": [0.997774, 0.98647, 0.952178, 0.899582, 0.880355, 0.430258, 0.388745], \"detection_boxes\": [[0.168956, 0.775277, 0.944444, 0.980502], [0.139938, 0.596585, 0.98845, 0.799842], [0.159693, 0.199739, 0.673819, 0.423499], [0.0877728, 0.0399939, 0.672245, 0.255454], [0.0922486, 0.39619, 0.819596, 0.604287], [0.136897, 0.0409623, 0.826623, 0.358221], [0.257501, 0.0404258, 0.552517, 0.115737]]}]}\n",
      "발견된 물체수: 7 명\n",
      "['person', 'person', 'person', 'person', 'person', 'person', 'handbag']\n",
      "Counter({'person': 6, 'handbag': 1})\n",
      "car: 0\n",
      "truck: 0\n",
      "bus: 0\n"
     ]
    }
   ],
   "source": [
    "import os\n",
    "import sys\n",
    "import requests\n",
    "import json\n",
    "import collections\n",
    "client_id = \"nu6cjz7mcd\" # \"YOUR_CLIENT_ID\"\n",
    "client_secret = \"xibdQahSjh3lpJ8Udmv7A8uCVLdwZD4ArjweVN3C\" # \"YOUR_CLIENT_SECRET\"\n",
    "url = \"https://naveropenapi.apigw.ntruss.com/vision-obj/v1/detect\" # 객체 인식\n",
    "# files = {'image': open(file_name, 'rb')}\n",
    "# Counter({'car': 18, 'truck': 13, 'bus': 3})\n",
    "files = {'image': open('./검은 사제들.jpg', 'rb')}\n",
    "# Counter({'person': 6, 'handbag': 1})\n",
    "headers = {'X-NCP-APIGW-API-KEY-ID': client_id, 'X-NCP-APIGW-API-KEY': client_secret }\n",
    "response = requests.post(url,  files=files, headers=headers)\n",
    "rescode = response.status_code\n",
    "if(rescode==200):\n",
    "    print (response.text)\n",
    "    data = json.loads(response.text)\n",
    "    print('발견된 물체수: {0} 명'.format(data['predictions'][0]['num_detections']))\n",
    "    detection_names = data['predictions'][0]['detection_names']\n",
    "    print(detection_names)\n",
    "    count = collections.Counter(detection_names)\n",
    "    print(count)\n",
    "    print('car:', count['car'])\n",
    "    print('truck:', count['truck'])\n",
    "    print('bus:', count['bus'])\n",
    "else:\n",
    "    print(\"Error Code:\" + rescode)"
   ]
  },
  {
   "cell_type": "code",
   "execution_count": null,
   "id": "01d7177c",
   "metadata": {},
   "outputs": [],
   "source": []
  }
 ],
 "metadata": {
  "kernelspec": {
   "display_name": "pydata",
   "language": "python",
   "name": "pydata"
  },
  "language_info": {
   "codemirror_mode": {
    "name": "ipython",
    "version": 3
   },
   "file_extension": ".py",
   "mimetype": "text/x-python",
   "name": "python",
   "nbconvert_exporter": "python",
   "pygments_lexer": "ipython3",
   "version": "3.7.11"
  }
 },
 "nbformat": 4,
 "nbformat_minor": 5
}
