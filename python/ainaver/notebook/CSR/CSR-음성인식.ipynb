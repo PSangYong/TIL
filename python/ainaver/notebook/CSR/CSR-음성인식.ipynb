{
 "cells": [
  {
   "cell_type": "code",
   "execution_count": 1,
   "id": "c4ee538e",
   "metadata": {},
   "outputs": [
    {
     "name": "stdout",
     "output_type": "stream",
     "text": [
      "Name: requests\n",
      "Version: 2.25.1\n",
      "Summary: Python HTTP for Humans.\n",
      "Home-page: https://requests.readthedocs.io\n",
      "Author: Kenneth Reitz\n",
      "Author-email: me@kennethreitz.org\n",
      "License: Apache 2.0\n",
      "Location: /Users/sangyongpark/opt/anaconda3/lib/python3.8/site-packages\n",
      "Requires: urllib3, chardet, idna, certifi\n",
      "Required-by: Sphinx, jupyterlab-server, conda, conda-repo-cli, conda-build, anaconda-project, anaconda-client\n"
     ]
    }
   ],
   "source": [
    "!pip show requests"
   ]
  },
  {
   "cell_type": "code",
   "execution_count": null,
   "id": "98314bf8",
   "metadata": {},
   "outputs": [],
   "source": [
    "# !pip install requests"
   ]
  },
  {
   "cell_type": "code",
   "execution_count": 2,
   "id": "50d52fe9",
   "metadata": {},
   "outputs": [
    {
     "name": "stdout",
     "output_type": "stream",
     "text": [
      "{\"text\":\"안녕하세요\"}\n"
     ]
    }
   ],
   "source": [
    "import requests\n",
    "client_id = \"s3ch49gyp6\"\n",
    " \n",
    "client_secret = \"3C1rjOi02zCY5ZhWZDQfOfeQEpAPF64ZWgjtLyB8\"\n",
    "lang = \"Kor\" # 언어코드{Kor, Jpn, Eng, Chn}\n",
    "url = \"https://naveropenapi.apigw.ntruss.com/recog/v1/stt?lang=\" + lang\n",
    "# data = open('./hi.m4a', 'rb') # read byte\n",
    "data = open('./test.mp3', 'rb')\n",
    "# data = open('./ma.mp3', 'rb') # 60초넘어서 ST001 Error발생\n",
    "headers = {\n",
    "    \"X-NCP-APIGW-API-KEY-ID\": client_id,\n",
    "    \"X-NCP-APIGW-API-KEY\": client_secret,\n",
    "    \"Content-Type\" : \"application/octet-stream\"\n",
    "}\n",
    "response = requests.post(url, data=data, headers=headers)\n",
    "rescode = response.status_code\n",
    "if(rescode == 200):\n",
    "    print(response.text)\n",
    "else :\n",
    "    print(\"Error : \" + response.text)"
   ]
  }
 ],
 "metadata": {
  "kernelspec": {
   "display_name": "pydata",
   "language": "python",
   "name": "pydata"
  },
  "language_info": {
   "codemirror_mode": {
    "name": "ipython",
    "version": 3
   },
   "file_extension": ".py",
   "mimetype": "text/x-python",
   "name": "python",
   "nbconvert_exporter": "python",
   "pygments_lexer": "ipython3",
   "version": "3.7.11"
  }
 },
 "nbformat": 4,
 "nbformat_minor": 5
}
