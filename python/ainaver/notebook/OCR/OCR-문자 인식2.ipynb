{
 "cells": [
  {
   "cell_type": "code",
   "execution_count": 7,
   "metadata": {},
   "outputs": [
    {
     "name": "stdout",
     "output_type": "stream",
     "text": [
      "{'version': 'V1', 'requestId': 'sample_id', 'timestamp': 1635324915791, 'images': [{'uid': '6cec9180109d4dcfa5b3d4557120dd50', 'name': 'sample_image', 'inferResult': 'SUCCESS', 'message': 'SUCCESS', 'validationResult': {'result': 'NO_REQUESTED'}, 'fields': [{'valueType': 'ALL', 'boundingPoly': {'vertices': [{'x': 356.0, 'y': 35.0}, {'x': 424.0, 'y': 35.0}, {'x': 424.0, 'y': 62.0}, {'x': 356.0, 'y': 62.0}]}, 'inferText': '사랑의', 'inferConfidence': 0.9983}, {'valueType': 'ALL', 'boundingPoly': {'vertices': [{'x': 431.0, 'y': 34.0}, {'x': 501.0, 'y': 34.0}, {'x': 501.0, 'y': 63.0}, {'x': 431.0, 'y': 63.0}]}, 'inferText': '불시착', 'inferConfidence': 1.0}, {'valueType': 'ALL', 'boundingPoly': {'vertices': [{'x': 504.0, 'y': 35.0}, {'x': 562.0, 'y': 35.0}, {'x': 562.0, 'y': 61.0}, {'x': 504.0, 'y': 61.0}]}, 'inferText': '주연:', 'inferConfidence': 0.9965}, {'valueType': 'ALL', 'boundingPoly': {'vertices': [{'x': 567.0, 'y': 35.0}, {'x': 623.0, 'y': 35.0}, {'x': 623.0, 'y': 64.0}, {'x': 567.0, 'y': 64.0}]}, 'inferText': '현빈,', 'inferConfidence': 0.9997}, {'valueType': 'ALL', 'boundingPoly': {'vertices': [{'x': 626.0, 'y': 35.0}, {'x': 694.0, 'y': 35.0}, {'x': 694.0, 'y': 61.0}, {'x': 626.0, 'y': 61.0}]}, 'inferText': '손예진', 'inferConfidence': 0.9974}]}]}\n"
     ]
    }
   ],
   "source": [
    "import json\n",
    "import base64\n",
    "import requests\n",
    "\n",
    "with open(\"./sample1.jpg\", \"rb\") as f:\n",
    "    img = base64.b64encode(f.read())\n",
    "\n",
    "# 본인의 APIGW Invoke URL로 치환\n",
    "URL = \"https://0e844caa9c3447518a212f008c5e3cb5.apigw.ntruss.com/custom/v1/11998/f3002061858139e1a6b22cb43d91e160fdb9966852d42b3d944d22a66e9b4bec/general\"\n",
    "   \n",
    "# 본인의 Secret Key로 치환\n",
    "KEY = \"d1RLZFZzd1V3b09wUXhQb3VBRm9QVmJYcWNMcUdERFI=\"\n",
    "    \n",
    "headers = {\n",
    "    \"Content-Type\": \"application/json\",\n",
    "    \"X-OCR-SECRET\": KEY\n",
    "}\n",
    "    \n",
    "data = {\n",
    "    \"version\": \"V1\",\n",
    "    \"requestId\": \"sample_id\", # 요청을 구분하기 위한 ID, 사용자가 정의\n",
    "    \"timestamp\": 0, # 현재 시간값\n",
    "    \"images\": [\n",
    "        {\n",
    "            \"name\": \"sample_image\",\n",
    "            \"format\": \"jpg\",\n",
    "            \"data\": img.decode('utf-8')\n",
    "        }\n",
    "    ]\n",
    "}\n",
    "data = json.dumps(data)\n",
    "response = requests.post(URL, data=data, headers=headers)\n",
    "res = json.loads(response.text)\n",
    "print(res)"
   ]
  },
  {
   "cell_type": "code",
   "execution_count": 3,
   "metadata": {},
   "outputs": [
    {
     "name": "stdout",
     "output_type": "stream",
     "text": [
      "[{'valueType': 'ALL', 'boundingPoly': {'vertices': [{'x': 356.0, 'y': 35.0}, {'x': 424.0, 'y': 35.0}, {'x': 424.0, 'y': 62.0}, {'x': 356.0, 'y': 62.0}]}, 'inferText': '사랑의', 'inferConfidence': 0.9983}, {'valueType': 'ALL', 'boundingPoly': {'vertices': [{'x': 431.0, 'y': 34.0}, {'x': 501.0, 'y': 34.0}, {'x': 501.0, 'y': 63.0}, {'x': 431.0, 'y': 63.0}]}, 'inferText': '불시착', 'inferConfidence': 1.0}, {'valueType': 'ALL', 'boundingPoly': {'vertices': [{'x': 504.0, 'y': 35.0}, {'x': 562.0, 'y': 35.0}, {'x': 562.0, 'y': 61.0}, {'x': 504.0, 'y': 61.0}]}, 'inferText': '주연:', 'inferConfidence': 0.9965}, {'valueType': 'ALL', 'boundingPoly': {'vertices': [{'x': 567.0, 'y': 35.0}, {'x': 623.0, 'y': 35.0}, {'x': 623.0, 'y': 64.0}, {'x': 567.0, 'y': 64.0}]}, 'inferText': '현빈,', 'inferConfidence': 0.9997}, {'valueType': 'ALL', 'boundingPoly': {'vertices': [{'x': 626.0, 'y': 35.0}, {'x': 694.0, 'y': 35.0}, {'x': 694.0, 'y': 61.0}, {'x': 626.0, 'y': 61.0}]}, 'inferText': '손예진', 'inferConfidence': 0.9974}]\n"
     ]
    }
   ],
   "source": [
    "print(res['images'][0]['fields']) # 단어 정보와 밀접한 부분"
   ]
  },
  {
   "cell_type": "code",
   "execution_count": null,
   "metadata": {},
   "outputs": [],
   "source": [
    "# return 되는 JSON 형식 분해\n",
    "# [\n",
    "#   {\n",
    "#     'valueType': 'ALL', \n",
    "#     'boundingPoly': {'vertices': [{'x': 356.0, 'y': 35.0}, {'x': 424.0, 'y': 35.0}, {'x': 424.0, 'y': 62.0}, {'x': 356.0, 'y': 62.0}]}, \n",
    "#     'inferText': '사랑의', \n",
    "#     'inferConfidence': 0.9993\n",
    "#   }, \n",
    "#   {\n",
    "#     'valueType': 'ALL', \n",
    "#     'boundingPoly': {'vertices': [{'x': 431.0, 'y': 34.0}, {'x': 501.0, 'y': 34.0}, {'x': 501.0, 'y': 63.0}, {'x': 431.0, 'y': 63.0}]},\n",
    "#     'inferText': '불시착', \n",
    "#     'inferConfidence': 1.0\n",
    "#   }, \n",
    "#   {\n",
    "#     'valueType': 'ALL', \n",
    "#     'boundingPoly': {'vertices': [{'x': 504.0, 'y': 35.0}, {'x': 562.0, 'y': 35.0}, {'x': 562.0, 'y': 61.0}, {'x': 504.0, 'y': 61.0}]}, \n",
    "#     'inferText': '주연:', \n",
    "#     'inferConfidence': 0.9982\n",
    "#   }, \n",
    "#   {\n",
    "#     'valueType': 'ALL', \n",
    "#     'boundingPoly': {'vertices': [{'x': 567.0, 'y': 35.0}, {'x': 623.0, 'y': 35.0}, {'x': 623.0, 'y': 64.0}, {'x': 567.0, 'y': 64.0}]},\n",
    "#     'inferText': '현빈,',\n",
    "#     'inferConfidence': 0.9996}, \n",
    "#   {\n",
    "#     'valueType': 'ALL',\n",
    "#     'boundingPoly': {'vertices': [{'x': 626.0, 'y': 35.0}, {'x': 694.0, 'y': 35.0}, {'x': 694.0, 'y': 61.0}, {'x': 626.0, 'y': 61.0}]},\n",
    "#     'inferText': '손예진',\n",
    "#     'inferConfidence': 0.9978\n",
    "#   }\n",
    "# ]"
   ]
  },
  {
   "cell_type": "code",
   "execution_count": 4,
   "metadata": {},
   "outputs": [
    {
     "name": "stdout",
     "output_type": "stream",
     "text": [
      "<class 'list'>\n",
      "5\n",
      "<class 'dict'>\n"
     ]
    }
   ],
   "source": [
    "# print(len(res))\n",
    "words = res['images'][0]['fields']\n",
    "print(type(words)) # 단어의 수\n",
    "print(len(words)) # 단어의 수\n",
    "print(type(words[0])) # <class 'dict'>"
   ]
  },
  {
   "cell_type": "code",
   "execution_count": 5,
   "metadata": {},
   "outputs": [
    {
     "name": "stdout",
     "output_type": "stream",
     "text": [
      "사랑의\n",
      "불시착\n",
      "주연:\n",
      "현빈,\n",
      "손예진\n"
     ]
    }
   ],
   "source": [
    "for word in words:\n",
    "    print(word['inferText'])"
   ]
  },
  {
   "cell_type": "code",
   "execution_count": 6,
   "metadata": {},
   "outputs": [
    {
     "name": "stdout",
     "output_type": "stream",
     "text": [
      "사랑의 불시착 주연: 현빈, 손예진\n"
     ]
    }
   ],
   "source": [
    "wlist = []\n",
    "for word in words:\n",
    "    wlist.append((word['inferText']))\n",
    "    \n",
    "print(\" \".join(wlist))"
   ]
  },
  {
   "cell_type": "code",
   "execution_count": null,
   "metadata": {},
   "outputs": [],
   "source": []
  },
  {
   "cell_type": "code",
   "execution_count": null,
   "metadata": {},
   "outputs": [],
   "source": []
  }
 ],
 "metadata": {
  "kernelspec": {
   "display_name": "pydata",
   "language": "python",
   "name": "pydata"
  },
  "language_info": {
   "codemirror_mode": {
    "name": "ipython",
    "version": 3
   },
   "file_extension": ".py",
   "mimetype": "text/x-python",
   "name": "python",
   "nbconvert_exporter": "python",
   "pygments_lexer": "ipython3",
   "version": "3.7.11"
  }
 },
 "nbformat": 4,
 "nbformat_minor": 2
}
