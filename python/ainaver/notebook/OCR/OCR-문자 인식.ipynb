{
 "cells": [
  {
   "cell_type": "code",
   "execution_count": 14,
   "id": "6937a6c5",
   "metadata": {},
   "outputs": [
    {
     "name": "stdout",
     "output_type": "stream",
     "text": [
      "{'code': '0002', 'message': 'Secret validate failed', 'path': '/external/v1/11999/28373b3e407ad3b9657c025fbd54a112f8712ef96cd803d051a2667584e8dfcd/general', 'timestamp': 1635324935966}\n"
     ]
    }
   ],
   "source": [
    "import json\n",
    "import base64\n",
    "import requests\n",
    " \n",
    "with open(\"./sample1.jpg\", \"rb\") as f:\n",
    "    img = base64.b64encode(f.read())\n",
    " \n",
    "# 본인의 APIGW Invoke URL로 치환\n",
    "URL = \"https://2a7f5555eea34169a70f8e594ed26aa4.apigw.ntruss.com/custom/v1/11999/28373b3e407ad3b9657c025fbd54a112f8712ef96cd803d051a2667584e8dfcd/general\"\n",
    "   \n",
    "# 본인의 Secret Key로 치환\n",
    "KEY = \"QWdiYnpMTkJuTElDZE1ndklnbUJvVGx1R2d6bGdNcmQ=\"\n",
    "    \n",
    "headers = {\n",
    "    \"Content-Type\": \"application/json\",\n",
    "    \"X-OCR-SECRET\": KEY\n",
    "}\n",
    "    \n",
    "data = {\n",
    "    \"version\": \"V1\",\n",
    "    \"requestId\": \"sample_id\", # 요청을 구분하기 위한 ID, 사용자가 정의\n",
    "    \"timestamp\": 0, # 현재 시간값\n",
    "    \"images\": [\n",
    "        {\n",
    "            \"name\": \"sample_image\",\n",
    "            \"format\": \"jpg\",\n",
    "            \"data\": img.decode('utf-8')\n",
    "        }\n",
    "    ]\n",
    "}\n",
    "data = json.dumps(data)\n",
    "response = requests.post(URL, data=data, headers=headers)\n",
    "res = json.loads(response.text)\n",
    "print(res)\n",
    "\n"
   ]
  },
  {
   "cell_type": "code",
   "execution_count": 16,
   "id": "c69a8250",
   "metadata": {},
   "outputs": [
    {
     "ename": "KeyError",
     "evalue": "'images'",
     "output_type": "error",
     "traceback": [
      "\u001b[0;31m---------------------------------------------------------------------------\u001b[0m",
      "\u001b[0;31mKeyError\u001b[0m                                  Traceback (most recent call last)",
      "\u001b[0;32m/var/folders/9v/mrr33jr93lq6q6q76dxm53vr0000gn/T/ipykernel_35612/2516714554.py\u001b[0m in \u001b[0;36m<module>\u001b[0;34m\u001b[0m\n\u001b[0;32m----> 1\u001b[0;31m \u001b[0mprint\u001b[0m\u001b[0;34m(\u001b[0m\u001b[0mres\u001b[0m\u001b[0;34m[\u001b[0m\u001b[0;34m'images'\u001b[0m\u001b[0;34m]\u001b[0m\u001b[0;34m[\u001b[0m\u001b[0;36m0\u001b[0m\u001b[0;34m]\u001b[0m\u001b[0;34m[\u001b[0m\u001b[0;34m'fields'\u001b[0m\u001b[0;34m]\u001b[0m\u001b[0;34m)\u001b[0m \u001b[0;31m# 단어 정보와 밀접한 부분\u001b[0m\u001b[0;34m\u001b[0m\u001b[0;34m\u001b[0m\u001b[0m\n\u001b[0m\u001b[1;32m      2\u001b[0m \u001b[0;34m\u001b[0m\u001b[0m\n\u001b[1;32m      3\u001b[0m \u001b[0;31m# return 되는 JSON 형식 분해\u001b[0m\u001b[0;34m\u001b[0m\u001b[0;34m\u001b[0m\u001b[0;34m\u001b[0m\u001b[0m\n\u001b[1;32m      4\u001b[0m \u001b[0;31m# [\u001b[0m\u001b[0;34m\u001b[0m\u001b[0;34m\u001b[0m\u001b[0;34m\u001b[0m\u001b[0m\n\u001b[1;32m      5\u001b[0m \u001b[0;31m#   {\u001b[0m\u001b[0;34m\u001b[0m\u001b[0;34m\u001b[0m\u001b[0;34m\u001b[0m\u001b[0m\n",
      "\u001b[0;31mKeyError\u001b[0m: 'images'"
     ]
    }
   ],
   "source": [
    "print(res['images'][0]['fields']) # 단어 정보와 밀접한 부분\n",
    "\n",
    "# return 되는 JSON 형식 분해\n",
    "# [\n",
    "#   {\n",
    "#     'valueType': 'ALL', \n",
    "#     'boundingPoly': {'vertices': [{'x': 356.0, 'y': 35.0}, {'x': 424.0, 'y': 35.0}, {'x': 424.0, 'y': 62.0}, {'x': 356.0, 'y': 62.0}]}, \n",
    "#     'inferText': '사랑의', \n",
    "#     'inferConfidence': 0.9993\n",
    "#   }, \n",
    "#   {\n",
    "#     'valueType': 'ALL', \n",
    "#     'boundingPoly': {'vertices': [{'x': 431.0, 'y': 34.0}, {'x': 501.0, 'y': 34.0}, {'x': 501.0, 'y': 63.0}, {'x': 431.0, 'y': 63.0}]},\n",
    "#     'inferText': '불시착', \n",
    "#     'inferConfidence': 1.0\n",
    "#   }, \n",
    "#   {\n",
    "#     'valueType': 'ALL', \n",
    "#     'boundingPoly': {'vertices': [{'x': 504.0, 'y': 35.0}, {'x': 562.0, 'y': 35.0}, {'x': 562.0, 'y': 61.0}, {'x': 504.0, 'y': 61.0}]}, \n",
    "#     'inferText': '주연:', \n",
    "#     'inferConfidence': 0.9982\n",
    "#   }, \n",
    "#   {\n",
    "#     'valueType': 'ALL', \n",
    "#     'boundingPoly': {'vertices': [{'x': 567.0, 'y': 35.0}, {'x': 623.0, 'y': 35.0}, {'x': 623.0, 'y': 64.0}, {'x': 567.0, 'y': 64.0}]},\n",
    "#     'inferText': '현빈,',\n",
    "#     'inferConfidence': 0.9996}, \n",
    "#   {\n",
    "#     'valueType': 'ALL',\n",
    "#     'boundingPoly': {'vertices': [{'x': 626.0, 'y': 35.0}, {'x': 694.0, 'y': 35.0}, {'x': 694.0, 'y': 61.0}, {'x': 626.0, 'y': 61.0}]},\n",
    "#     'inferText': '손예진',\n",
    "#     'inferConfidence': 0.9978\n",
    "#   }\n",
    "# ]\n",
    "\n"
   ]
  },
  {
   "cell_type": "code",
   "execution_count": 17,
   "id": "29638310",
   "metadata": {},
   "outputs": [
    {
     "ename": "KeyError",
     "evalue": "'images'",
     "output_type": "error",
     "traceback": [
      "\u001b[0;31m---------------------------------------------------------------------------\u001b[0m",
      "\u001b[0;31mKeyError\u001b[0m                                  Traceback (most recent call last)",
      "\u001b[0;32m/var/folders/9v/mrr33jr93lq6q6q76dxm53vr0000gn/T/ipykernel_35612/2782300549.py\u001b[0m in \u001b[0;36m<module>\u001b[0;34m\u001b[0m\n\u001b[1;32m      1\u001b[0m \u001b[0;31m# print(len(res))\u001b[0m\u001b[0;34m\u001b[0m\u001b[0;34m\u001b[0m\u001b[0;34m\u001b[0m\u001b[0m\n\u001b[0;32m----> 2\u001b[0;31m \u001b[0mwords\u001b[0m \u001b[0;34m=\u001b[0m \u001b[0mres\u001b[0m\u001b[0;34m[\u001b[0m\u001b[0;34m'images'\u001b[0m\u001b[0;34m]\u001b[0m\u001b[0;34m[\u001b[0m\u001b[0;36m0\u001b[0m\u001b[0;34m]\u001b[0m\u001b[0;34m[\u001b[0m\u001b[0;34m'fields'\u001b[0m\u001b[0;34m]\u001b[0m\u001b[0;34m\u001b[0m\u001b[0;34m\u001b[0m\u001b[0m\n\u001b[0m\u001b[1;32m      3\u001b[0m \u001b[0mprint\u001b[0m\u001b[0;34m(\u001b[0m\u001b[0mtype\u001b[0m\u001b[0;34m(\u001b[0m\u001b[0mwords\u001b[0m\u001b[0;34m)\u001b[0m\u001b[0;34m)\u001b[0m \u001b[0;31m# 단어의 수\u001b[0m\u001b[0;34m\u001b[0m\u001b[0;34m\u001b[0m\u001b[0m\n\u001b[1;32m      4\u001b[0m \u001b[0mprint\u001b[0m\u001b[0;34m(\u001b[0m\u001b[0mlen\u001b[0m\u001b[0;34m(\u001b[0m\u001b[0mwords\u001b[0m\u001b[0;34m)\u001b[0m\u001b[0;34m)\u001b[0m \u001b[0;31m# 단어의 수\u001b[0m\u001b[0;34m\u001b[0m\u001b[0;34m\u001b[0m\u001b[0m\n\u001b[1;32m      5\u001b[0m \u001b[0mprint\u001b[0m\u001b[0;34m(\u001b[0m\u001b[0mtype\u001b[0m\u001b[0;34m(\u001b[0m\u001b[0mwords\u001b[0m\u001b[0;34m[\u001b[0m\u001b[0;36m0\u001b[0m\u001b[0;34m]\u001b[0m\u001b[0;34m)\u001b[0m\u001b[0;34m)\u001b[0m \u001b[0;31m# <class 'dict'>\u001b[0m\u001b[0;34m\u001b[0m\u001b[0;34m\u001b[0m\u001b[0m\n",
      "\u001b[0;31mKeyError\u001b[0m: 'images'"
     ]
    }
   ],
   "source": [
    "# print(len(res))\n",
    "words = res['images'][0]['fields']\n",
    "print(type(words)) # 단어의 수\n",
    "print(len(words)) # 단어의 수\n",
    "print(type(words[0])) # <class 'dict'>\n",
    "\n",
    "wlist = []\n",
    "for word in words:\n",
    "    wlist.append((word['inferText']))\n",
    "    \n",
    "print(\" \".join(wlist))"
   ]
  },
  {
   "cell_type": "code",
   "execution_count": null,
   "id": "57335997",
   "metadata": {},
   "outputs": [],
   "source": []
  }
 ],
 "metadata": {
  "kernelspec": {
   "display_name": "pydata",
   "language": "python",
   "name": "pydata"
  },
  "language_info": {
   "codemirror_mode": {
    "name": "ipython",
    "version": 3
   },
   "file_extension": ".py",
   "mimetype": "text/x-python",
   "name": "python",
   "nbconvert_exporter": "python",
   "pygments_lexer": "ipython3",
   "version": "3.7.11"
  }
 },
 "nbformat": 4,
 "nbformat_minor": 5
}
