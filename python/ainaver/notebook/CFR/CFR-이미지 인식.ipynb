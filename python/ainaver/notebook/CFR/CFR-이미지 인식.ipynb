{
 "cells": [
  {
   "cell_type": "code",
   "execution_count": 5,
   "id": "de495aab",
   "metadata": {},
   "outputs": [
    {
     "name": "stdout",
     "output_type": "stream",
     "text": [
      "{\"info\":{\"size\":{\"width\":768,\"height\":432},\"faceCount\":5},\"faces\":[{\"celebrity\":{\"value\":\"문지인\",\"confidence\":0.110976}},{\"celebrity\":{\"value\":\"이하늬\",\"confidence\":1.0}},{\"celebrity\":{\"value\":\"최필립\",\"confidence\":0.230298}},{\"celebrity\":{\"value\":\"김남길\",\"confidence\":0.299176}},{\"celebrity\":{\"value\":\"김성균\",\"confidence\":0.633564}}]}\n",
      "발견된 얼굴수: 5 명\n",
      "감지된 얼굴 1: 문지인 11 %\n",
      "감지된 얼굴 2: 이하늬 100 %\n",
      "감지된 얼굴 3: 최필립 23 %\n",
      "감지된 얼굴 4: 김남길 30 %\n",
      "감지된 얼굴 5: 김성균 63 %\n"
     ]
    }
   ],
   "source": [
    "import os\n",
    "import sys\n",
    "import requests\n",
    "import json\n",
    " \n",
    "client_id = \"u1pqczihtl\"\n",
    "client_secret = \"bKCOGBShLZ9iD31t3xZhQr2XbVKw1lQBRWgvpLNQ\"\n",
    " \n",
    "url = \"https://naveropenapi.apigw.ntruss.com/vision/v1/celebrity\" \n",
    " \n",
    "# 유명인 얼굴인식\n",
    " \n",
    "# files = {'image': open('./조정석.jpg', 'rb')}\n",
    "# {\"info\":{\"size\":{\"width\":390,\"height\":429},\"faceCount\":1},\"faces\":[{\"celebrity\":{\"value\":\"조정석\",\"confidence\":1.0}}]}\n",
    " \n",
    "# files = {'image': open('./김남길.jpg', 'rb')}\n",
    "# {\"info\":{\"size\":{\"width\":500,\"height\":291},\"faceCount\":1},\"faces\":[{\"celebrity\":{\"value\":\"김남길\",\"confidence\":0.18698}}]}\n",
    " \n",
    "# files = {'image': open('./이하늬.jpg', 'rb')}\n",
    "# {\"info\":{\"size\":{\"width\":390,\"height\":532},\"faceCount\":1},\"faces\":[{\"celebrity\":{\"value\":\"이하늬\",\"confidence\":1.0}}]}\n",
    " \n",
    "files = {'image': open('./검은 사제들.jpg', 'rb')}  # 3명 찾음.\n",
    "# {\"info\":{\"size\":{\"width\":768,\"height\":432},\"faceCount\":5},\"faces\":[{\"celebrity\":{\"value\":\"문지인\",\"confidence\":0.105306}},{\"celebrity\":{\"value\":\"이하늬\",\"confidence\":1.0}},{\"celebrity\":{\"value\":\"최필립\",\"confidence\":0.207688}},{\"celebrity\":{\"value\":\"김남길\",\"confidence\":0.357709}},{\"celebrity\":{\"value\":\"김성균\",\"confidence\":0.958674}}]}\n",
    " \n",
    "headers = {'X-NCP-APIGW-API-KEY-ID': client_id, 'X-NCP-APIGW-API-KEY': client_secret }\n",
    "response = requests.post(url,  files=files, headers=headers)\n",
    "rescode = response.status_code\n",
    " \n",
    "if(rescode==200):\n",
    "    print (response.text)\n",
    "    data = json.loads(response.text)\n",
    "    print('발견된 얼굴수: {0} 명'.format(len(data['faces'])))\n",
    "    \n",
    "    for i in range(len(data['faces'])):\n",
    "        name = data['faces'][i]['celebrity']['value']\n",
    "        per = data['faces'][i]['celebrity']['confidence']\n",
    "        print(\"감지된 얼굴 {0}: {1} {2} %\".format(i+1, name, round(per*100)))\n",
    "else:\n",
    "    print(\"Error Code:\" + rescode)"
   ]
  },
  {
   "cell_type": "code",
   "execution_count": null,
   "id": "4d777042",
   "metadata": {},
   "outputs": [],
   "source": []
  }
 ],
 "metadata": {
  "kernelspec": {
   "display_name": "pydata",
   "language": "python",
   "name": "pydata"
  },
  "language_info": {
   "codemirror_mode": {
    "name": "ipython",
    "version": 3
   },
   "file_extension": ".py",
   "mimetype": "text/x-python",
   "name": "python",
   "nbconvert_exporter": "python",
   "pygments_lexer": "ipython3",
   "version": "3.7.11"
  }
 },
 "nbformat": 4,
 "nbformat_minor": 5
}
