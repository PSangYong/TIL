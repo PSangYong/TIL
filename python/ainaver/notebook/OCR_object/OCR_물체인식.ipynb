{
 "cells": [
  {
   "cell_type": "code",
   "execution_count": 1,
   "id": "25deec98",
   "metadata": {},
   "outputs": [
    {
     "name": "stdout",
     "output_type": "stream",
     "text": [
      "{\"predictions\": [{\"num_detections\": 8, \"detection_classes\": [1.0, 8.0, 8.0, 8.0, 8.0, 8.0, 3.0, 6.0], \"detection_names\": [\"person\", \"truck\", \"truck\", \"truck\", \"truck\", \"truck\", \"car\", \"bus\"], \"detection_scores\": [0.99931, 0.932765, 0.840687, 0.717362, 0.619562, 0.485054, 0.410482, 0.390411], \"detection_boxes\": [[0.482306, 0.459366, 0.9119, 0.537677], [0.424638, 0.0693549, 0.788768, 0.299478], [0.479777, 0.721663, 0.725162, 0.980541], [0.504337, 0.602179, 0.72843, 0.737591], [0.575446, 0.526836, 0.711666, 0.586094], [0.570458, 0.360527, 0.719569, 0.441722], [0.591953, 0.900565, 0.783862, 1.0], [0.57244, 0.362141, 0.71167, 0.438824]]}]}\n",
      "발견된 물체수: 8 명\n",
      "['person', 'truck', 'truck', 'truck', 'truck', 'truck', 'car', 'bus']\n",
      "Counter({'truck': 5, 'person': 1, 'car': 1, 'bus': 1})\n",
      "car: 1\n",
      "truck: 5\n",
      "bus: 1\n"
     ]
    }
   ],
   "source": [
    "import os\n",
    "import sys\n",
    "import requests\n",
    "import json\n",
    "import collections\n",
    "client_id = \"nu6cjz7mcd\" # \"YOUR_CLIENT_ID\"\n",
    "client_secret = \"xibdQahSjh3lpJ8Udmv7A8uCVLdwZD4ArjweVN3C\" # \"YOUR_CLIENT_SECRET\"\n",
    "url = \"https://naveropenapi.apigw.ntruss.com/vision-obj/v1/detect\" # 객체 인식\n",
    "# files = {'image': open(file_name, 'rb')}\n",
    "# Counter({'car': 18, 'truck': 13, 'bus': 3})\n",
    "files = {'image': open('./news.jpg', 'rb')}\n",
    "# Counter({'person': 6, 'handbag': 1})\n",
    "headers = {'X-NCP-APIGW-API-KEY-ID': client_id, 'X-NCP-APIGW-API-KEY': client_secret }\n",
    "response = requests.post(url,  files=files, headers=headers)\n",
    "rescode = response.status_code\n",
    "if(rescode==200):\n",
    "    print (response.text)\n",
    "    data = json.loads(response.text)\n",
    "    print('발견된 물체수: {0} 명'.format(data['predictions'][0]['num_detections']))\n",
    "    detection_names = data['predictions'][0]['detection_names']\n",
    "    print(detection_names)\n",
    "    count = collections.Counter(detection_names)\n",
    "    print(count)\n",
    "    print('car:', count['car'])\n",
    "    print('truck:', count['truck'])\n",
    "    print('bus:', count['bus'])\n",
    "else:\n",
    "    print(\"Error Code:\" + rescode)"
   ]
  }
 ],
 "metadata": {
  "kernelspec": {
   "display_name": "pydata",
   "language": "python",
   "name": "pydata"
  },
  "language_info": {
   "codemirror_mode": {
    "name": "ipython",
    "version": 3
   },
   "file_extension": ".py",
   "mimetype": "text/x-python",
   "name": "python",
   "nbconvert_exporter": "python",
   "pygments_lexer": "ipython3",
   "version": "3.7.11"
  }
 },
 "nbformat": 4,
 "nbformat_minor": 5
}
