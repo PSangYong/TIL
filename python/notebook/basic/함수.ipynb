{
 "cells": [
  {
   "cell_type": "code",
   "execution_count": 1,
   "id": "9eb0d6d8",
   "metadata": {},
   "outputs": [
    {
     "name": "stdout",
     "output_type": "stream",
     "text": [
      "25\n",
      "대한민국~만세!!\n"
     ]
    }
   ],
   "source": [
    "def add_number(n1,n2):\n",
    "    ret = n1+n2\n",
    "    return ret\n",
    "\n",
    "def add_txt(t1,t2):\n",
    "    print(t1+t2)\n",
    "    \n",
    "ans = add_number(10,15)\n",
    "print(ans)\n",
    "text1 = '대한민국~'\n",
    "text2 = '만세!!'\n",
    "add_txt(text1,text2)"
   ]
  },
  {
   "cell_type": "code",
   "execution_count": 2,
   "id": "7a948586",
   "metadata": {},
   "outputs": [
    {
     "name": "stdout",
     "output_type": "stream",
     "text": [
      "-3의 절대값 구하기: 3\n",
      "10의 절대값 구하기: 10\n",
      "\n",
      "계산 결과: 82.0\n"
     ]
    }
   ],
   "source": [
    "def abs(number):\n",
    "    if number < 0:\n",
    "        number = -number\n",
    "    return number\n",
    "\n",
    "print('-3의 절대값 구하기:', abs(-3))\n",
    "print('10의 절대값 구하기:', abs(10))\n",
    "print()\n",
    "temp = abs(-9)/3 * abs(20) + 3 + abs(-19) \n",
    "print('계산 결과:', temp)"
   ]
  },
  {
   "cell_type": "code",
   "execution_count": 3,
   "id": "4a7150f0",
   "metadata": {},
   "outputs": [
    {
     "name": "stdout",
     "output_type": "stream",
     "text": [
      "두 수의 합을 구해 출력해주는 함수입니다\n",
      "10 20 의 합은  30 입니다\n",
      "두 수의 합을 구해 출력해주는 함수입니다\n",
      "-87 172 의 합은  85 입니다\n"
     ]
    }
   ],
   "source": [
    " def hap(a, b):\n",
    "    result = a + b\n",
    "    print('두 수의 합을 구해 출력해주는 함수입니다')\n",
    "    print(a, b, '의 합은 ', result, '입니다')\n",
    " \n",
    "hap(10, 20)\n",
    "hap(-87, 172)"
   ]
  },
  {
   "cell_type": "code",
   "execution_count": 4,
   "id": "a3828bc1",
   "metadata": {},
   "outputs": [
    {
     "data": {
      "text/plain": [
       "function"
      ]
     },
     "execution_count": 4,
     "metadata": {},
     "output_type": "execute_result"
    }
   ],
   "source": [
    "type(hap)"
   ]
  },
  {
   "cell_type": "code",
   "execution_count": 5,
   "id": "fd97d156",
   "metadata": {},
   "outputs": [
    {
     "data": {
      "text/plain": [
       "True"
      ]
     },
     "execution_count": 5,
     "metadata": {},
     "output_type": "execute_result"
    }
   ],
   "source": [
    "import types\n",
    "type(hap) == types.FunctionType"
   ]
  },
  {
   "cell_type": "code",
   "execution_count": 6,
   "id": "fe5014c8",
   "metadata": {},
   "outputs": [
    {
     "data": {
      "text/plain": [
       "'function'"
      ]
     },
     "execution_count": 6,
     "metadata": {},
     "output_type": "execute_result"
    }
   ],
   "source": [
    "types.FunctionType.__name__"
   ]
  },
  {
   "cell_type": "code",
   "execution_count": 8,
   "id": "010d4e94",
   "metadata": {},
   "outputs": [
    {
     "data": {
      "text/plain": [
       "True"
      ]
     },
     "execution_count": 8,
     "metadata": {},
     "output_type": "execute_result"
    }
   ],
   "source": [
    "isinstance(hap,types.FunctionType)"
   ]
  },
  {
   "cell_type": "code",
   "execution_count": 9,
   "id": "63361870",
   "metadata": {},
   "outputs": [
    {
     "name": "stdout",
     "output_type": "stream",
     "text": [
      "The string inside the function: hello_changed\n",
      "hello\n"
     ]
    }
   ],
   "source": [
    "def changestr(mystr):\n",
    "     mystr = mystr + '_changed'\n",
    "     print ('The string inside the function: {}'.format(mystr))\n",
    "     return\n",
    "mystr = 'hello'\n",
    "changestr(mystr)\n",
    " \n",
    "print(mystr)"
   ]
  },
  {
   "cell_type": "code",
   "execution_count": 10,
   "id": "b824d435",
   "metadata": {},
   "outputs": [
    {
     "name": "stdout",
     "output_type": "stream",
     "text": [
      "140252309839088\n",
      "The string inside the function: hello_changed\n",
      "140252328930032\n",
      "hello\n"
     ]
    }
   ],
   "source": [
    "def changestr(mystr):\n",
    "     print(id(mystr))\n",
    "     mystr = mystr + '_changed'\n",
    "     print ('The string inside the function: {}'.format(mystr))\n",
    "     print(id(mystr))\n",
    "     return\n",
    "mystr = 'hello'\n",
    "changestr(mystr)\n",
    " \n",
    "print(mystr) "
   ]
  },
  {
   "cell_type": "code",
   "execution_count": 11,
   "id": "06a62cc8",
   "metadata": {},
   "outputs": [
    {
     "name": "stdout",
     "output_type": "stream",
     "text": [
      "8\n",
      "6\n"
     ]
    }
   ],
   "source": [
    "# 두 개의 값과  함수를 매개변수로 받는 함수를 정의\n",
    "def perform_calc(value1, value2, func):\n",
    "     return func(value1, value2)\n",
    " \n",
    "# 넘겨줄 수학 함수를 정의\n",
    "def mult_values(value1, value2):\n",
    "     return value1 * value2\n",
    "\n",
    "#함수 호출\n",
    "print(perform_calc(2, 4, mult_values))\n",
    " \n",
    "#  넘겨줄 또 다른 함수를 정의\n",
    "def add_values(value1, value2):\n",
    "     return value1 + value2\n",
    " \n",
    "print(perform_calc(2, 4, add_values))"
   ]
  },
  {
   "cell_type": "code",
   "execution_count": 13,
   "id": "d92606b9",
   "metadata": {},
   "outputs": [
    {
     "name": "stdout",
     "output_type": "stream",
     "text": [
      "good morning Everyone\n",
      "good morning Mr.Park\n"
     ]
    }
   ],
   "source": [
    "def report(message, who = 'Everyone'):\n",
    "    print(message,who)\n",
    "    \n",
    "report('good morning')\n",
    "report('good morning', 'Mr.Park')"
   ]
  },
  {
   "cell_type": "code",
   "execution_count": 17,
   "id": "ab2e0b71",
   "metadata": {},
   "outputs": [
    {
     "ename": "SyntaxError",
     "evalue": "positional argument follows keyword argument (1653274311.py, line 9)",
     "output_type": "error",
     "traceback": [
      "\u001b[0;36m  File \u001b[0;32m\"/var/folders/9v/mrr33jr93lq6q6q76dxm53vr0000gn/T/ipykernel_3161/1653274311.py\"\u001b[0;36m, line \u001b[0;32m9\u001b[0m\n\u001b[0;31m    func(a='py', 'thon')\u001b[0m\n\u001b[0m                ^\u001b[0m\n\u001b[0;31mSyntaxError\u001b[0m\u001b[0;31m:\u001b[0m positional argument follows keyword argument\n"
     ]
    }
   ],
   "source": [
    "def func(a,b):\n",
    "    print(a,b,sep=\"-\")\n",
    "\n",
    "\n",
    "func('py','thon')  #위치로 매핑\n",
    "\n",
    "func('py', b='thon') \n"
   ]
  },
  {
   "cell_type": "code",
   "execution_count": 18,
   "id": "96ddafc4",
   "metadata": {},
   "outputs": [
    {
     "name": "stdout",
     "output_type": "stream",
     "text": [
      "name = 박길동\n",
      "position = staff\n",
      "nationality = Korea\n",
      "\n",
      "\n",
      "name = 박길동\n",
      "position = staff\n",
      "nationality = ROK\n",
      "\n",
      "\n",
      "name = 박길동\n",
      "position = 인턴\n",
      "nationality = Korea\n",
      "\n",
      "\n"
     ]
    }
   ],
   "source": [
    "def print_personnel(name, position=\"staff\",nationality=\"Korea\"):\n",
    "       print(\"name = {0}\".format(name))\n",
    "       print(\"position = {0}\".format(position))\n",
    "       print(\"nationality = {0}\".format(nationality))\n",
    "       print(\"\\n\")\n",
    " \n",
    "print_personnel(\"박길동\")\n",
    " \n",
    "print_personnel(nationality=\"ROK\", name=\"박길동\")\n",
    " \n",
    "print_personnel(position=\"인턴\", name=\"박길동\")"
   ]
  },
  {
   "cell_type": "code",
   "execution_count": 19,
   "id": "1869d31c",
   "metadata": {},
   "outputs": [
    {
     "data": {
      "text/plain": [
       "[2, 4, 6, 8, 10]"
      ]
     },
     "execution_count": 19,
     "metadata": {},
     "output_type": "execute_result"
    }
   ],
   "source": [
    "def select_event(*arg):\n",
    "    result = []\n",
    "    for num in arg:\n",
    "        if num % 2 == 1:\n",
    "            continue\n",
    "        result.append(num)\n",
    "    return result\n",
    "\n",
    "select_event(1,2,3,4,5,6,7,8,9,10)"
   ]
  },
  {
   "cell_type": "code",
   "execution_count": 20,
   "id": "a2711085",
   "metadata": {},
   "outputs": [
    {
     "data": {
      "text/plain": [
       "[-12, 2, 48, 20]"
      ]
     },
     "execution_count": 20,
     "metadata": {},
     "output_type": "execute_result"
    }
   ],
   "source": [
    "select_event(-12,2,81,99,48,20)"
   ]
  },
  {
   "cell_type": "code",
   "execution_count": 22,
   "id": "1ad60c68",
   "metadata": {},
   "outputs": [
    {
     "data": {
      "text/plain": [
       "'홍길동 김길동 '"
      ]
     },
     "execution_count": 22,
     "metadata": {},
     "output_type": "execute_result"
    }
   ],
   "source": [
    "def merge_string(*text_list):\n",
    "    result=\"\"\n",
    "    for s in text_list:\n",
    "        result= result + s + \" \"\n",
    "    return result\n",
    "\n",
    "merge_string('홍길동', '김길동')"
   ]
  },
  {
   "cell_type": "code",
   "execution_count": 26,
   "id": "3d6123ab",
   "metadata": {},
   "outputs": [
    {
     "name": "stdout",
     "output_type": "stream",
     "text": [
      "카시아스 = GK\n",
      "호널두 = FW\n",
      "알론소 = MF\n",
      "페페 = DF\n"
     ]
    }
   ],
   "source": [
    "def print_team(**players):\n",
    "    for k in players:\n",
    "        print('{} = {}'.format(k,players[k]))\n",
    "        \n",
    "print_team(카시아스='GK', 호널두='FW', 알론소='MF', 페페 = 'DF')"
   ]
  },
  {
   "cell_type": "code",
   "execution_count": 27,
   "id": "af9843ac",
   "metadata": {},
   "outputs": [
    {
     "name": "stdout",
     "output_type": "stream",
     "text": [
      "카시아스 = GK\n",
      "호널두 = FW\n",
      "알론소 = MF\n",
      "페페 = DF\n"
     ]
    }
   ],
   "source": [
    "def print_team(**players):\n",
    "    for k in players.keys():\n",
    "            print('{0} = {1}'.format(k, players[k]))\n",
    "        \n",
    "print_team(카시아스='GK', 호널두='FW', 알론소='MF', 페페 = 'DF')"
   ]
  },
  {
   "cell_type": "code",
   "execution_count": 28,
   "id": "ab5a2941",
   "metadata": {},
   "outputs": [
    {
     "name": "stdout",
     "output_type": "stream",
     "text": [
      "()\n",
      "(3, 5, 1, 5)\n",
      "{}\n",
      "{'depth': 50, 'color': 'blue'}\n"
     ]
    }
   ],
   "source": [
    "def func1(*args):  \n",
    "   print(args)\n",
    " \n",
    "def func2(width, height, **kwargs):\n",
    "   print(kwargs)\n",
    " \n",
    "func1()                          # 빈 튜플 ( ) 이 출력됨\n",
    "func1(3, 5, 1, 5)               # (3, 5, 1, 5)가 출력됨\n",
    "func2(10, 20)                  # 빈 사전 { }이 출력됨\n",
    "func2(10, 20, depth=50, color='blue')  #{‘depth’:50, ‘color’:’blue’} 이 출력됨\n"
   ]
  },
  {
   "cell_type": "code",
   "execution_count": 31,
   "id": "0953d42d",
   "metadata": {},
   "outputs": [],
   "source": [
    "def turnNone(value):\n",
    "    x = value\n",
    "    \n",
    "turnNone(100)"
   ]
  },
  {
   "cell_type": "code",
   "execution_count": 32,
   "id": "e6ee40a2",
   "metadata": {},
   "outputs": [
    {
     "data": {
      "text/plain": [
       "1000"
      ]
     },
     "execution_count": 32,
     "metadata": {},
     "output_type": "execute_result"
    }
   ],
   "source": [
    "def turnValue(value):\n",
    "    return value*10\n",
    "\n",
    "turnValue(100)"
   ]
  },
  {
   "cell_type": "code",
   "execution_count": 33,
   "id": "05d67c8f",
   "metadata": {},
   "outputs": [
    {
     "data": {
      "text/plain": [
       "(100, 101, 102)"
      ]
     },
     "execution_count": 33,
     "metadata": {},
     "output_type": "execute_result"
    }
   ],
   "source": [
    "def turnSet(value):\n",
    "    return (value, value+1, value+2)\n",
    "turnSet(100)"
   ]
  },
  {
   "cell_type": "code",
   "execution_count": 34,
   "id": "7725e837",
   "metadata": {},
   "outputs": [
    {
     "data": {
      "text/plain": [
       "(100, 99, 98)"
      ]
     },
     "execution_count": 34,
     "metadata": {},
     "output_type": "execute_result"
    }
   ],
   "source": [
    "def turnTuple(value):\n",
    "    return value, value-1, value-2\n",
    "\n",
    "turnTuple(100)"
   ]
  },
  {
   "cell_type": "code",
   "execution_count": 36,
   "id": "75903a88",
   "metadata": {},
   "outputs": [
    {
     "name": "stdout",
     "output_type": "stream",
     "text": [
      "Help on function print_odd in module __main__:\n",
      "\n",
      "print_odd(start, end)\n",
      "    주어진 범위에서 홀수를 리스트로 만들어 주는 함수입니다.\n",
      "    start: 시작 값을 지정합니다.\n",
      "    end: 끝 값을 지정합니다.\n",
      "\n",
      "--------------------------------------------------\n",
      "Help on function print_odd in module __main__:\n",
      "\n",
      "print_odd(start, end)\n",
      "    변경은 여기서 합니다\n",
      "\n",
      "--------------------------------------------------\n",
      "[3, 5, 7, 9, 11, 13, 15, 17, 19]\n"
     ]
    }
   ],
   "source": [
    "def print_odd(start, end):\n",
    "    '''주어진 범위에서 홀수를 리스트로 만들어 주는 함수입니다.\n",
    "    start: 시작 값을 지정합니다.\n",
    "    end: 끝 값을 지정합니다.'''\n",
    "    result = []\n",
    "    for num in range(start, end+1):\n",
    "        if num%2 == 0:\n",
    "            continue\n",
    "        result.append(num)\n",
    " \n",
    "    return result\n",
    " \n",
    "help(print_odd)\n",
    "print('-' * 50)\n",
    "print_odd.__doc__ = '''변경은 여기서 합니다'''\n",
    "help(print_odd)\n",
    "print('-' * 50)\n",
    "print(print_odd(3, 19))"
   ]
  },
  {
   "cell_type": "code",
   "execution_count": null,
   "id": "c4108fd5",
   "metadata": {},
   "outputs": [],
   "source": []
  }
 ],
 "metadata": {
  "kernelspec": {
   "display_name": "pydata",
   "language": "python",
   "name": "pydata"
  },
  "language_info": {
   "codemirror_mode": {
    "name": "ipython",
    "version": 3
   },
   "file_extension": ".py",
   "mimetype": "text/x-python",
   "name": "python",
   "nbconvert_exporter": "python",
   "pygments_lexer": "ipython3",
   "version": "3.7.11"
  }
 },
 "nbformat": 4,
 "nbformat_minor": 5
}
