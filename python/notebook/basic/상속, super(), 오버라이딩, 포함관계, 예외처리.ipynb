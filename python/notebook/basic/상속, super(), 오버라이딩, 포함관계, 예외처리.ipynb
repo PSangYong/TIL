{
 "cells": [
  {
   "cell_type": "code",
   "execution_count": 1,
   "id": "3a8d356d",
   "metadata": {},
   "outputs": [
    {
     "name": "stdout",
     "output_type": "stream",
     "text": [
      "로봇이 이동한다.\n",
      "청소로봇이 먼지를 쓸어 담는다.\n",
      "로봇이 이동한다.\n"
     ]
    }
   ],
   "source": [
    "class Robot:  #부모 클래스\n",
    "    '''다양한 로봇을 만드는 클래스'''\n",
    "    def speak(self):\n",
    "        print('로봇이 말한다.')\n",
    "        \n",
    "    def move(self):\n",
    "        print('로봇이 이동한다.')\n",
    " \n",
    "    def charge(self):\n",
    "        print('로봇이 충전한다.')\n",
    "        \n",
    "class CleanRobot(Robot): #자식클래스 \n",
    "    def broom(self):\n",
    "        print('청소로봇이 먼지를 쓸어 담는다.')\n",
    " \n",
    "robot = Robot() #부모객체만 생성된다.\n",
    "robot.move()\n",
    " \n",
    " #자식객체 생성되면 부모의 객체도 생성됨. 부모의 속성, 메소드 상속받음\n",
    "clean = CleanRobot()\n",
    "clean.broom()\n",
    "clean.move()"
   ]
  },
  {
   "cell_type": "code",
   "execution_count": 6,
   "id": "77ba0b98",
   "metadata": {},
   "outputs": [
    {
     "data": {
      "text/plain": [
       "'아리'"
      ]
     },
     "execution_count": 6,
     "metadata": {},
     "output_type": "execute_result"
    }
   ],
   "source": [
    "class Parent :\n",
    "    def __init__(self,name) :\n",
    "        self.name = name\n",
    " \n",
    "class child(Parent) : # Parent 상속\n",
    "    pass\n",
    " \n",
    "#c = child() # 부모의 매개변수와 인자값이 달라 오류난다.\n",
    "c = child('아리')\n",
    "c.name"
   ]
  },
  {
   "cell_type": "code",
   "execution_count": 7,
   "id": "f9c284f8",
   "metadata": {},
   "outputs": [
    {
     "name": "stdout",
     "output_type": "stream",
     "text": [
      "김길동\n"
     ]
    },
    {
     "data": {
      "text/plain": [
       "28"
      ]
     },
     "execution_count": 7,
     "metadata": {},
     "output_type": "execute_result"
    }
   ],
   "source": [
    "class Parent :\n",
    "    def __init__(self,name) :\n",
    "        self.name = name\n",
    " \n",
    "class child(Parent) : # Parent 상속\n",
    "    def __init__(self,name, age):\n",
    "        super().__init__(name) #부모의 __init__()호출\n",
    "        self.age = age\n",
    " \n",
    "c = child('김길동',28)\n",
    " \n",
    "print(c.name)\n",
    "c.age"
   ]
  },
  {
   "cell_type": "code",
   "execution_count": 8,
   "id": "0c737574",
   "metadata": {},
   "outputs": [
    {
     "name": "stdout",
     "output_type": "stream",
     "text": [
      "먼지필터를 장착한 깔끔이로봇, (20, 45)에서 시작\n",
      "로봇이 이동한다.\n",
      "청소로봇이 먼지를 쓸어 담는다.\n"
     ]
    }
   ],
   "source": [
    "class Robot:\n",
    "    '''다양한 로봇을 만드는 클래스'''\n",
    "    def __init__(self, name, pos):\n",
    "        self.name = name\n",
    "        self.pos = pos\n",
    "        \n",
    "    def move(self):\n",
    "        print('로봇이 이동한다.')\n",
    " \n",
    "    def charge(self):\n",
    "        print('로봇이 충전한다.')\n",
    "        \n",
    "class CleanRobot(Robot):\n",
    "    def __init__(self, name, pos, filtertype):\n",
    "        super().__init__(name, pos)\n",
    "        self.filtertype = filtertype\n",
    "        \n",
    "    def broom(self):\n",
    "        print('청소로봇이 먼지를 쓸어 담는다.')\n",
    " \n",
    "    def __str__(self):\n",
    "        word = '{}를 장착한 {}, {}에서 시작'\\\n",
    "               .format(self.filtertype, self.name, self.pos)\n",
    "        return word\n",
    " \n",
    "clean = CleanRobot('깔끔이로봇', (20, 45), '먼지필터')\n",
    "print(clean) #__str__()의 리턴값이 출력된다.\n",
    "clean.move()\n",
    "clean.broom()"
   ]
  },
  {
   "cell_type": "code",
   "execution_count": 9,
   "id": "056c8abe",
   "metadata": {},
   "outputs": [
    {
     "data": {
      "text/plain": [
       "' 엉엉엉 '"
      ]
     },
     "execution_count": 9,
     "metadata": {},
     "output_type": "execute_result"
    }
   ],
   "source": [
    "class Animal :\n",
    "    def say(self, message) :\n",
    "        return message\n",
    " \n",
    "class Dog(Animal) :\n",
    "    def say(self, message) :\n",
    "        print(\"강아지가 소리를 냅니다.\", message)\n",
    " \n",
    "class Bird(Animal) :\n",
    "    def say(self,message) :\n",
    "        print(\"새가 노래를 부룹니다.\", message) \n",
    "        \n",
    "animal = Animal()\n",
    "animal.say(\" 엉엉엉 \")"
   ]
  },
  {
   "cell_type": "code",
   "execution_count": 10,
   "id": "0af1f0fe",
   "metadata": {},
   "outputs": [
    {
     "name": "stdout",
     "output_type": "stream",
     "text": [
      "강아지가 소리를 냅니다.  멍멍멍 \n"
     ]
    }
   ],
   "source": [
    "dog = Dog()\n",
    "dog.say(\" 멍멍멍 \")"
   ]
  },
  {
   "cell_type": "code",
   "execution_count": 11,
   "id": "e20400a2",
   "metadata": {},
   "outputs": [
    {
     "name": "stdout",
     "output_type": "stream",
     "text": [
      "새가 노래를 부룹니다.  짹짹짹 \n"
     ]
    }
   ],
   "source": [
    "bird = Bird()\n",
    "bird.say(\" 짹짹짹 \")"
   ]
  },
  {
   "cell_type": "code",
   "execution_count": 12,
   "id": "3990f2b9",
   "metadata": {},
   "outputs": [
    {
     "name": "stdout",
     "output_type": "stream",
     "text": [
      "로봇이 이동한다.\n",
      "로봇이 충전한다.\n",
      "청소 로봇이 이동한다.\n",
      "청소 로봇이 충전한다.\n"
     ]
    }
   ],
   "source": [
    "class Robot:\n",
    "    '''다양한 로봇을 만드는 클래스'''      \n",
    "    def move(self):\n",
    "        print('로봇이 이동한다.')\n",
    " \n",
    "    def charge(self):\n",
    "        print('로봇이 충전한다.')\n",
    "        \n",
    "class CleanRobot(Robot):\n",
    "    def move(self):\n",
    "        print('청소 로봇이 이동한다.')\n",
    " \n",
    "    def charge(self):\n",
    "        print('청소 로봇이 충전한다.')\n",
    " \n",
    "robot = Robot()\n",
    "robot.move()\n",
    "robot.charge()\n",
    " \n",
    "clean = CleanRobot()\n",
    "clean.move()\n",
    "clean.charge()"
   ]
  },
  {
   "cell_type": "code",
   "execution_count": 13,
   "id": "d322f42b",
   "metadata": {},
   "outputs": [
    {
     "name": "stdout",
     "output_type": "stream",
     "text": [
      "아로미\n"
     ]
    },
    {
     "data": {
      "text/plain": [
       "25"
      ]
     },
     "execution_count": 13,
     "metadata": {},
     "output_type": "execute_result"
    }
   ],
   "source": [
    "# Client 클래스에 포함될 클래스\n",
    "class Association :\n",
    "    def other_init(self, other, name) : #client같은 다른 객체의 속성을 생성\n",
    "        other.name = name\n",
    " \n",
    "#Association 클래스를 포함할 클래스\n",
    "class Client:\n",
    "    def __init__(self, name, age) :\n",
    "        _name = Association() #속성값으로 Association의 객체를 할당한다.\n",
    "        _name.other_init(self, name)\n",
    "        self.age = age\n",
    " \n",
    "c1 = Client(\"아로미\",25)\n",
    "print(c1.name)\n",
    "c1.age"
   ]
  },
  {
   "cell_type": "code",
   "execution_count": 14,
   "id": "64ab14fe",
   "metadata": {},
   "outputs": [
    {
     "name": "stdout",
     "output_type": "stream",
     "text": [
      "앞으로 이동한다\n",
      "앞으로 이동한다\n",
      "뒤로 이동한다\n",
      "앞으로 이동한다\n",
      "앞으로 이동한다\n",
      "앞으로 이동한다\n",
      "앞으로 이동한다\n",
      "뒤로 이동한다\n",
      "뒤로 이동한다\n",
      "뒤로 이동한다\n",
      "이동거리: 2\n"
     ]
    }
   ],
   "source": [
    "import random\n",
    "#Robot에 포함될 클래스\n",
    "class Motor:\n",
    "    def __init__(self):\n",
    "        self.distance = 0\n",
    "        \n",
    "    def forward(self):\n",
    "        print('앞으로 이동한다')\n",
    "        self.distance += 1\n",
    "        \n",
    "    def backward(self):\n",
    "        print('뒤로 이동한다')\n",
    "        self.distance -= 1\n",
    "        \n",
    " \n",
    "#Moter 객체를 포함할 클래스        \n",
    "class Robot:\n",
    "    '''다양한 로봇을 만드는 클래스'''\n",
    "    def __init__(self):\n",
    "        self.drive = Motor()\n",
    "        \n",
    "    def __str__(self): #객체출력하면 보여줄 문자열\n",
    "        return '이동거리: {}'.format(self.drive.distance)\n",
    " \n",
    "robot = Robot()\n",
    " \n",
    "for i in range(10):\n",
    "    #randint(최소, 최대):최소부터 최대까지 중 임의의 정수를 리턴한다\n",
    "    #0,1 둘중 하나의 값이 임의로 나온다. 0 :false, 1 : true  bool()로 확인\n",
    "    if random.randint(0,1): # 1일때\n",
    "        robot.drive.forward()\n",
    "    else: #0일때\n",
    "        robot.drive.backward()\n",
    "        \n",
    "print(robot) #__str__()가 호출된다.\n"
   ]
  },
  {
   "cell_type": "code",
   "execution_count": null,
   "id": "2217720b",
   "metadata": {},
   "outputs": [],
   "source": []
  }
 ],
 "metadata": {
  "kernelspec": {
   "display_name": "pydata",
   "language": "python",
   "name": "pydata"
  },
  "language_info": {
   "codemirror_mode": {
    "name": "ipython",
    "version": 3
   },
   "file_extension": ".py",
   "mimetype": "text/x-python",
   "name": "python",
   "nbconvert_exporter": "python",
   "pygments_lexer": "ipython3",
   "version": "3.7.11"
  }
 },
 "nbformat": 4,
 "nbformat_minor": 5
}
