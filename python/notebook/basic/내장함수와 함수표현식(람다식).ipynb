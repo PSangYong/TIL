{
 "cells": [
  {
   "cell_type": "code",
   "execution_count": 1,
   "id": "f5704744",
   "metadata": {},
   "outputs": [
    {
     "name": "stdout",
     "output_type": "stream",
     "text": [
      "10\n",
      "10\n",
      "전진하다\n"
     ]
    }
   ],
   "source": [
    "pos = 10\n",
    "neg = -10\n",
    " \n",
    "print(abs(pos))\n",
    "print(abs(neg))\n",
    " \n",
    "if neg > 0 :\n",
    "    print('뒷 걸음질 치다')\n",
    "if abs(neg) > 0 :\n",
    "    print('전진하다')"
   ]
  },
  {
   "cell_type": "code",
   "execution_count": 3,
   "id": "801cd1c7",
   "metadata": {},
   "outputs": [
    {
     "name": "stdout",
     "output_type": "stream",
     "text": [
      "False\n",
      "False\n",
      "False\n",
      "True\n",
      "True\n",
      "True\n"
     ]
    }
   ],
   "source": [
    "num0 = 0\n",
    "num1 = 1\n",
    "empty_list = []\n",
    "full_list = [1, 2, 3]\n",
    "empty_str = \"\"\n",
    "full_str = \"파이썬\"\n",
    " \n",
    "print(bool(num0))\n",
    "print(bool(empty_list))\n",
    "print(bool(empty_str))\n",
    "print(bool(num1))\n",
    "print(bool(full_list))\n",
    "print(bool(full_str))"
   ]
  },
  {
   "cell_type": "code",
   "execution_count": 5,
   "id": "f77ba805",
   "metadata": {},
   "outputs": [
    {
     "name": "stdout",
     "output_type": "stream",
     "text": [
      "좋아하는 색을 입력하세요: 123\n",
      "123색을 좋아하는 군요.\n"
     ]
    }
   ],
   "source": [
    "color = input('좋아하는 색을 입력하세요: ')\n",
    "if not bool(color):\n",
    "    print('색을 반드시 입력해야 합니다.')\n",
    "else:\n",
    "    print(color + '색을 좋아하는 군요.')"
   ]
  },
  {
   "cell_type": "code",
   "execution_count": 7,
   "id": "278af98e",
   "metadata": {},
   "outputs": [
    {
     "name": "stdout",
     "output_type": "stream",
     "text": [
      "['In', 'Out', '_', '__', '___', '__builtin__', '__builtins__', '__doc__', '__loader__', '__name__', '__package__', '__spec__', '_dh', '_i', '_i1', '_i2', '_i3', '_i4', '_i5', '_i6', '_i7', '_ih', '_ii', '_iii', '_oh', 'color', 'empty_list', 'empty_str', 'exit', 'full_list', 'full_str', 'get_ipython', 'myList', 'neg', 'num0', 'num1', 'pos', 'quit']\n",
      "1\n",
      "--------------------------------------------------\n",
      "['__add__', '__class__', '__contains__', '__delattr__', '__delitem__', '__dir__', '__doc__', '__eq__', '__format__', '__ge__', '__getattribute__', '__getitem__', '__gt__', '__hash__', '__iadd__', '__imul__', '__init__', '__init_subclass__', '__iter__', '__le__', '__len__', '__lt__', '__mul__', '__ne__', '__new__', '__reduce__', '__reduce_ex__', '__repr__', '__reversed__', '__rmul__', '__setattr__', '__setitem__', '__sizeof__', '__str__', '__subclasshook__', 'append', 'clear', 'copy', 'count', 'extend', 'index', 'insert', 'pop', 'remove', 'reverse', 'sort']\n",
      "pop\n",
      "--------------------------------------------------\n",
      "Help on built-in function append:\n",
      "\n",
      "append(object, /) method of builtins.list instance\n",
      "    Append object to the end of the list.\n",
      "\n",
      "None\n",
      "\n",
      "--------------------------------------------------\n",
      "Help on list object:\n",
      "\n",
      "class list(object)\n",
      " |  list(iterable=(), /)\n",
      " |  \n",
      " |  Built-in mutable sequence.\n",
      " |  \n",
      " |  If no argument is given, the constructor creates a new empty list.\n",
      " |  The argument must be an iterable if specified.\n",
      " |  \n",
      " |  Methods defined here:\n",
      " |  \n",
      " |  __add__(self, value, /)\n",
      " |      Return self+value.\n",
      " |  \n",
      " |  __contains__(self, key, /)\n",
      " |      Return key in self.\n",
      " |  \n",
      " |  __delitem__(self, key, /)\n",
      " |      Delete self[key].\n",
      " |  \n",
      " |  __eq__(self, value, /)\n",
      " |      Return self==value.\n",
      " |  \n",
      " |  __ge__(self, value, /)\n",
      " |      Return self>=value.\n",
      " |  \n",
      " |  __getattribute__(self, name, /)\n",
      " |      Return getattr(self, name).\n",
      " |  \n",
      " |  __getitem__(...)\n",
      " |      x.__getitem__(y) <==> x[y]\n",
      " |  \n",
      " |  __gt__(self, value, /)\n",
      " |      Return self>value.\n",
      " |  \n",
      " |  __iadd__(self, value, /)\n",
      " |      Implement self+=value.\n",
      " |  \n",
      " |  __imul__(self, value, /)\n",
      " |      Implement self*=value.\n",
      " |  \n",
      " |  __init__(self, /, *args, **kwargs)\n",
      " |      Initialize self.  See help(type(self)) for accurate signature.\n",
      " |  \n",
      " |  __iter__(self, /)\n",
      " |      Implement iter(self).\n",
      " |  \n",
      " |  __le__(self, value, /)\n",
      " |      Return self<=value.\n",
      " |  \n",
      " |  __len__(self, /)\n",
      " |      Return len(self).\n",
      " |  \n",
      " |  __lt__(self, value, /)\n",
      " |      Return self<value.\n",
      " |  \n",
      " |  __mul__(self, value, /)\n",
      " |      Return self*value.\n",
      " |  \n",
      " |  __ne__(self, value, /)\n",
      " |      Return self!=value.\n",
      " |  \n",
      " |  __repr__(self, /)\n",
      " |      Return repr(self).\n",
      " |  \n",
      " |  __reversed__(self, /)\n",
      " |      Return a reverse iterator over the list.\n",
      " |  \n",
      " |  __rmul__(self, value, /)\n",
      " |      Return value*self.\n",
      " |  \n",
      " |  __setitem__(self, key, value, /)\n",
      " |      Set self[key] to value.\n",
      " |  \n",
      " |  __sizeof__(self, /)\n",
      " |      Return the size of the list in memory, in bytes.\n",
      " |  \n",
      " |  append(self, object, /)\n",
      " |      Append object to the end of the list.\n",
      " |  \n",
      " |  clear(self, /)\n",
      " |      Remove all items from list.\n",
      " |  \n",
      " |  copy(self, /)\n",
      " |      Return a shallow copy of the list.\n",
      " |  \n",
      " |  count(self, value, /)\n",
      " |      Return number of occurrences of value.\n",
      " |  \n",
      " |  extend(self, iterable, /)\n",
      " |      Extend list by appending elements from the iterable.\n",
      " |  \n",
      " |  index(self, value, start=0, stop=9223372036854775807, /)\n",
      " |      Return first index of value.\n",
      " |      \n",
      " |      Raises ValueError if the value is not present.\n",
      " |  \n",
      " |  insert(self, index, object, /)\n",
      " |      Insert object before index.\n",
      " |  \n",
      " |  pop(self, index=-1, /)\n",
      " |      Remove and return item at index (default last).\n",
      " |      \n",
      " |      Raises IndexError if list is empty or index is out of range.\n",
      " |  \n",
      " |  remove(self, value, /)\n",
      " |      Remove first occurrence of value.\n",
      " |      \n",
      " |      Raises ValueError if the value is not present.\n",
      " |  \n",
      " |  reverse(self, /)\n",
      " |      Reverse *IN PLACE*.\n",
      " |  \n",
      " |  sort(self, /, *, key=None, reverse=False)\n",
      " |      Stable sort *IN PLACE*.\n",
      " |  \n",
      " |  ----------------------------------------------------------------------\n",
      " |  Static methods defined here:\n",
      " |  \n",
      " |  __new__(*args, **kwargs) from builtins.type\n",
      " |      Create and return a new object.  See help(type) for accurate signature.\n",
      " |  \n",
      " |  ----------------------------------------------------------------------\n",
      " |  Data and other attributes defined here:\n",
      " |  \n",
      " |  __hash__ = None\n",
      "\n",
      "None\n"
     ]
    }
   ],
   "source": [
    "myList = [1, 2, 3]\n",
    " \n",
    "print(dir())  #현재 상태에서 사용할 수 있는 변수들을 보여줌\n",
    "input()\n",
    "print('-' * 50)\n",
    " \n",
    "print(dir(myList)) #리스트형인 myList변수로 사용할 수 있는 함수들을 보여줌\n",
    "input()\n",
    "print('-' * 50)\n",
    " \n",
    "print(help(myList.append)) # append()의 사용법을 보여준다.\n",
    "input()\n",
    "print('-' * 50)\n",
    " \n",
    "print(help(myList))"
   ]
  },
  {
   "cell_type": "code",
   "execution_count": 8,
   "id": "dd7dbb12",
   "metadata": {},
   "outputs": [
    {
     "name": "stdout",
     "output_type": "stream",
     "text": [
      "2000\n",
      "2\n"
     ]
    }
   ],
   "source": [
    "print(eval('1000 * 2'))\n",
    " \n",
    "number = 1\n",
    "exp = 'print(number + 1)'\n",
    "eval(exp)"
   ]
  },
  {
   "cell_type": "code",
   "execution_count": 15,
   "id": "99a3f036",
   "metadata": {},
   "outputs": [
    {
     "name": "stdout",
     "output_type": "stream",
     "text": [
      "I Love Python\n",
      "2\n"
     ]
    }
   ],
   "source": [
    "state1 = 'print(\"I Love Python\")'\n",
    "exec(state1)\n",
    " \n",
    "state2 = '''\n",
    "number = 1\n",
    "for item in [1, 2, 3]:\n",
    "    number = number + 1\n",
    "    if item%2: #0:false, 1이상:true\n",
    "        break\n",
    "print(number)\n",
    "'''\n",
    "exec(state2)"
   ]
  },
  {
   "cell_type": "code",
   "execution_count": 16,
   "id": "48a0690c",
   "metadata": {},
   "outputs": [
    {
     "name": "stdout",
     "output_type": "stream",
     "text": [
      "1 100\n"
     ]
    }
   ],
   "source": [
    "number = 0\n",
    " \n",
    "exp = 'number + 1'\n",
    "code1 = compile(exp, '<string>', 'eval') #<string> 대신, 수식/문장이 저장된 파일명이 올수 있다.\n",
    "for h in range(100):\n",
    "    number = eval(code1)\n",
    "print('1', number)\n",
    " \n"
   ]
  },
  {
   "cell_type": "code",
   "execution_count": 17,
   "id": "9188b86e",
   "metadata": {},
   "outputs": [
    {
     "name": "stdout",
     "output_type": "stream",
     "text": [
      "2 200\n"
     ]
    }
   ],
   "source": [
    "state1 = 'number = number + 1'\n",
    "code2 = compile(state1, '<string>', 'single')\n",
    "for h in range(100):\n",
    "    exec(code2)\n",
    "print('2', number)"
   ]
  },
  {
   "cell_type": "code",
   "execution_count": 18,
   "id": "fbd8c5fd",
   "metadata": {},
   "outputs": [
    {
     "name": "stdout",
     "output_type": "stream",
     "text": [
      "3 202\n"
     ]
    }
   ],
   "source": [
    "state2 = '''\n",
    "for item in [1, 2, 3]:\n",
    "    number = number + 1\n",
    "    if item == 2:\n",
    "        break;\n",
    "print('3', number)\n",
    "'''\n",
    "code3 = compile(state2, '<string>', 'exec')\n",
    "exec(code3)"
   ]
  },
  {
   "cell_type": "code",
   "execution_count": 19,
   "id": "51f7fff4",
   "metadata": {},
   "outputs": [
    {
     "name": "stdout",
     "output_type": "stream",
     "text": [
      "367.53\n",
      "367.5\n",
      "370.0\n",
      "400.0\n"
     ]
    }
   ],
   "source": [
    "print(round(367.5254, 2)) # 소수점 세째자리에서 반올림 해서, 소수점 둘째 자리까지 보여줌 \n",
    " \n",
    "print(round(367.5454, 1))  # 소수점 둘째자리에서 반올림 해서, 소수점 첫째 자리까지 보여줌 \n",
    " \n",
    "print(round(367.5254, -1)) #정수 일의자리에서 반올림 해서 십의자리까지 보여줌\n",
    " \n",
    "print(round(367.5254, -2)) #정수 십의자리에서 반올림 해서 백의자리까지 보여줌"
   ]
  },
  {
   "cell_type": "code",
   "execution_count": 20,
   "id": "050a24ab",
   "metadata": {},
   "outputs": [
    {
     "name": "stdout",
     "output_type": "stream",
     "text": [
      "100\n",
      "2 5\n",
      "21\n"
     ]
    }
   ],
   "source": [
    "print(pow(10, 2))\n",
    " \n",
    "print(round(2.3), round(4.6))\n",
    " \n",
    "myList = [1, 2, 3, 4, 5, 6]\n",
    "print(sum(myList))\n"
   ]
  },
  {
   "cell_type": "code",
   "execution_count": 21,
   "id": "743f16af",
   "metadata": {},
   "outputs": [
    {
     "name": "stdout",
     "output_type": "stream",
     "text": [
      "99 1\n",
      "영문자 중 가장 큰 문자: e\n",
      "서로 다른 문자들 중 큰 문자: a\n",
      "문장 속 최댓값 문자: z\n",
      "문장 속 최솟값 문자:  \n"
     ]
    }
   ],
   "source": [
    "myTup = (56, 79, 82, 1, 22, 99)\n",
    "print(max(myTup), min(myTup))\n",
    " \n",
    "print('영문자 중 가장 큰 문자:', max('abcde'))\n",
    "print('서로 다른 문자들 중 큰 문자:', max('0Aa'))\n",
    " \n",
    "print('문장 속 최댓값 문자:', max('I went to the zoo yesterday, 27 March.'))\n",
    "print('문장 속 최솟값 문자:', min('I went to the zoo yesterday, 27 March.'))"
   ]
  },
  {
   "cell_type": "code",
   "execution_count": 22,
   "id": "af4701b5",
   "metadata": {},
   "outputs": [
    {
     "data": {
      "text/plain": [
       "True"
      ]
     },
     "execution_count": 22,
     "metadata": {},
     "output_type": "execute_result"
    }
   ],
   "source": [
    "i = [1,2,3,4,5]\n",
    "j = [1,2,None,4,5]\n",
    "any(j)"
   ]
  },
  {
   "cell_type": "code",
   "execution_count": 23,
   "id": "59f9a145",
   "metadata": {},
   "outputs": [
    {
     "data": {
      "text/plain": [
       "False"
      ]
     },
     "execution_count": 23,
     "metadata": {},
     "output_type": "execute_result"
    }
   ],
   "source": [
    "bool(None)"
   ]
  },
  {
   "cell_type": "code",
   "execution_count": 24,
   "id": "368a5fc9",
   "metadata": {},
   "outputs": [
    {
     "data": {
      "text/plain": [
       "False"
      ]
     },
     "execution_count": 24,
     "metadata": {},
     "output_type": "execute_result"
    }
   ],
   "source": [
    "all(j)"
   ]
  },
  {
   "cell_type": "code",
   "execution_count": 25,
   "id": "f50de41a",
   "metadata": {},
   "outputs": [
    {
     "data": {
      "text/plain": [
       "True"
      ]
     },
     "execution_count": 25,
     "metadata": {},
     "output_type": "execute_result"
    }
   ],
   "source": [
    "all([]) \n",
    "\n",
    "#특이한 상황"
   ]
  },
  {
   "cell_type": "code",
   "execution_count": 26,
   "id": "20fe773f",
   "metadata": {},
   "outputs": [
    {
     "data": {
      "text/plain": [
       "False"
      ]
     },
     "execution_count": 26,
     "metadata": {},
     "output_type": "execute_result"
    }
   ],
   "source": [
    "any([])"
   ]
  },
  {
   "cell_type": "code",
   "execution_count": 28,
   "id": "e626826a",
   "metadata": {},
   "outputs": [
    {
     "data": {
      "text/plain": [
       "5"
      ]
     },
     "execution_count": 28,
     "metadata": {},
     "output_type": "execute_result"
    }
   ],
   "source": [
    "(lambda x : x)(5)"
   ]
  },
  {
   "cell_type": "code",
   "execution_count": 30,
   "id": "13a0cab9",
   "metadata": {},
   "outputs": [
    {
     "data": {
      "text/plain": [
       "10"
      ]
     },
     "execution_count": 30,
     "metadata": {},
     "output_type": "execute_result"
    }
   ],
   "source": [
    "x =  lambda x, y : x+y\n",
    "x(5, 5)"
   ]
  },
  {
   "cell_type": "code",
   "execution_count": 32,
   "id": "9ba5c845",
   "metadata": {},
   "outputs": [],
   "source": [
    "def add(x,y):\n",
    "    return x+y"
   ]
  },
  {
   "cell_type": "code",
   "execution_count": 33,
   "id": "14155d0a",
   "metadata": {},
   "outputs": [
    {
     "data": {
      "text/plain": [
       "300"
      ]
     },
     "execution_count": 33,
     "metadata": {},
     "output_type": "execute_result"
    }
   ],
   "source": [
    "x= 10\n",
    "add((lambda z : z * z)(x), 200)  "
   ]
  },
  {
   "cell_type": "code",
   "execution_count": 34,
   "id": "56cc649c",
   "metadata": {},
   "outputs": [
    {
     "data": {
      "text/plain": [
       "[1, 4, 9, 16]"
      ]
     },
     "execution_count": 34,
     "metadata": {},
     "output_type": "execute_result"
    }
   ],
   "source": [
    "def apply(func, obj):\n",
    "     return func(obj)\n",
    "\n",
    "\n",
    "ll = [1,2,3,4]\n",
    "apply(lambda x : [i*i for i in x], ll)  \n"
   ]
  },
  {
   "cell_type": "code",
   "execution_count": 36,
   "id": "f9a12b81",
   "metadata": {},
   "outputs": [
    {
     "name": "stdout",
     "output_type": "stream",
     "text": [
      "2\n",
      "4\n"
     ]
    }
   ],
   "source": [
    "for i in filter(lambda x : (x % 2==0), ll) :\n",
    "    print(i)"
   ]
  },
  {
   "cell_type": "code",
   "execution_count": 37,
   "id": "0dac98fb",
   "metadata": {},
   "outputs": [
    {
     "data": {
      "text/plain": [
       "[2, 4]"
      ]
     },
     "execution_count": 37,
     "metadata": {},
     "output_type": "execute_result"
    }
   ],
   "source": [
    "[*filter(lambda x : ( x % 2==0),ll)]"
   ]
  },
  {
   "cell_type": "code",
   "execution_count": 38,
   "id": "00bb5682",
   "metadata": {},
   "outputs": [],
   "source": [
    "_list = []\n",
    "def compose(x, func) :\n",
    "    _list.append(x)\n",
    "    return func\n",
    "\n",
    "\n",
    "def add(x) :\n",
    "    result = 0\n",
    "    for i in _list :\n",
    "        result += i\n",
    "    return result + x"
   ]
  },
  {
   "cell_type": "code",
   "execution_count": 39,
   "id": "a35f8048",
   "metadata": {},
   "outputs": [
    {
     "data": {
      "text/plain": [
       "15"
      ]
     },
     "execution_count": 39,
     "metadata": {},
     "output_type": "execute_result"
    }
   ],
   "source": [
    "a = lambda x : compose(x, b)\n",
    "b = lambda y : compose(y, c)\n",
    "c = lambda z : add(z)\n",
    "\n",
    "a(5)(5)(5)\n"
   ]
  },
  {
   "cell_type": "code",
   "execution_count": 40,
   "id": "d0f3de50",
   "metadata": {},
   "outputs": [
    {
     "data": {
      "text/plain": [
       "25"
      ]
     },
     "execution_count": 40,
     "metadata": {},
     "output_type": "execute_result"
    }
   ],
   "source": [
    "a(5)(5)(5) "
   ]
  },
  {
   "cell_type": "code",
   "execution_count": 41,
   "id": "8d1f97e1",
   "metadata": {},
   "outputs": [
    {
     "data": {
      "text/plain": [
       "[5, 5, 5, 5]"
      ]
     },
     "execution_count": 41,
     "metadata": {},
     "output_type": "execute_result"
    }
   ],
   "source": [
    "_list"
   ]
  },
  {
   "cell_type": "code",
   "execution_count": null,
   "id": "47e29151",
   "metadata": {},
   "outputs": [],
   "source": []
  }
 ],
 "metadata": {
  "kernelspec": {
   "display_name": "pydata",
   "language": "python",
   "name": "pydata"
  },
  "language_info": {
   "codemirror_mode": {
    "name": "ipython",
    "version": 3
   },
   "file_extension": ".py",
   "mimetype": "text/x-python",
   "name": "python",
   "nbconvert_exporter": "python",
   "pygments_lexer": "ipython3",
   "version": "3.7.11"
  }
 },
 "nbformat": 4,
 "nbformat_minor": 5
}
