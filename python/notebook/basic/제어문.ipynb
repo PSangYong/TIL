{
 "cells": [
  {
   "cell_type": "code",
   "execution_count": 1,
   "id": "dc77c178",
   "metadata": {},
   "outputs": [
    {
     "name": "stdout",
     "output_type": "stream",
     "text": [
      "x는 y보다 큽니다\n"
     ]
    }
   ],
   "source": [
    "x = 3\n",
    "y = 2\n",
    "if x == y:\n",
    "    print ('x는 y와 같습니다')\n",
    "elif x > y:\n",
    "    print ('x는 y보다 큽니다')"
   ]
  },
  {
   "cell_type": "code",
   "execution_count": 2,
   "id": "c989cae2",
   "metadata": {},
   "outputs": [
    {
     "name": "stdout",
     "output_type": "stream",
     "text": [
      "y is 7 less than x\n",
      "y is 6 less than x\n",
      "y is 5 less than x\n",
      "y is 4 less than x\n",
      "y is 3 less than x\n",
      "y is 2 less than x\n",
      "y is 1 less than x\n",
      "3\n",
      "4\n",
      "5\n",
      "6\n",
      "7\n",
      "8\n",
      "447\n",
      "100128\n"
     ]
    }
   ],
   "source": [
    "#------------------------------------------------------------------\n",
    "x = 9\n",
    "y = 2\n",
    "while y < x:\n",
    "     print ('y is %d less than x' % (x-y))\n",
    "     y += 1\n",
    " \n",
    "#------------------------------------------------------------------\n",
    "x = 0\n",
    "while x < 10:\n",
    "    x = x+1\n",
    "    if x < 3:\n",
    "        continue #while 구문 처음으로 이동하여 반\n",
    "    print(x)\n",
    "    if x > 7:\n",
    "        break #while 구분을 탈출\n",
    " \n",
    "#------------------------------------------------------------------\n",
    " \n",
    "x = 1\n",
    "total = 0\n",
    "while 1: #True-무한반복\n",
    "    total = total + x\n",
    "    if total > 100000:\n",
    "        print(x)\n",
    "        print(total)\n",
    "        break\n",
    "    x = x + 1"
   ]
  },
  {
   "cell_type": "code",
   "execution_count": 3,
   "id": "d2fa908d",
   "metadata": {},
   "outputs": [
    {
     "name": "stdout",
     "output_type": "stream",
     "text": [
      "0\n",
      "1\n",
      "2\n",
      "3\n",
      "4\n",
      "5\n",
      "6\n",
      "7\n",
      "8\n",
      "9\n",
      "1\n",
      "2\n",
      "3\n",
      "4\n",
      "5\n",
      "a\n",
      "b\n",
      "c\n",
      "d\n",
      "e\n",
      "f\n",
      "a : 98\n",
      "b : 100\n",
      "c : 99\n",
      "1\n",
      "2\n",
      "3\n",
      "1\n",
      "2\n",
      "3\n",
      "Perfect\n"
     ]
    }
   ],
   "source": [
    "for x in range(10):\n",
    "    print (x)\n",
    " \n",
    "#-------------------------------\n",
    "scope = [1, 2, 3, 4, 5]\n",
    "for x in scope:\n",
    "    print(x)\n",
    " \n",
    "#-------------------------------\n",
    " \n",
    "str2 = 'abcdef'\n",
    "for c in str2:\n",
    "    print(c)\n",
    " \n",
    "#-------------------------------\n",
    " \n",
    "ascii_codes ={\"a\":98,\"b\":100,\"c\":99}\n",
    "for c in ascii_codes:\n",
    "    print(c, ':', ascii_codes[c])  \n",
    "#-------------------------------\n",
    " \n",
    "scope = [1, 2, 3, 4, 5]\n",
    "for x in scope:\n",
    "    print(x)\n",
    "    if x < 3:\n",
    "        continue\n",
    "    else:\n",
    "        break\n",
    " \n",
    "#-------------------------------\n",
    "scope = [1, 2, 3]\n",
    "for x in scope:\n",
    "    print(x)\n",
    "else:\n",
    "    print('Perfect') # for구문이 다 실행후 실행할 코드"
   ]
  },
  {
   "cell_type": "code",
   "execution_count": 4,
   "id": "23c88f92",
   "metadata": {},
   "outputs": [
    {
     "name": "stdout",
     "output_type": "stream",
     "text": [
      "Enter Your Name:안녕\n",
      "안녕\n",
      "Please provide an expression: ㄴㅇㄹ\n",
      "ㄴㅇㄹ\n"
     ]
    }
   ],
   "source": [
    "# 함수 내의 텍스트는 선택사항이며, 사용자에게 프롬프트로 사용됨\n",
    "name = input(\"Enter Your Name:\")\n",
    " \n",
    "print (name)\n",
    " \n",
    "# 사용자가 입력한 식을 평가하는 input 함수를 사용\n",
    "val = input ('Please provide an expression: ')\n",
    " \n",
    "print(val)"
   ]
  },
  {
   "cell_type": "code",
   "execution_count": 7,
   "id": "74e58d9e",
   "metadata": {},
   "outputs": [
    {
     "name": "stdout",
     "output_type": "stream",
     "text": [
      "This text will be printed to the command line\n",
      "I love programming in Jython\n",
      "I am a fan of the number: 10\n",
      "Here is a test of the print statement using the values: 5, hello world, and 3.998000\n",
      "The value of x + y is: 3\n",
      "2.3456\n",
      "2\n",
      "2.345600\n"
     ]
    }
   ],
   "source": [
    "print ('This text will be printed to the command line')\n",
    " \n",
    "my_value = 'I love programming in Jython'\n",
    "print (my_value)\n",
    " \n",
    "#-----------------------------------------------------------------------\n",
    "z = 10\n",
    "#print ('I am a fan of the number: ' + z)\n",
    "print ('I am a fan of the number: ' + str(z))\n",
    " \n",
    "#-----------------------------------------------------------------------\n",
    "string_value = 'hello world'\n",
    "float_value = 3.998\n",
    "decimal_value = 5\n",
    "print ('Here is a test of the print statement using the values: %d, %s, and %f' % (decimal_value, string_value, float_value))\n",
    " \n",
    "#-----------------------------------------------------------------------\n",
    "x = 1\n",
    "y = 2\n",
    "print ('The value of x + y is: %d' % (x + y))\n",
    " \n",
    "#-----------------------------------------------------------------------\n",
    "x = 2.3456\n",
    "print ('%s' % x)\n",
    " \n",
    "print ('%d' % x)\n",
    " \n",
    "print ('%f' % x) "
   ]
  },
  {
   "cell_type": "code",
   "execution_count": null,
   "id": "1666662a",
   "metadata": {},
   "outputs": [],
   "source": []
  }
 ],
 "metadata": {
  "kernelspec": {
   "display_name": "pydata",
   "language": "python",
   "name": "pydata"
  },
  "language_info": {
   "codemirror_mode": {
    "name": "ipython",
    "version": 3
   },
   "file_extension": ".py",
   "mimetype": "text/x-python",
   "name": "python",
   "nbconvert_exporter": "python",
   "pygments_lexer": "ipython3",
   "version": "3.7.11"
  }
 },
 "nbformat": 4,
 "nbformat_minor": 5
}
