{
 "cells": [
  {
   "cell_type": "code",
   "execution_count": 1,
   "id": "624e0265",
   "metadata": {},
   "outputs": [
    {
     "name": "stdout",
     "output_type": "stream",
     "text": [
      "i\n",
      "!\n",
      "1\n",
      "[1, 2, 3]\n",
      "3\n"
     ]
    }
   ],
   "source": [
    "strdata = 'Time is money!!'\n",
    "print(strdata[5])     # ‘i'가 출력됨\n",
    "print(strdata[-2])    # ‘!’가 출력됨\n",
    "\n",
    "listdata = [1, 2, [1, 2, 3]]\n",
    "print(listdata[0])     # 1이 출력됨\n",
    "print(listdata[-1])    # [1, 2, 3]이 출력됨\n",
    "print(listdata[2][-1])  # 3이 출력됨"
   ]
  },
  {
   "cell_type": "code",
   "execution_count": 2,
   "id": "71d91f35",
   "metadata": {},
   "outputs": [
    {
     "name": "stdout",
     "output_type": "stream",
     "text": [
      "ime \n"
     ]
    }
   ],
   "source": [
    "strdata = 'Time is meney!!'\n",
    "print(strdata[1:5])"
   ]
  },
  {
   "cell_type": "code",
   "execution_count": 3,
   "id": "8522d777",
   "metadata": {},
   "outputs": [
    {
     "name": "stdout",
     "output_type": "stream",
     "text": [
      "Time is\n"
     ]
    }
   ],
   "source": [
    "print(strdata[:7])"
   ]
  },
  {
   "cell_type": "code",
   "execution_count": 4,
   "id": "b2e08281",
   "metadata": {},
   "outputs": [
    {
     "name": "stdout",
     "output_type": "stream",
     "text": [
      "eney!!\n"
     ]
    }
   ],
   "source": [
    "print(strdata[9:])"
   ]
  },
  {
   "cell_type": "code",
   "execution_count": 6,
   "id": "879967da",
   "metadata": {},
   "outputs": [
    {
     "name": "stdout",
     "output_type": "stream",
     "text": [
      "Time is mene\n"
     ]
    }
   ],
   "source": [
    "print(strdata[:-3])"
   ]
  },
  {
   "cell_type": "code",
   "execution_count": 7,
   "id": "7a977eb0",
   "metadata": {},
   "outputs": [
    {
     "name": "stdout",
     "output_type": "stream",
     "text": [
      "y!!\n"
     ]
    }
   ],
   "source": [
    "print(strdata[-3:])"
   ]
  },
  {
   "cell_type": "code",
   "execution_count": 8,
   "id": "77ece1f7",
   "metadata": {},
   "outputs": [
    {
     "name": "stdout",
     "output_type": "stream",
     "text": [
      "Time is meney!!\n"
     ]
    }
   ],
   "source": [
    "print(strdata[:])"
   ]
  },
  {
   "cell_type": "code",
   "execution_count": 9,
   "id": "6dfad388",
   "metadata": {},
   "outputs": [
    {
     "name": "stdout",
     "output_type": "stream",
     "text": [
      "Tm smny!\n"
     ]
    }
   ],
   "source": [
    "print(strdata[::2])"
   ]
  },
  {
   "cell_type": "code",
   "execution_count": 10,
   "id": "ccda4703",
   "metadata": {},
   "outputs": [
    {
     "name": "stdout",
     "output_type": "stream",
     "text": [
      "I love Python\n",
      "I love you\n",
      "[1, 2, 3, 4, 5, 6]\n"
     ]
    }
   ],
   "source": [
    "strdata1 = 'I love '; strdata2 = 'Python'; strdata3 = 'you'\n",
    "print(strdata1 + strdata2)     # ‘I love Python’이 출력됨\n",
    "print(strdata1 + strdata3)     # ‘I love you’가 출력됨\n",
    "\n",
    "listdata1 = [1, 2, 3]; listdata2 = [4, 5, 6]\n",
    "print(listdata1 + listdata2)    # [1, 2, 3, 4, 5, 6]이 출력됨"
   ]
  },
  {
   "cell_type": "code",
   "execution_count": 11,
   "id": "d91ae81a",
   "metadata": {},
   "outputs": [
    {
     "name": "stdout",
     "output_type": "stream",
     "text": [
      "빅뱅이 부르는 뱅~뱅~뱅~\n"
     ]
    }
   ],
   "source": [
    "artist = '빅뱅'\n",
    "sing = '뱅~'\n",
    "dispdata = artist + '이 부르는 ' + sing*3\n",
    "print(dispdata)  # ‘빅뱅이 부르는 뱅~뱅~뱅~’이 출력됨"
   ]
  },
  {
   "cell_type": "code",
   "execution_count": 12,
   "id": "ab863fb2",
   "metadata": {},
   "outputs": [
    {
     "name": "stdout",
     "output_type": "stream",
     "text": [
      "13\n",
      "13\n",
      "5\n",
      "13\n",
      "I love python\n"
     ]
    }
   ],
   "source": [
    "strdata1 = 'I love python'\n",
    "strdata2 = '나는 파이썬을 사랑합니다'\n",
    "listdata = ['a', 'b', 'c', strdata1, strdata2]\n",
    "print(len(strdata1))    # 13이 출력됨\n",
    "print(len(strdata2))    # 13이 출력됨\n",
    "print(len(listdata))     # 5가 출력됨\n",
    "print(len(listdata[3]))  # 13이 출력됨\n",
    "print(listdata[3])"
   ]
  },
  {
   "cell_type": "code",
   "execution_count": 13,
   "id": "bc3fbf85",
   "metadata": {},
   "outputs": [
    {
     "name": "stdout",
     "output_type": "stream",
     "text": [
      "False\n",
      "True\n",
      "True\n",
      "False\n"
     ]
    }
   ],
   "source": [
    "listdata =[1, 2, 3, 4]\n",
    "ret1 = 5 in listdata    # False\n",
    "ret2 = 4 in listdata    # True\n",
    "print(ret1); print(ret2)\n",
    "strdata = 'abcde'\n",
    "ret3 = 'c' in strdata    # True\n",
    "ret4 = '1' in strdata    # False\n",
    "print(ret3); print(ret4)"
   ]
  },
  {
   "cell_type": "code",
   "execution_count": 16,
   "id": "f146b801",
   "metadata": {},
   "outputs": [
    {
     "name": "stdout",
     "output_type": "stream",
     "text": [
      "안녕하세요\n",
      "안녕하세요\n",
      "\n",
      "    안녕하세요\n",
      "    반갑습니다.\n",
      "    다시봅시다.\n",
      "\n",
      "안녕하세요\n",
      "반갑습니다.\n",
      "다시봅시다.\n"
     ]
    }
   ],
   "source": [
    "print(\"안녕하세요\")\n",
    "print('안녕하세요')\n",
    " \n",
    "print('''\n",
    "    안녕하세요\n",
    "    반갑습니다.\n",
    "    다시봅시다.\n",
    "''')\n",
    "\n",
    "    \n",
    "print('안녕하세요\\n'\n",
    "    '반갑습니다.\\n'\n",
    "    '다시봅시다.')"
   ]
  },
  {
   "cell_type": "code",
   "execution_count": 19,
   "id": "48512e20",
   "metadata": {},
   "outputs": [
    {
     "name": "stdout",
     "output_type": "stream",
     "text": [
      "안녕하세요 '김길동' 입니다.\n",
      "안녕하세요 \"박길동\" 입니다.\n",
      "안녕하세요 \"홍길동\" 입니다.\n",
      "안녕하세요 '홍길동' 입니다.\n"
     ]
    }
   ],
   "source": [
    "# 문자열 중간에 (') 출력하기\n",
    "\n",
    "\n",
    "print(\"안녕하세요 '김길동' 입니다.\")\n",
    "print('안녕하세요 \"박길동\" 입니다.')\n",
    "\n",
    "print(\"안녕하세요 \\\"홍길동\\\" 입니다.\")\n",
    "print('안녕하세요 \\'홍길동\\' 입니다.')\n"
   ]
  },
  {
   "cell_type": "code",
   "execution_count": 22,
   "id": "ae01aa80",
   "metadata": {},
   "outputs": [
    {
     "name": "stdout",
     "output_type": "stream",
     "text": [
      "Python is the best language ever\n",
      "         python is the best language ever         \n",
      "---------python is the best language ever---------\n",
      "2\n"
     ]
    }
   ],
   "source": [
    "# 문자열 메소드 사용하기 \n",
    "\n",
    "our_string='python is the best language ever'\n",
    " \n",
    "# 문자열의 첫 글자를 대문자로\n",
    "print(our_string.capitalize())\n",
    " \n",
    "# 가운데 정렬\n",
    "print(our_string.center(50))\n",
    " \n",
    "print(our_string.center(50,'-'))\n",
    " \n",
    "# 문자열 내에서 부분문자열 세기\n",
    "print(our_string.count('a'))"
   ]
  },
  {
   "cell_type": "code",
   "execution_count": 21,
   "id": "d0cb6b7f",
   "metadata": {},
   "outputs": [
    {
     "name": "stdout",
     "output_type": "stream",
     "text": [
      "2\n"
     ]
    }
   ],
   "source": [
    "# 부분문자열 발생 횟수 세기\n",
    "state = 'Mississippi'\n",
    "print(state.count('ss'))"
   ]
  },
  {
   "cell_type": "code",
   "execution_count": 23,
   "id": "b4c275d4",
   "metadata": {},
   "outputs": [
    {
     "name": "stdout",
     "output_type": "stream",
     "text": [
      "('Hello, my ', 'n', 'ame is Josh')\n",
      "['He', '', 'o, my name is Josh']\n",
      "['He', 'lo, my name is Josh']\n",
      "['He', '', 'o, my name is Josh']\n"
     ]
    }
   ],
   "source": [
    "# 문자열을 분할(partition)하면, 분리자의 앞 부분, 분리자, \n",
    "# 그리고, 그 분리자의뒷 부분의 세 원소로 이루어진 튜플을 반환\n",
    "x = \"Hello, my name is Josh\"\n",
    "print(x.partition('n'))\n",
    " \n",
    "# 위와 똑같은 x가 있다고 할 때, 'l'을 분리자로 하여 문자열을 쪼개기(split)\n",
    "print(x.split('l'))\n",
    "# 보는 바와 같이 분리자는 반환되는 목록에 포함되지 않는다.\n",
    "# maxsplits 값을 1로 하여 추가하게 되면, 가장 왼쪽부터 쪼개기가 이루어진다.\n",
    "# maxsplits 값을 2로 주면, 가장 왼쪽 두 개의 쪼개기가 이루어진다.\n",
    "print(x.split('l',1))\n",
    "print(x.split('l',2))"
   ]
  },
  {
   "cell_type": "code",
   "execution_count": 24,
   "id": "7341a5e8",
   "metadata": {},
   "outputs": [
    {
     "name": "stdout",
     "output_type": "stream",
     "text": [
      "나는 자바보다 파이썬에 더 익숙합니다.\n",
      "파이썬은 자바보다 5배 더 쉽습니다.\n",
      "5 + 10 = 15\n",
      "작년 세계 경제 성장률은 전년에 비해 5% 포인트 증가했다.\n",
      "12.35%\n",
      "12.35%\n",
      " 12.3%\n"
     ]
    }
   ],
   "source": [
    "txt1 = '자바';txt2='파이썬'\n",
    "num1= 5; num2=10\n",
    "print('나는 %s보다 %s에 더 익숙합니다.' %(txt1, txt2))\n",
    "print('%s은 %s보다 %d배 더 쉽습니다.' %(txt2, txt1, num1))\n",
    "print('%d + %d = %d' %(num1, num2, num1+num2))\n",
    "print('작년 세계 경제 성장률은 전년에 비해 %d%% 포인트 증가했다.' %num1)\n",
    " \n",
    "# 전체 자리수.소수 자리수f, 전체 자리수에 소수 자리수가 포함됨, 반올림 안됨\n",
    "no3 = 12.35\n",
    "print('%3.2f%%' % no3)\n",
    "print('%5.2f%%' % no3)\n",
    "print('%5.1f%%' % no3)"
   ]
  },
  {
   "cell_type": "code",
   "execution_count": 29,
   "id": "0caaed1e",
   "metadata": {},
   "outputs": [
    {
     "name": "stdout",
     "output_type": "stream",
     "text": [
      "진행률 0%"
     ]
    }
   ],
   "source": [
    "from time import sleep\n",
    "\n",
    "for i in range(100):\n",
    "    msg = \"\\r진행률%2d%%\" %(100-i-1)\n",
    "    print(msg, end='')\n",
    "    sleep(0.1)"
   ]
  },
  {
   "cell_type": "code",
   "execution_count": 30,
   "id": "6574f852",
   "metadata": {},
   "outputs": [
    {
     "name": "stdout",
     "output_type": "stream",
     "text": [
      "나는 파이썬을 사랑합니다.\n",
      "파이썬은 자바보다 훨씬 쉽습니다.\n",
      "Name: John Smith\tgender: Male\tAge: 22\n",
      "이 문장은 화면폭에 비해 너무 길어 보기가 힘듭니다. 그래서 \\Enter키를 이용해 문장을 다음줄과 연속되도록 했습니다.\n",
      "작은따옴표(')와 큰 따옴표(\")는 문자열을 정의할 때 사용합니다.\n"
     ]
    }
   ],
   "source": [
    "print('나는 파이썬을 사랑합니다.\\n파이썬은 자바보다 훨씬 쉽습니다.')\n",
    "print('Name: John Smith\\tgender: Male\\tAge: 22')\n",
    "print('이 문장은 화면폭에 비해 너무 길어 보기가 힘듭니다. \\\n",
    "그래서 \\\\Enter키를 이용해 문장을 다음줄과 연속되도록 했습니다.')\n",
    "print('작은따옴표(\\')와 큰 따옴표(\")는 문자열을 정의할 때 사용합니다.')"
   ]
  },
  {
   "cell_type": "code",
   "execution_count": 36,
   "id": "af4e2ba5",
   "metadata": {},
   "outputs": [
    {
     "name": "stdout",
     "output_type": "stream",
     "text": [
      "임의의 문장 입력: my name is\n",
      "is가 있다.\n"
     ]
    }
   ],
   "source": [
    "msg = input(\"임의의 문장 입력: \")\n",
    "if 'is' in msg:\n",
    "    print(\"is가 있다.\")\n",
    "else:\n",
    "    print(\"is가 없다.\")"
   ]
  },
  {
   "cell_type": "code",
   "execution_count": 35,
   "id": "2e90ce72",
   "metadata": {},
   "outputs": [
    {
     "name": "stdout",
     "output_type": "stream",
     "text": [
      "임의의 문장을 입력하세요: 안녕하세요 좀 졸리네요\n",
      "당신이 입력한 문장의 길이는 <12> 입니다.\n"
     ]
    }
   ],
   "source": [
    "msg = input('임의의 문장을 입력하세요: ')\n",
    "msglen = len(msg)\n",
    "print('당신이 입력한 문장의 길이는 <%d> 입니다.' %msglen)"
   ]
  },
  {
   "cell_type": "code",
   "execution_count": 37,
   "id": "3ff8b54f",
   "metadata": {},
   "outputs": [
    {
     "name": "stdout",
     "output_type": "stream",
     "text": [
      "3\n",
      "2\n",
      "8\n"
     ]
    }
   ],
   "source": [
    "txt = 'A lot of things occur each day, every day.'\n",
    "word_count1 = txt.count('o')\n",
    "word_count2 = txt.count('day')\n",
    "word_count3 = txt.count(' ')\n",
    "print(word_count1)  # 3이 출력됨\n",
    "print(word_count2)  # 2가 출력됨\n",
    "print(word_count3)  # 8이 출력됨"
   ]
  },
  {
   "cell_type": "code",
   "execution_count": 40,
   "id": "3582fe14",
   "metadata": {},
   "outputs": [
    {
     "name": "stdout",
     "output_type": "stream",
     "text": [
      "True\n",
      "True\n",
      "False\n",
      "False\n"
     ]
    }
   ],
   "source": [
    "# 빈공간이 있으면 isalpha()의 결과를 False값을 리턴하다.\n",
    "txt1 = 'A'\n",
    "txt2 = '안녕'\n",
    "txt3 = 'Warcraft Three'\n",
    "txt4 = '3PO'\n",
    "ret1 = txt1.isalpha()\n",
    "ret2 = txt2.isalpha()\n",
    "ret3 = txt3.isalpha()\n",
    "ret4 = txt4.isalpha()\n",
    "print(ret1)        # True가 출력됨\n",
    "print(ret2)        # True가 출력됨\n",
    "print(ret3)        # False가 출력됨\n",
    "print(ret4)        # False가 출력됨"
   ]
  },
  {
   "cell_type": "code",
   "execution_count": 41,
   "id": "354b0001",
   "metadata": {},
   "outputs": [
    {
     "name": "stdout",
     "output_type": "stream",
     "text": [
      "False\n",
      "False\n",
      "True\n"
     ]
    }
   ],
   "source": [
    "#숫자가 아님 False\n",
    "txt1 = '010-1234-5678'\n",
    "txt2 = 'R2D2'\n",
    "txt3 = '1212'\n",
    "ret1 = txt1.isdigit()\n",
    "ret2 = txt2.isdigit()\n",
    "ret3 = txt3.isdigit()\n",
    "print(ret1)      # False가 출력됨\n",
    "print(ret2)      # False가 출력됨\n",
    "print(ret3)      # True가 출력됨"
   ]
  },
  {
   "cell_type": "code",
   "execution_count": 42,
   "id": "7d15ccaa",
   "metadata": {},
   "outputs": [
    {
     "name": "stdout",
     "output_type": "stream",
     "text": [
      "False\n",
      "False\n",
      "True\n"
     ]
    }
   ],
   "source": [
    "# 문자나 숫자가 아닌 데이터(? . - 등 특수문자)가 들어가면 False\n",
    "\n",
    "txt1 = '안녕하세요?'\n",
    "txt2 = '1. Title-제목을 넣으세요'\n",
    "txt3 = '3피오R2D2'\n",
    "ret1 = txt1.isalnum()\n",
    "ret2 = txt2.isalnum ()\n",
    "ret3 = txt3.isalnum ()\n",
    "print(ret1)      # False가 출력됨\n",
    "print(ret2)      # False가 출력됨\n",
    "print(ret3)      # True가 출력됨"
   ]
  },
  {
   "cell_type": "code",
   "execution_count": 43,
   "id": "99eba142",
   "metadata": {},
   "outputs": [
    {
     "name": "stdout",
     "output_type": "stream",
     "text": [
      "A LOT OF THINGS OCCUR EACH DAY.\n",
      "a lot of things occur each day.\n"
     ]
    }
   ],
   "source": [
    "txt = 'A lot of Things occur each day.'\n",
    "ret1 = txt.upper()\n",
    "ret2 = txt.lower()\n",
    "print(ret1)       # ‘A LOT OF THINGS OCCUR EACH DAY.’가 출력됨\n",
    "print(ret2)       # ‘a lot of things occur each day.’가 출력됨"
   ]
  },
  {
   "cell_type": "code",
   "execution_count": 51,
   "id": "b762ad5d",
   "metadata": {},
   "outputs": [
    {
     "name": "stdout",
     "output_type": "stream",
     "text": [
      " 양쪽에 공백이 있어\n"
     ]
    }
   ],
   "source": [
    "txt=' 양쪽에 공백이 있어 '\n",
    "print(txt.rstrip())"
   ]
  },
  {
   "cell_type": "code",
   "execution_count": 49,
   "id": "e2733938",
   "metadata": {},
   "outputs": [
    {
     "name": "stdout",
     "output_type": "stream",
     "text": [
      "<   양쪽에 공백이 있는 문자열입니다.   >\n",
      "<양쪽에 공백이 있는 문자열입니다.   >\n",
      "<   양쪽에 공백이 있는 문자열입니다.>\n",
      "<양쪽에 공백이 있는 문자열입니다.>\n"
     ]
    }
   ],
   "source": [
    "txt = '   양쪽에 공백이 있는 문자열입니다.   '\n",
    "ret1 = txt.lstrip()\n",
    "ret2 = txt.rstrip()\n",
    "ret3 = txt.strip()\n",
    "print('<'+txt+'>')\n",
    "print('<'+ret1+'>')\n",
    "print('<'+ret2+'>')\n",
    "print('<'+ret3+'>')\n"
   ]
  },
  {
   "cell_type": "code",
   "execution_count": 57,
   "id": "d9155642",
   "metadata": {},
   "outputs": [
    {
     "name": "stdout",
     "output_type": "stream",
     "text": [
      "['Beautiful', 'is', 'better', 'than', 'ugly']\n"
     ]
    }
   ],
   "source": [
    "a='Beautiful, is; better*than\\nugly'\n",
    "import re\n",
    "print(re.split('; |, |\\*|\\n',a))"
   ]
  },
  {
   "cell_type": "code",
   "execution_count": 59,
   "id": "fea52cc6",
   "metadata": {},
   "outputs": [
    {
     "name": "stdout",
     "output_type": "stream",
     "text": [
      "['http:', '', 'www.naver.com', 'news', 'today=20160831']\n"
     ]
    }
   ],
   "source": [
    "url = 'http://www.naver.com/news/today=20160831'\n",
    "\n",
    "ret1 = url.split('/')\n",
    "print(ret1)"
   ]
  },
  {
   "cell_type": "code",
   "execution_count": 60,
   "id": "de75a85b",
   "metadata": {},
   "outputs": [
    {
     "name": "stdout",
     "output_type": "stream",
     "text": [
      "name -> 홍길동\n",
      "age -> 17\n",
      "gender -> 남자\n",
      "nation -> 한국\n"
     ]
    }
   ],
   "source": [
    "log = 'name:홍길동 age:17 gender:남자 nation:한국'\n",
    "\n",
    "ret2 = log.split()\n",
    "for data in ret2:\n",
    "   d1, d2 = data.split(':')\n",
    "   print('%s -> %s' %(d1, d2))"
   ]
  },
  {
   "cell_type": "code",
   "execution_count": 61,
   "id": "bf822623",
   "metadata": {},
   "outputs": [
    {
     "name": "stdout",
     "output_type": "stream",
     "text": [
      "2016/08/26 10:12:11;200;OK;이 또한 지나가리라\n"
     ]
    }
   ],
   "source": [
    "loglist = ['2016/08/26 10:12:11', '200', 'OK', '이 또한 지나가리라']\n",
    "bond = ';'\n",
    "log = bond.join(loglist)\n",
    "print(log)"
   ]
  },
  {
   "cell_type": "code",
   "execution_count": 63,
   "id": "f2ca48f6",
   "metadata": {},
   "outputs": [
    {
     "name": "stdout",
     "output_type": "stream",
     "text": [
      "\u0004\n",
      "\n",
      "\n",
      "8.0\n",
      "65\n",
      "67\n",
      "122\n"
     ]
    }
   ],
   "source": [
    "# 정수가 나타내는 문자를 반환\n",
    "print(chr(4)) #꺽쇠 모양\n",
    " \n",
    "print(chr(10)) #enter\n",
    " \n",
    " \n",
    "# 정수를 부동소수점수로 변환\n",
    "print(float(8))\n",
    " \n",
    " \n",
    "# 문자를 나타내는 정수 값으로 변환\n",
    "print(ord('A'))\n",
    " \n",
    "print(ord('C'))\n",
    " \n",
    "print(ord('z'))"
   ]
  },
  {
   "cell_type": "code",
   "execution_count": 69,
   "id": "4aa2f7d5",
   "metadata": {},
   "outputs": [
    {
     "name": "stdout",
     "output_type": "stream",
     "text": [
      "숫자를 입력하세요 : 325.235153\n",
      "당신이 입력한 숫자는 실수 <325.235153>입니다.\n"
     ]
    }
   ],
   "source": [
    "numstr = input('숫자를 입력하세요 : ')\n",
    "try:\n",
    "    num = int(numstr)\n",
    "    print('당신이 입력한 숫자는 정수 <%d>입니다.' %num)\n",
    "except:\n",
    "    try:\n",
    "        num = float(numstr)\n",
    "        print('당신이 입력한 숫자는 실수 <%f>입니다.' %num)\n",
    "    except:\n",
    "        print('+++숫자를 입력하세요+++')"
   ]
  },
  {
   "cell_type": "code",
   "execution_count": 70,
   "id": "8f6e7c09",
   "metadata": {},
   "outputs": [
    {
     "name": "stdout",
     "output_type": "stream",
     "text": [
      "num1을 문자열로 변환한 값은 “1234” 입니다.\n",
      "num2를 문자열로 변환한 값은 “3.14” 입니다.\n"
     ]
    }
   ],
   "source": [
    "num1 = 1234\n",
    "num2 = 3.14\n",
    " \n",
    "numstr1 = str(num1)\n",
    "numstr2 = str(num2)\n",
    "print('num1을 문자열로 변환한 값은 “%s” 입니다.' %numstr1)\n",
    "print('num2를 문자열로 변환한 값은 “%s” 입니다.' %numstr2)"
   ]
  },
  {
   "cell_type": "code",
   "execution_count": null,
   "id": "ef9efc0d",
   "metadata": {},
   "outputs": [],
   "source": []
  }
 ],
 "metadata": {
  "kernelspec": {
   "display_name": "pydata",
   "language": "python",
   "name": "pydata"
  },
  "language_info": {
   "codemirror_mode": {
    "name": "ipython",
    "version": 3
   },
   "file_extension": ".py",
   "mimetype": "text/x-python",
   "name": "python",
   "nbconvert_exporter": "python",
   "pygments_lexer": "ipython3",
   "version": "3.7.11"
  }
 },
 "nbformat": 4,
 "nbformat_minor": 5
}
