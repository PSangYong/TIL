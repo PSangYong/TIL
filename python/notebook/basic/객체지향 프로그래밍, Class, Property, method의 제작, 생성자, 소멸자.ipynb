{
 "cells": [
  {
   "cell_type": "code",
   "execution_count": 1,
   "id": "7ddcfc8d",
   "metadata": {},
   "outputs": [
    {
     "name": "stdout",
     "output_type": "stream",
     "text": [
      "pybot 45kg\n",
      "pybot 45kg\n",
      "\n",
      "minibot 45kg\n",
      "pybot 60kg\n"
     ]
    },
    {
     "data": {
      "text/plain": [
       "'다양한 로봇을 만드는 클래스'"
      ]
     },
     "execution_count": 1,
     "metadata": {},
     "output_type": "execute_result"
    }
   ],
   "source": [
    "class Robot:\n",
    "    '''다양한 로봇을 만드는 클래스'''\n",
    "    def __init__(self):\n",
    "        self.name = 'pybot'\n",
    "        self.weight = '45kg'\n",
    "        \n",
    "hubo1 = Robot()\n",
    "hubo2 = Robot()\n",
    "print(hubo1.name, hubo1.weight)\n",
    "print(hubo2.name, hubo2.weight)\n",
    " \n",
    "print()\n",
    "hubo1.name = 'minibot'\n",
    "hubo2.weight = '60kg'\n",
    "print(hubo1.name, hubo1.weight)\n",
    "print(hubo2.name, hubo2.weight)\n",
    "Robot.__doc__"
   ]
  },
  {
   "cell_type": "code",
   "execution_count": 2,
   "id": "af9c9bbe",
   "metadata": {},
   "outputs": [
    {
     "name": "stdout",
     "output_type": "stream",
     "text": [
      "KAIST True shane 2016\n",
      "KAIST True albert 2018\n"
     ]
    }
   ],
   "source": [
    "class Robot:\n",
    "    '''다양한 로봇을 만드는 클래스'''\n",
    "    def __init__(self, name, build_year):\n",
    "        self.maker = 'KAIST'\n",
    "        self.isWalking = True\n",
    "        self.name = name\n",
    "        self.build_year = build_year\n",
    "        \n",
    "hubo1 = Robot('shane', 2016)\n",
    "print(hubo1.maker, hubo1.isWalking, hubo1.name, hubo1.build_year)\n",
    " \n",
    "hubo2 = Robot('albert', 2018)\n",
    "print(hubo2.maker, hubo2.isWalking, hubo2.name, hubo2.build_year)"
   ]
  },
  {
   "cell_type": "code",
   "execution_count": 3,
   "id": "98ce4139",
   "metadata": {},
   "outputs": [
    {
     "data": {
      "text/plain": [
       "'클래스 속성'"
      ]
     },
     "execution_count": 3,
     "metadata": {},
     "output_type": "execute_result"
    }
   ],
   "source": [
    "class Test:\n",
    "    name = '클래스 속성'\n",
    "    def __init__(self):\n",
    "        self.name = \"객체속성\"\n",
    "    def getName(self):\n",
    "        return self.name\n",
    " \n",
    " \n",
    "Test.name #객체가 생성되기 전"
   ]
  },
  {
   "cell_type": "code",
   "execution_count": 5,
   "id": "f02cb469",
   "metadata": {},
   "outputs": [
    {
     "data": {
      "text/plain": [
       "'객체속성'"
      ]
     },
     "execution_count": 5,
     "metadata": {},
     "output_type": "execute_result"
    }
   ],
   "source": [
    "t = Test()  #객체생성되면서 __init__()호출\n",
    " \n",
    "t.getName() "
   ]
  },
  {
   "cell_type": "code",
   "execution_count": 6,
   "id": "e202353d",
   "metadata": {},
   "outputs": [
    {
     "data": {
      "text/plain": [
       "'객체속성'"
      ]
     },
     "execution_count": 6,
     "metadata": {},
     "output_type": "execute_result"
    }
   ],
   "source": [
    "t.name"
   ]
  },
  {
   "cell_type": "code",
   "execution_count": 7,
   "id": "c29a5594",
   "metadata": {},
   "outputs": [
    {
     "name": "stdout",
     "output_type": "stream",
     "text": [
      "현재 좌표: (3, 3)\n"
     ]
    }
   ],
   "source": [
    "class Robot:\n",
    "    '''다양한 로봇을 만드는 클래스'''\n",
    "    def __init__(self, name, build_year): #self 로 객체속성 생성\n",
    "        self.maker = 'KAIST'\n",
    "        self.isWalking = True\n",
    "        self.name = name\n",
    "        self.build_year = build_year\n",
    "        self.xpos = 0\n",
    "        self.ypos = 0\n",
    " \n",
    "    def move(self): #self로 객체속성 접근\n",
    "        if self.isWalking:\n",
    "            self.xpos += 1\n",
    "            self.ypos += 1\n",
    " \n",
    "    def curPosition(self):\n",
    "        print('현재 좌표: ({}, {})'.format(self.xpos, self.ypos))\n",
    " \n",
    " \n",
    "hubo = Robot('shane', 2016)\n",
    "hubo.move()\n",
    "hubo.move()\n",
    "hubo.move()\n",
    "hubo.curPosition()"
   ]
  },
  {
   "cell_type": "code",
   "execution_count": 8,
   "id": "bcf68c84",
   "metadata": {},
   "outputs": [
    {
     "data": {
      "text/plain": [
       "'클래스 속성'"
      ]
     },
     "execution_count": 8,
     "metadata": {},
     "output_type": "execute_result"
    }
   ],
   "source": [
    "class CMethod:\n",
    "    _name = \"클래스 속성\"\n",
    "    def __init__(self, name):\n",
    "        self._name = name\n",
    "    \n",
    "    @classmethod\n",
    "    def name(cls):\n",
    "        return cls._name\n",
    " \n",
    " \n",
    "CMethod._name"
   ]
  },
  {
   "cell_type": "code",
   "execution_count": 9,
   "id": "7865116c",
   "metadata": {},
   "outputs": [
    {
     "data": {
      "text/plain": [
       "'클래스 속성'"
      ]
     },
     "execution_count": 9,
     "metadata": {},
     "output_type": "execute_result"
    }
   ],
   "source": [
    "CMethod.name()"
   ]
  },
  {
   "cell_type": "code",
   "execution_count": 10,
   "id": "a63e85db",
   "metadata": {},
   "outputs": [
    {
     "data": {
      "text/plain": [
       "'객체속성'"
      ]
     },
     "execution_count": 10,
     "metadata": {},
     "output_type": "execute_result"
    }
   ],
   "source": [
    "c = CMethod(\"객체속성\")\n",
    "c._name"
   ]
  },
  {
   "cell_type": "code",
   "execution_count": 11,
   "id": "7c24f07c",
   "metadata": {},
   "outputs": [
    {
     "data": {
      "text/plain": [
       "'클래스 속성'"
      ]
     },
     "execution_count": 11,
     "metadata": {},
     "output_type": "execute_result"
    }
   ],
   "source": [
    "c.name() #클래스 메소드의 cls 함수는 클래스 영역을 참조함다."
   ]
  },
  {
   "cell_type": "code",
   "execution_count": 12,
   "id": "7e446fdf",
   "metadata": {},
   "outputs": [
    {
     "data": {
      "text/plain": [
       "'클래스 속성'"
      ]
     },
     "execution_count": 12,
     "metadata": {},
     "output_type": "execute_result"
    }
   ],
   "source": [
    "class SMethod :\n",
    "    _name = \"클래스 속성\"\n",
    "    def __init__(self, name):\n",
    "        self._name = name\n",
    "        \n",
    "    @staticmethod\n",
    "    def name(cls) :\n",
    "        return cls._name\n",
    "    \n",
    "    @staticmethod\n",
    "    def getName(self) :\n",
    "        return self._name\n",
    "    \n",
    "    @staticmethod\n",
    "    def func(x,y) :\n",
    "        return x+y\n",
    " \n",
    " \n",
    "SMethod.name(SMethod)"
   ]
  },
  {
   "cell_type": "code",
   "execution_count": 16,
   "id": "c7588cb3",
   "metadata": {},
   "outputs": [
    {
     "data": {
      "text/plain": [
       "'객체 속성'"
      ]
     },
     "execution_count": 16,
     "metadata": {},
     "output_type": "execute_result"
    }
   ],
   "source": [
    "SMethod.name(SMethod('객체 속성'))"
   ]
  },
  {
   "cell_type": "code",
   "execution_count": 14,
   "id": "2e025298",
   "metadata": {},
   "outputs": [
    {
     "data": {
      "text/plain": [
       "10"
      ]
     },
     "execution_count": 14,
     "metadata": {},
     "output_type": "execute_result"
    }
   ],
   "source": [
    "SMethod.func(5,5)"
   ]
  },
  {
   "cell_type": "code",
   "execution_count": 17,
   "id": "9cbca30f",
   "metadata": {},
   "outputs": [
    {
     "name": "stdout",
     "output_type": "stream",
     "text": [
      "This is name\n"
     ]
    }
   ],
   "source": [
    "class klass :\n",
    "    @property\n",
    "    def name(self) :\n",
    "        print(\"This is name\")\n",
    " \n",
    "k = klass()\n",
    "k.name"
   ]
  },
  {
   "cell_type": "code",
   "execution_count": 18,
   "id": "a80f0766",
   "metadata": {},
   "outputs": [
    {
     "data": {
      "text/plain": [
       "'홍길동'"
      ]
     },
     "execution_count": 18,
     "metadata": {},
     "output_type": "execute_result"
    }
   ],
   "source": [
    "class Property :\n",
    "    def __init__(self,name, age) :\n",
    "        self._name = name\n",
    "        self._age = age\n",
    "    \n",
    "    @property\n",
    "    def name(self) :\n",
    "        return self._name\n",
    "    \n",
    "    @property\n",
    "    def age(self) :\n",
    "        return self._age\n",
    "    \n",
    "    @property\n",
    "    def getter(self) :\n",
    "        return self.name, self.age\n",
    " \n",
    " \n",
    "p = Property('홍길동',30)\n",
    "p.name"
   ]
  },
  {
   "cell_type": "code",
   "execution_count": 19,
   "id": "74605b00",
   "metadata": {},
   "outputs": [
    {
     "data": {
      "text/plain": [
       "30"
      ]
     },
     "execution_count": 19,
     "metadata": {},
     "output_type": "execute_result"
    }
   ],
   "source": [
    "p.age"
   ]
  },
  {
   "cell_type": "code",
   "execution_count": 20,
   "id": "5049deff",
   "metadata": {},
   "outputs": [
    {
     "data": {
      "text/plain": [
       "('홍길동', 30)"
      ]
     },
     "execution_count": 20,
     "metadata": {},
     "output_type": "execute_result"
    }
   ],
   "source": [
    "p.getter"
   ]
  },
  {
   "cell_type": "code",
   "execution_count": 21,
   "id": "a7cf2127",
   "metadata": {},
   "outputs": [
    {
     "data": {
      "text/plain": [
       "'김길동'"
      ]
     },
     "execution_count": 21,
     "metadata": {},
     "output_type": "execute_result"
    }
   ],
   "source": [
    "class Property2:\n",
    "    def __init__(self,name) :\n",
    "        self._name = name\n",
    "    \n",
    "    @property\n",
    "    def name(self) :\n",
    "        return self._name\n",
    "    \n",
    "    @name.setter\n",
    "    def name(self, name) :\n",
    "        self._name = name\n",
    "        \n",
    "    @name.deleter    \n",
    "    def name(self) :\n",
    "        del self._name\n",
    "        \n",
    "    \n",
    "p2 = Property2('김길동')\n",
    "p2.name"
   ]
  },
  {
   "cell_type": "code",
   "execution_count": 25,
   "id": "336c83e1",
   "metadata": {},
   "outputs": [
    {
     "data": {
      "text/plain": [
       "'아로미'"
      ]
     },
     "execution_count": 25,
     "metadata": {},
     "output_type": "execute_result"
    }
   ],
   "source": [
    "p2.name = '아로미'  #@name.setter 연결함수 호출\n",
    " \n",
    "p2.name #@property 연결함수 호출"
   ]
  },
  {
   "cell_type": "code",
   "execution_count": 26,
   "id": "cea5def2",
   "metadata": {},
   "outputs": [],
   "source": [
    "del p2.name #@name.deleter 연결함수 호출\n",
    " \n",
    "# p2.name #@property 연결함수 호출 -> 내부 저장된 속성이 삭제되어 오류남"
   ]
  },
  {
   "cell_type": "code",
   "execution_count": 27,
   "id": "11c60108",
   "metadata": {},
   "outputs": [
    {
     "data": {
      "text/plain": [
       "'왕눈이'"
      ]
     },
     "execution_count": 27,
     "metadata": {},
     "output_type": "execute_result"
    }
   ],
   "source": [
    "p2.name= \"왕눈이\" #내부 속성이 갱신됨\n",
    " \n",
    "p2.name"
   ]
  },
  {
   "cell_type": "code",
   "execution_count": 30,
   "id": "3578bee8",
   "metadata": {},
   "outputs": [
    {
     "name": "stdout",
     "output_type": "stream",
     "text": [
      "이름:shane, 제조년:2016, 현재위치: (0, 0)\n"
     ]
    }
   ],
   "source": [
    "class Robot:\n",
    "    '''다양한 로봇을 만드는 클래스'''\n",
    "    def __init__(self, name, build_year):\n",
    "        self.maker = 'KAIST'\n",
    "        self.isWalking = True\n",
    "        self.name = name\n",
    "        self.build_year = build_year\n",
    "        self.xpos = 0\n",
    "        self.ypos = 0\n",
    " \n",
    "    def move(self):\n",
    "        if self.isWalking:\n",
    "            self.xpos += 1\n",
    "            self.ypos += 1\n",
    " \n",
    "    def curPosition(self):\n",
    "        print('현재 좌표: ({}, {})'.format(self.xpos, self.ypos))\n",
    " \n",
    "    def __str__(self):\n",
    "        sentence = '이름:{}, 제조년:{}, 현재위치: ({}, {})'\\\n",
    "         .format(self.name, self.build_year, self.xpos, self.ypos)\n",
    "        return sentence\n",
    "    \n",
    "hubo = Robot('shane', 2016)\n",
    "print(hubo)\n",
    "\n",
    "#__str__() 주석후 실해 결과\n",
    "\n",
    "#__str__() 주석풀고 실행 결과"
   ]
  },
  {
   "cell_type": "code",
   "execution_count": 33,
   "id": "00e9d21e",
   "metadata": {},
   "outputs": [
    {
     "name": "stdout",
     "output_type": "stream",
     "text": [
      "KAIST 0 객체생성 전\n",
      "3 클래스 속성\n",
      "POSTECH 3 클래스 속성등\n"
     ]
    }
   ],
   "source": [
    "class Robot:\n",
    "    '''다양한 로봇을 만드는 클래스''' #클래스 설명\n",
    "    population = 0 #클래스 속성(변수)\n",
    "    maker = 'KAIST'  #클래스 속성(변수)\n",
    "    \n",
    "    def __init__(self, name, build_year):\n",
    "        self.isWalking = True #객체 속성(변수)\n",
    "        self.name = name #객체 속성(변수)\n",
    "        self.build_year = build_year #객체 속성(변수)\n",
    "        self.xpos = 0 #객체 속성(변수)\n",
    "        self.ypos = 0 #객체 속성(변수)\n",
    "        Robot.population += 1 #클래스 속성(변수)\n",
    "        \n",
    "\n",
    "\n",
    "print(Robot.maker, Robot.population , \"객체생성 전\") #클래스 속성 출력\n",
    "Robot.maker = 'POSTECH' #클래스 속성 수정\n",
    " \n",
    "hubo1 = Robot('shane', 2016) #객체 생성, __init__()호출\n",
    "hubo2 = Robot('albert', 2018) #객체 생성, __init__()호출\n",
    "hubo3 = Robot('sol', 2018) #객체 생성, __init__()호출\n",
    "\n",
    "#객체속성 population이 존재하지 않기 때문에 클래스 속성에 접근\n",
    "print(hubo1.population,\"클래스 속성\") \n",
    "\n",
    "#객체속성이 존재하지 않기때문에 클래스 속성에 접근 \n",
    "print(hubo2.maker, hubo2.population ,\"클래스 속성등\")"
   ]
  },
  {
   "cell_type": "code",
   "execution_count": 34,
   "id": "d7f27238",
   "metadata": {},
   "outputs": [
    {
     "name": "stdout",
     "output_type": "stream",
     "text": [
      "albert\n",
      "2016\n",
      "2016\n",
      "\n",
      "['_Robot__build_year', '__class__', '__delattr__', '__dict__', '__dir__', '__doc__', '__eq__', '__format__', '__ge__', '__getattribute__', '__gt__', '__hash__', '__init__', '__init_subclass__', '__le__', '__lt__', '__module__', '__ne__', '__new__', '__reduce__', '__reduce_ex__', '__repr__', '__setattr__', '__sizeof__', '__str__', '__subclasshook__', '__weakref__', 'getYear', 'name', 'xpos', 'ypos']\n"
     ]
    }
   ],
   "source": [
    "class Robot:\n",
    "    '''다양한 로봇을 만드는 클래스'''\n",
    "    def __init__(self, name, build_year):\n",
    "        self.name = name\n",
    "        self.__build_year = build_year #네임 맹글링 적용 직접 접근 불가\n",
    "        self.xpos = 0\n",
    "        self.ypos = 0\n",
    " \n",
    "    def getYear(self):\n",
    "        return self.__build_year\n",
    "        \n",
    "hubo = Robot('shane', 2016)\n",
    " \n",
    "hubo.name = 'albert'\n",
    "print(hubo.name)\n",
    "#네임 맹글링 적용되어 변수명 변경되었음 _Robot__build_year로 접근하면 사용가능\n",
    "#print(hubo.__build_year) \n",
    "print(hubo._Robot__build_year) # 이렇게만 접근할 수 있음\n",
    "print(hubo.getYear())\n",
    " \n",
    "print()\n",
    "print(dir(hubo))"
   ]
  },
  {
   "cell_type": "code",
   "execution_count": 44,
   "id": "7e796937",
   "metadata": {},
   "outputs": [
    {
     "name": "stdout",
     "output_type": "stream",
     "text": [
      "객체가 생성되었습니다.\n",
      "객체를 생성시 초기화 됩니다.\n"
     ]
    }
   ],
   "source": [
    "class klass:\n",
    "    def __new__(cls, name, age):\n",
    "        print(\"객체가 생성되었습니다.\")\n",
    "        return object.__new__(cls)\n",
    "    \n",
    "    def __init__(self, name, age):\n",
    "        print(\"객체를 생성시 초기화 됩니다.\")\n",
    "        self.name = name\n",
    "        self.age = age\n",
    " \n",
    "#k = klass() #생성자,초기화 함수의 매개변수와 매칭되게 인자를 보낸다.     \n",
    "k = klass('홍길동', 19)"
   ]
  },
  {
   "cell_type": "code",
   "execution_count": 45,
   "id": "e02f6b8d",
   "metadata": {},
   "outputs": [
    {
     "data": {
      "text/plain": [
       "<__main__.klass at 0x7ff2c0019750>"
      ]
     },
     "execution_count": 45,
     "metadata": {},
     "output_type": "execute_result"
    }
   ],
   "source": [
    "k"
   ]
  },
  {
   "cell_type": "code",
   "execution_count": 46,
   "id": "5b7dd8ea",
   "metadata": {},
   "outputs": [
    {
     "name": "stdout",
     "output_type": "stream",
     "text": [
      "객체가 생성되었습니다.\n",
      "객체를 생성시 초기화 됩니다.\n"
     ]
    }
   ],
   "source": [
    "del k\n",
    "\n",
    "class klass:\n",
    "    def __new__(cls, name, age) :\n",
    "        print(\"객체가 생성되었습니다.\")\n",
    "        return object.__new__(cls)\n",
    "        \n",
    "    def __init__(self, name, age):\n",
    "        print(\"객체를 생성시 초기화 됩니다.\")\n",
    "        self.name = name\n",
    "        self.age = age\n",
    "        \n",
    "    def __del__(self):\n",
    "        print(\"객체가 삭제됩니다.\")\n",
    "#k = klass()        \n",
    "k2 = klass('홍길동', 19)"
   ]
  },
  {
   "cell_type": "code",
   "execution_count": 47,
   "id": "b1b6f912",
   "metadata": {},
   "outputs": [
    {
     "name": "stdout",
     "output_type": "stream",
     "text": [
      "객체가 삭제됩니다.\n"
     ]
    }
   ],
   "source": [
    "del k2"
   ]
  },
  {
   "cell_type": "code",
   "execution_count": 48,
   "id": "3aa475e0",
   "metadata": {},
   "outputs": [
    {
     "ename": "NameError",
     "evalue": "name 'k2' is not defined",
     "output_type": "error",
     "traceback": [
      "\u001b[0;31m---------------------------------------------------------------------------\u001b[0m",
      "\u001b[0;31mNameError\u001b[0m                                 Traceback (most recent call last)",
      "\u001b[0;32m/var/folders/9v/mrr33jr93lq6q6q76dxm53vr0000gn/T/ipykernel_8213/689739813.py\u001b[0m in \u001b[0;36m<module>\u001b[0;34m\u001b[0m\n\u001b[0;32m----> 1\u001b[0;31m \u001b[0mk2\u001b[0m\u001b[0;34m\u001b[0m\u001b[0;34m\u001b[0m\u001b[0m\n\u001b[0m",
      "\u001b[0;31mNameError\u001b[0m: name 'k2' is not defined"
     ]
    }
   ],
   "source": [
    "k2"
   ]
  },
  {
   "cell_type": "code",
   "execution_count": null,
   "id": "14af579f",
   "metadata": {},
   "outputs": [],
   "source": []
  }
 ],
 "metadata": {
  "kernelspec": {
   "display_name": "pydata",
   "language": "python",
   "name": "pydata"
  },
  "language_info": {
   "codemirror_mode": {
    "name": "ipython",
    "version": 3
   },
   "file_extension": ".py",
   "mimetype": "text/x-python",
   "name": "python",
   "nbconvert_exporter": "python",
   "pygments_lexer": "ipython3",
   "version": "3.7.11"
  }
 },
 "nbformat": 4,
 "nbformat_minor": 5
}
