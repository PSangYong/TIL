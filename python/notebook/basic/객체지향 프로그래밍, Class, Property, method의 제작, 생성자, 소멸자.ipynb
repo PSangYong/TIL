{
 "cells": [
  {
   "cell_type": "code",
   "execution_count": 1,
   "id": "2c65ee37",
   "metadata": {},
   "outputs": [
    {
     "name": "stdout",
     "output_type": "stream",
     "text": [
      "pybot 45kg\n",
      "pybot 45kg\n",
      "\n",
      "minibot 45kg\n",
      "pybot 60kg\n"
     ]
    },
    {
     "data": {
      "text/plain": [
       "'다양한 로봇을 만드는 클래스'"
      ]
     },
     "execution_count": 1,
     "metadata": {},
     "output_type": "execute_result"
    }
   ],
   "source": [
    "class Robot:\n",
    "    '''다양한 로봇을 만드는 클래스'''\n",
    "    def __init__(self):\n",
    "        self.name = 'pybot'\n",
    "        self.weight = '45kg'\n",
    "        \n",
    "hubo1 = Robot()\n",
    "hubo2 = Robot()\n",
    "print(hubo1.name, hubo1.weight)\n",
    "print(hubo2.name, hubo2.weight)\n",
    " \n",
    "print()\n",
    "hubo1.name = 'minibot'\n",
    "hubo2.weight = '60kg'\n",
    "print(hubo1.name, hubo1.weight)\n",
    "print(hubo2.name, hubo2.weight)\n",
    "Robot.__doc__"
   ]
  },
  {
   "cell_type": "code",
   "execution_count": 2,
   "id": "c3554f91",
   "metadata": {},
   "outputs": [
    {
     "name": "stdout",
     "output_type": "stream",
     "text": [
      "KAIST True shane 2016\n",
      "KAIST True albert 2018\n"
     ]
    }
   ],
   "source": [
    "class Robot:\n",
    "    '''다양한 로봇을 만드는 클래스'''\n",
    "    def __init__(self, name, build_year):\n",
    "        self.maker = 'KAIST'\n",
    "        self.isWalking = True\n",
    "        self.name = name\n",
    "        self.build_year = build_year\n",
    "        \n",
    "hubo1 = Robot('shane', 2016)\n",
    "print(hubo1.maker, hubo1.isWalking, hubo1.name, hubo1.build_year)\n",
    " \n",
    "hubo2 = Robot('albert', 2018)\n",
    "print(hubo2.maker, hubo2.isWalking, hubo2.name, hubo2.build_year)"
   ]
  },
  {
   "cell_type": "code",
   "execution_count": 3,
   "id": "922ecaac",
   "metadata": {},
   "outputs": [
    {
     "data": {
      "text/plain": [
       "'클래스 속성'"
      ]
     },
     "execution_count": 3,
     "metadata": {},
     "output_type": "execute_result"
    }
   ],
   "source": [
    "class Test:\n",
    "    name = '클래스 속성'\n",
    "    def __init__(self):\n",
    "        self.name = \"객체속성\"\n",
    "    def getName(self):\n",
    "        return self.name\n",
    " \n",
    " \n",
    "Test.name #객체가 생성되기 전"
   ]
  },
  {
   "cell_type": "code",
   "execution_count": 5,
   "id": "63b55c3f",
   "metadata": {},
   "outputs": [
    {
     "data": {
      "text/plain": [
       "'객체속성'"
      ]
     },
     "execution_count": 5,
     "metadata": {},
     "output_type": "execute_result"
    }
   ],
   "source": [
    "t = Test()  #객체생성되면서 __init__()호출\n",
    " \n",
    "t.getName() "
   ]
  },
  {
   "cell_type": "code",
   "execution_count": 6,
   "id": "09dff3de",
   "metadata": {},
   "outputs": [
    {
     "data": {
      "text/plain": [
       "'객체속성'"
      ]
     },
     "execution_count": 6,
     "metadata": {},
     "output_type": "execute_result"
    }
   ],
   "source": [
    "t.name"
   ]
  },
  {
   "cell_type": "code",
   "execution_count": 7,
   "id": "d81f2597",
   "metadata": {},
   "outputs": [
    {
     "name": "stdout",
     "output_type": "stream",
     "text": [
      "현재 좌표: (3, 3)\n"
     ]
    }
   ],
   "source": [
    "class Robot:\n",
    "    '''다양한 로봇을 만드는 클래스'''\n",
    "    def __init__(self, name, build_year): #self 로 객체속성 생성\n",
    "        self.maker = 'KAIST'\n",
    "        self.isWalking = True\n",
    "        self.name = name\n",
    "        self.build_year = build_year\n",
    "        self.xpos = 0\n",
    "        self.ypos = 0\n",
    " \n",
    "    def move(self): #self로 객체속성 접근\n",
    "        if self.isWalking:\n",
    "            self.xpos += 1\n",
    "            self.ypos += 1\n",
    " \n",
    "    def curPosition(self):\n",
    "        print('현재 좌표: ({}, {})'.format(self.xpos, self.ypos))\n",
    " \n",
    " \n",
    "hubo = Robot('shane', 2016)\n",
    "hubo.move()\n",
    "hubo.move()\n",
    "hubo.move()\n",
    "hubo.curPosition()"
   ]
  },
  {
   "cell_type": "code",
   "execution_count": 8,
   "id": "ad094452",
   "metadata": {},
   "outputs": [
    {
     "data": {
      "text/plain": [
       "'클래스 속성'"
      ]
     },
     "execution_count": 8,
     "metadata": {},
     "output_type": "execute_result"
    }
   ],
   "source": [
    "class CMethod:\n",
    "    _name = \"클래스 속성\"\n",
    "    def __init__(self, name):\n",
    "        self._name = name\n",
    "    \n",
    "    @classmethod\n",
    "    def name(cls):\n",
    "        return cls._name\n",
    " \n",
    " \n",
    "CMethod._name"
   ]
  },
  {
   "cell_type": "code",
   "execution_count": 9,
   "id": "9b778f05",
   "metadata": {},
   "outputs": [
    {
     "data": {
      "text/plain": [
       "'클래스 속성'"
      ]
     },
     "execution_count": 9,
     "metadata": {},
     "output_type": "execute_result"
    }
   ],
   "source": [
    "CMethod.name()"
   ]
  },
  {
   "cell_type": "code",
   "execution_count": 10,
   "id": "9651cb20",
   "metadata": {},
   "outputs": [
    {
     "data": {
      "text/plain": [
       "'객체속성'"
      ]
     },
     "execution_count": 10,
     "metadata": {},
     "output_type": "execute_result"
    }
   ],
   "source": [
    "c = CMethod(\"객체속성\")\n",
    "c._name"
   ]
  },
  {
   "cell_type": "code",
   "execution_count": 11,
   "id": "9deb95a0",
   "metadata": {},
   "outputs": [
    {
     "data": {
      "text/plain": [
       "'클래스 속성'"
      ]
     },
     "execution_count": 11,
     "metadata": {},
     "output_type": "execute_result"
    }
   ],
   "source": [
    "c.name() #클래스 메소드의 cls 함수는 클래스 영역을 참조함다."
   ]
  },
  {
   "cell_type": "code",
   "execution_count": 12,
   "id": "f5ecb54d",
   "metadata": {},
   "outputs": [
    {
     "data": {
      "text/plain": [
       "'클래스 속성'"
      ]
     },
     "execution_count": 12,
     "metadata": {},
     "output_type": "execute_result"
    }
   ],
   "source": [
    "class SMethod :\n",
    "    _name = \"클래스 속성\"\n",
    "    def __init__(self, name):\n",
    "        self._name = name\n",
    "        \n",
    "    @staticmethod\n",
    "    def name(cls) :\n",
    "        return cls._name\n",
    "    \n",
    "    @staticmethod\n",
    "    def getName(self) :\n",
    "        return self._name\n",
    "    \n",
    "    @staticmethod\n",
    "    def func(x,y) :\n",
    "        return x+y\n",
    " \n",
    " \n",
    "SMethod.name(SMethod)"
   ]
  },
  {
   "cell_type": "code",
   "execution_count": 16,
   "id": "dfdc42bc",
   "metadata": {},
   "outputs": [
    {
     "data": {
      "text/plain": [
       "'객체 속성'"
      ]
     },
     "execution_count": 16,
     "metadata": {},
     "output_type": "execute_result"
    }
   ],
   "source": [
    "SMethod.name(SMethod('객체 속성'))"
   ]
  },
  {
   "cell_type": "code",
   "execution_count": 14,
   "id": "d5f5b8aa",
   "metadata": {},
   "outputs": [
    {
     "data": {
      "text/plain": [
       "10"
      ]
     },
     "execution_count": 14,
     "metadata": {},
     "output_type": "execute_result"
    }
   ],
   "source": [
    "SMethod.func(5,5)"
   ]
  },
  {
   "cell_type": "code",
   "execution_count": null,
   "id": "79c64139",
   "metadata": {},
   "outputs": [],
   "source": []
  }
 ],
 "metadata": {
  "kernelspec": {
   "display_name": "pydata",
   "language": "python",
   "name": "pydata"
  },
  "language_info": {
   "codemirror_mode": {
    "name": "ipython",
    "version": 3
   },
   "file_extension": ".py",
   "mimetype": "text/x-python",
   "name": "python",
   "nbconvert_exporter": "python",
   "pygments_lexer": "ipython3",
   "version": "3.7.11"
  }
 },
 "nbformat": 4,
 "nbformat_minor": 5
}
