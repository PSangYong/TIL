{
 "cells": [
  {
   "cell_type": "code",
   "execution_count": 7,
   "id": "10ced0f8",
   "metadata": {},
   "outputs": [
    {
     "name": "stdout",
     "output_type": "stream",
     "text": [
      "1\n"
     ]
    }
   ],
   "source": [
    "def funcs():\n",
    "    a = 1  #지역변수\n",
    "    print(a)\n",
    "\n",
    "#   print(a) #함수영역을 벗어나서 에러남\n",
    "funcs()"
   ]
  },
  {
   "cell_type": "code",
   "execution_count": 6,
   "id": "dd7c4ea4",
   "metadata": {},
   "outputs": [
    {
     "name": "stdout",
     "output_type": "stream",
     "text": [
      "1\n",
      "8\n"
     ]
    }
   ],
   "source": [
    " def outer():\n",
    "    a=1\n",
    "    print(a)\n",
    "    def inner():\n",
    "        b=7\n",
    "        print(a+b)  #Eclosed scope임으로 a의 값을 사용할 수 있다.\n",
    " \n",
    "    inner()\n",
    "    #print(b) # b는 함수를 벗어나면 에러난다.\n",
    "\n",
    "outer() #오류남. 이름공간과 스코프"
   ]
  },
  {
   "cell_type": "code",
   "execution_count": 8,
   "id": "128a7a29",
   "metadata": {},
   "outputs": [
    {
     "name": "stdout",
     "output_type": "stream",
     "text": [
      "1\n",
      "2\n",
      "9\n"
     ]
    }
   ],
   "source": [
    "k = 1\n",
    "def outer():\n",
    "    a=1\n",
    "    print(a+k)\n",
    "    def inner():\n",
    "        b=7\n",
    "        print(a+b+k)\n",
    " \n",
    "    inner()\n",
    "    \n",
    " \n",
    "print(k)\n",
    "outer()"
   ]
  },
  {
   "cell_type": "code",
   "execution_count": 10,
   "id": "46ae453d",
   "metadata": {},
   "outputs": [
    {
     "name": "stdout",
     "output_type": "stream",
     "text": [
      "전역변수\n",
      "지역변수\n",
      "\n",
      "전역변수\n"
     ]
    }
   ],
   "source": [
    "global_var = '전역변수'\n",
    " \n",
    "def scope():\n",
    "    local_var = '지역변수'\n",
    "    print(global_var)\n",
    "    print(local_var)\n",
    "     \n",
    "scope() # scope() 함수 실행\n",
    " \n",
    "print()\n",
    "print(global_var)\n",
    "#print(local_var) #지역변수가 함수를 벗어나면 에러"
   ]
  },
  {
   "cell_type": "code",
   "execution_count": 14,
   "id": "2249a0f0",
   "metadata": {},
   "outputs": [
    {
     "name": "stdout",
     "output_type": "stream",
     "text": [
      "함수 안 var : global 명령어의 역할\n",
      "\n",
      "함수 밖 var : 전역변수\n"
     ]
    }
   ],
   "source": [
    "var = '전역변수'\n",
    "\n",
    "def scope():\n",
    "    #global var\n",
    "    var = 'global 명령어의 역할'\n",
    "    print('함수 안 var :', var)\n",
    "    \n",
    "scope()\n",
    "\n",
    "print()\n",
    "print('함수 밖 var :',var)"
   ]
  },
  {
   "cell_type": "code",
   "execution_count": 15,
   "id": "9ef3bf77",
   "metadata": {},
   "outputs": [
    {
     "data": {
      "text/plain": [
       "15"
      ]
     },
     "execution_count": 15,
     "metadata": {},
     "output_type": "execute_result"
    }
   ],
   "source": [
    "def outer(x):\n",
    "     def inner(y) : \n",
    "          return x + y\n",
    "     return inner(5)\n",
    "\n",
    "outer(10)"
   ]
  },
  {
   "cell_type": "code",
   "execution_count": null,
   "id": "7a8daf2a",
   "metadata": {},
   "outputs": [],
   "source": []
  }
 ],
 "metadata": {
  "kernelspec": {
   "display_name": "pydata",
   "language": "python",
   "name": "pydata"
  },
  "language_info": {
   "codemirror_mode": {
    "name": "ipython",
    "version": 3
   },
   "file_extension": ".py",
   "mimetype": "text/x-python",
   "name": "python",
   "nbconvert_exporter": "python",
   "pygments_lexer": "ipython3",
   "version": "3.7.11"
  }
 },
 "nbformat": 4,
 "nbformat_minor": 5
}
