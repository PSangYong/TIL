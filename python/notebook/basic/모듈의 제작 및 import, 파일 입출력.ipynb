{
 "cells": [
  {
   "cell_type": "code",
   "execution_count": 1,
   "id": "ef81a697",
   "metadata": {},
   "outputs": [
    {
     "name": "stdout",
     "output_type": "stream",
     "text": [
      "Writing myMath.py\n"
     ]
    }
   ],
   "source": [
    "%%writefile myMath.py\n",
    "'''\n",
    "모듈을 작성합니다.\n",
    "pi변수와 두개의 함수가 있습니다.\n",
    "'''\n",
    "pi = 3.14\n",
    "\n",
    "def oneHapN(end):    # 1부터 N까지의 합을 구해주는 함수\n",
    "    sum = 0\n",
    "    for i in range(end):\n",
    "        sum += i+1\n",
    "    return sum\n",
    " \n",
    "def oneGopN(end):    # 1부터 N까지의 곱을 구해주는 함수\n",
    "    total = 1\n",
    "    for i in range(end):\n",
    "        total *= i+1\n",
    "    return total"
   ]
  },
  {
   "cell_type": "code",
   "execution_count": 3,
   "id": "d03b802e",
   "metadata": {},
   "outputs": [
    {
     "name": "stdout",
     "output_type": "stream",
     "text": [
      "\n",
      "모듈을 작성합니다.\n",
      "pi변수와 두개의 함수가 있습니다.\n",
      "\n",
      "3.14\n",
      "3.141592653589793\n",
      "1부터 10까지의 합 : 55\n",
      "1부터 10까지의 곱 : 3628800\n"
     ]
    }
   ],
   "source": [
    "import myMath\n",
    "import math\n",
    "\n",
    "print(myMath.__doc__)\n",
    "\n",
    "print(myMath.pi)\n",
    "print(math.pi)\n",
    "\n",
    "print('1부터 10까지의 합 :', myMath.oneHapN(10))\n",
    "print('1부터 10까지의 곱 :', myMath.oneGopN(10))"
   ]
  },
  {
   "cell_type": "code",
   "execution_count": 4,
   "id": "a97f425f",
   "metadata": {},
   "outputs": [
    {
     "name": "stdout",
     "output_type": "stream",
     "text": [
      "Writing first.py\n"
     ]
    }
   ],
   "source": [
    "%%writefile first.py\n",
    "''' 내가만든  모듈입니다.\n",
    "    내부에는 변수와 함수가 하나씩 있습니다.\n",
    "'''\n",
    " \n",
    "print(__name__) #직접실행하면 __main__출력, import되서 실행되면 모듈명 출력\n",
    " \n",
    " \n",
    "first_value = 100\n",
    " \n",
    "def first_func(x, y):\n",
    "    return x + y\n",
    " \n",
    " \n",
    "if __name__ == '__main__' :\n",
    "    print()\n",
    "    print(__doc__)\n",
    "    print(\"first_value\",first_value)\n",
    "    print(\"first_func\", first_func(1,5))"
   ]
  },
  {
   "cell_type": "code",
   "execution_count": 5,
   "id": "2ff11476",
   "metadata": {},
   "outputs": [
    {
     "name": "stdout",
     "output_type": "stream",
     "text": [
      "__main__\n",
      "\n",
      " 내가만든  모듈입니다.\n",
      "    내부에는 변수와 함수가 하나씩 있습니다.\n",
      "\n",
      "first_value 100\n",
      "first_func 6\n"
     ]
    }
   ],
   "source": [
    "%run first.py #직접실행"
   ]
  },
  {
   "cell_type": "code",
   "execution_count": 6,
   "id": "6296f6ec",
   "metadata": {},
   "outputs": [
    {
     "name": "stdout",
     "output_type": "stream",
     "text": [
      "first\n",
      " 내가만든  모듈입니다.\n",
      "    내부에는 변수와 함수가 하나씩 있습니다.\n",
      "\n"
     ]
    }
   ],
   "source": [
    "import first\n",
    "print(first.__doc__)"
   ]
  },
  {
   "cell_type": "code",
   "execution_count": 8,
   "id": "d8f489ab",
   "metadata": {},
   "outputs": [
    {
     "name": "stdout",
     "output_type": "stream",
     "text": [
      "3.14\n",
      "3628800\n"
     ]
    }
   ],
   "source": [
    "import myMath as my\n",
    "\n",
    "print(my.pi)\n",
    "print(my.oneGopN(10))"
   ]
  },
  {
   "cell_type": "code",
   "execution_count": 10,
   "id": "4548089d",
   "metadata": {},
   "outputs": [
    {
     "name": "stdout",
     "output_type": "stream",
     "text": [
      "3.14\n",
      "1부터 10까지의 합: 55\n",
      "1부터 10까지의 곱: 3628800\n"
     ]
    }
   ],
   "source": [
    "from myMath import pi, oneHapN\n",
    "\n",
    "print(pi)\n",
    "\n",
    "print('1부터 10까지의 합:', oneHapN(10))\n",
    "print('1부터 10까지의 곱:', myMath.oneGopN(10)) #모듈명.함수로 호출하면 에러 안남"
   ]
  },
  {
   "cell_type": "code",
   "execution_count": 11,
   "id": "5db6bcd5",
   "metadata": {},
   "outputs": [
    {
     "name": "stdout",
     "output_type": "stream",
     "text": [
      "3.14\n",
      "1부터 10까지의 합: 55\n",
      "1부터 10까지의 곱: 3628800\n"
     ]
    }
   ],
   "source": [
    "from myMath import *\n",
    "print(pi)\n",
    " \n",
    " \n",
    "print('1부터 10까지의 합:', oneHapN(10))\n",
    "print('1부터 10까지의 곱:', oneGopN(10)) "
   ]
  },
  {
   "cell_type": "code",
   "execution_count": 12,
   "id": "9c9a3473",
   "metadata": {},
   "outputs": [
    {
     "name": "stdout",
     "output_type": "stream",
     "text": [
      "3.14\n"
     ]
    }
   ],
   "source": [
    "from math import *  #math.pi = 3.141592653589793 \n",
    "from myMath import pi #myMath.pi = 3.14\n",
    " \n",
    "print(pi)"
   ]
  },
  {
   "cell_type": "code",
   "execution_count": 14,
   "id": "ba3ef0e8",
   "metadata": {},
   "outputs": [
    {
     "data": {
      "text/plain": [
       "35"
      ]
     },
     "execution_count": 14,
     "metadata": {},
     "output_type": "execute_result"
    }
   ],
   "source": [
    "import keyword\n",
    "len(keyword.kwlist)"
   ]
  },
  {
   "cell_type": "code",
   "execution_count": 15,
   "id": "a2b509a4",
   "metadata": {},
   "outputs": [
    {
     "data": {
      "text/plain": [
       "['False',\n",
       " 'None',\n",
       " 'True',\n",
       " 'and',\n",
       " 'as',\n",
       " 'assert',\n",
       " 'async',\n",
       " 'await',\n",
       " 'break',\n",
       " 'class',\n",
       " 'continue',\n",
       " 'def',\n",
       " 'del',\n",
       " 'elif',\n",
       " 'else',\n",
       " 'except',\n",
       " 'finally']"
      ]
     },
     "execution_count": 15,
     "metadata": {},
     "output_type": "execute_result"
    }
   ],
   "source": [
    " keyword.kwlist[:17] #0번째부터 16번째까지 키워드 확인"
   ]
  },
  {
   "cell_type": "code",
   "execution_count": 16,
   "id": "8d8590a1",
   "metadata": {},
   "outputs": [
    {
     "data": {
      "text/plain": [
       "['for',\n",
       " 'from',\n",
       " 'global',\n",
       " 'if',\n",
       " 'import',\n",
       " 'in',\n",
       " 'is',\n",
       " 'lambda',\n",
       " 'nonlocal',\n",
       " 'not',\n",
       " 'or',\n",
       " 'pass',\n",
       " 'raise',\n",
       " 'return',\n",
       " 'try',\n",
       " 'while',\n",
       " 'with',\n",
       " 'yield']"
      ]
     },
     "execution_count": 16,
     "metadata": {},
     "output_type": "execute_result"
    }
   ],
   "source": [
    "keyword.kwlist[17:] #17번째부터 나머지 키워드 확인"
   ]
  },
  {
   "cell_type": "code",
   "execution_count": 17,
   "id": "e98e487b",
   "metadata": {},
   "outputs": [
    {
     "name": "stdout",
     "output_type": "stream",
     "text": [
      "True\n"
     ]
    }
   ],
   "source": [
    "print(keyword.iskeyword('None'))"
   ]
  },
  {
   "cell_type": "code",
   "execution_count": 19,
   "id": "b3d8a693",
   "metadata": {},
   "outputs": [
    {
     "name": "stdout",
     "output_type": "stream",
     "text": [
      "15 14 22 6 40 38 "
     ]
    }
   ],
   "source": [
    "import random\n",
    "for i in range(6):\n",
    "    number = random.randint(1, 45)\n",
    "    print(number, end=' ')"
   ]
  },
  {
   "cell_type": "code",
   "execution_count": 22,
   "id": "f873e13e",
   "metadata": {},
   "outputs": [
    {
     "name": "stdout",
     "output_type": "stream",
     "text": [
      "['A', '2', '3', '4', '5', '6', '7', '8', '9', '10', 'J', 'Q', 'K']\n"
     ]
    }
   ],
   "source": [
    "import random\n",
    " \n",
    "card = ['A', '2', '3', '4', '5', '6', '7', '8', '9', '10', 'J', 'Q', 'K']\n",
    "print(card)"
   ]
  },
  {
   "cell_type": "code",
   "execution_count": 41,
   "id": "a2ee378f",
   "metadata": {},
   "outputs": [
    {
     "name": "stdout",
     "output_type": "stream",
     "text": [
      "['2', 'A', '9', '7', '8', 'K', 'Q', '3', 'J', '5', '10', '4', '6']\n",
      "J\n"
     ]
    }
   ],
   "source": [
    "random.shuffle(card)\n",
    "print(card)\n",
    " \n",
    "print(random.choice(card))"
   ]
  },
  {
   "cell_type": "code",
   "execution_count": 42,
   "id": "788c8403",
   "metadata": {},
   "outputs": [
    {
     "name": "stdout",
     "output_type": "stream",
     "text": [
      "['고', '의', '화']\n",
      "[9, 20, 30, 40, 42, 43]\n"
     ]
    }
   ],
   "source": [
    "import random\n",
    " \n",
    "myStr = \"최고의영화-죽은시인의사회\"\n",
    "print(random.sample(myStr, 3))\n",
    " \n",
    "myList = random.sample(range(1,46), 6)\n",
    "myList.sort()\n",
    "print(myList)"
   ]
  },
  {
   "cell_type": "code",
   "execution_count": 44,
   "id": "ab31578d",
   "metadata": {},
   "outputs": [
    {
     "name": "stdout",
     "output_type": "stream",
     "text": [
      "0.5252510351196992\n",
      "8.768857672631995\n"
     ]
    }
   ],
   "source": [
    "import random\n",
    " \n",
    "print(random.random())\n",
    " \n",
    "print(random.uniform(0, 10))"
   ]
  },
  {
   "cell_type": "code",
   "execution_count": 46,
   "id": "47eae36a",
   "metadata": {},
   "outputs": [
    {
     "name": "stdout",
     "output_type": "stream",
     "text": [
      "Tue Oct 26 11:10:41 2021\n",
      "Tue\n",
      "Oct\n",
      "26\n",
      "11:10:41\n",
      "2021\n"
     ]
    }
   ],
   "source": [
    "import time\n",
    " \n",
    "current = time.ctime() #현재 시간정보\n",
    "print(current)\n",
    "\n",
    "#공백으로 분리해서 시간정보 분리값 획득\n",
    "list_cur = current.split(' ')\n",
    " \n",
    "for t in list_cur:\n",
    "    print(t)"
   ]
  },
  {
   "cell_type": "code",
   "execution_count": 48,
   "id": "59645bb9",
   "metadata": {},
   "outputs": [
    {
     "name": "stdout",
     "output_type": "stream",
     "text": [
      "Tue Oct 26 11:11:07 2021\n",
      "Tue Oct 26 11:11:08 2021\n",
      "Tue Oct 26 11:11:09 2021\n",
      "Tue Oct 26 11:11:10 2021\n",
      "Tue Oct 26 11:11:11 2021\n",
      "Tue Oct 26 11:11:12 2021\n"
     ]
    }
   ],
   "source": [
    "import time\n",
    " \n",
    "for t in range(6): #0~5번까지 반복\n",
    "    print(time.ctime()) #현재 시간정보를 출력\n",
    "    time.sleep(1) #1초동안 딜레이 된다."
   ]
  },
  {
   "cell_type": "code",
   "execution_count": 49,
   "id": "1f3669b4",
   "metadata": {},
   "outputs": [
    {
     "name": "stdout",
     "output_type": "stream",
     "text": [
      "2021-10-26 11:11:16.515404\n",
      "2021/10/26\n",
      "11:11:16:515404\n",
      "1\n"
     ]
    }
   ],
   "source": [
    "import datetime\n",
    " \n",
    "d = datetime.datetime.now() #현재시간\n",
    "print(d)\n",
    " \n",
    "print(d.year, d.month, d.day, sep='/') #얻은 객체로 년,월,일을 얻을 수 있다.\n",
    "print(d.hour, d.minute, d.second, d.microsecond, sep=':')#시간,분,초,마이크로초 획득\n",
    "print(d.weekday()) #요일을 알려준다."
   ]
  },
  {
   "cell_type": "code",
   "execution_count": 64,
   "id": "002e52f3",
   "metadata": {},
   "outputs": [],
   "source": [
    "f = open('../files/myfile.txt', 'w') #경로에서 파일을 확인한다.\n",
    " \n",
    "memo = '파일을 열었으니 데이터를 저장하자'\n",
    "f.write(memo)\n",
    " \n",
    "f.close()"
   ]
  },
  {
   "cell_type": "code",
   "execution_count": 65,
   "id": "b92baf46",
   "metadata": {},
   "outputs": [],
   "source": [
    "s = \"\"\" 라인1\n",
    "라인2\n",
    "라인3\n",
    "\"\"\""
   ]
  },
  {
   "cell_type": "code",
   "execution_count": 66,
   "id": "6d6db828",
   "metadata": {},
   "outputs": [],
   "source": [
    "s2 = [\"첫번째\\n\", '두번째\\n', '세번째\\n']"
   ]
  },
  {
   "cell_type": "code",
   "execution_count": 70,
   "id": "d6320e0e",
   "metadata": {},
   "outputs": [],
   "source": [
    "f = open(\"../files/data.txt\",\"x\",encoding='utf-8') #jupyter notebook 브라우저에서 확인\n",
    " \n",
    "f.writelines(s2) #f.writelines(s), 문자열도 저장한다.\n",
    " \n",
    "f.close()"
   ]
  },
  {
   "cell_type": "code",
   "execution_count": 71,
   "id": "6101e538",
   "metadata": {},
   "outputs": [],
   "source": [
    "f = open('../files/myfile.txt', 'w',encoding=\"utf-8\")\n",
    "poem = '''\n",
    "자세히 보아야\n",
    "예쁘다\n",
    "오래 보아야\n",
    "사랑스럽다.\n",
    "너도 그렇다\n",
    " \n",
    "풀꽃-나태주 시인\n",
    "'''\n",
    "f.write(poem)\n",
    "f.close()"
   ]
  },
  {
   "cell_type": "code",
   "execution_count": 72,
   "id": "9699ed93",
   "metadata": {},
   "outputs": [
    {
     "name": "stdout",
     "output_type": "stream",
     "text": [
      "\n",
      "\n",
      "자세히 보아야\n",
      "\n",
      "예쁘다\n",
      "\n",
      "오래 보아야\n",
      "\n",
      "사랑스럽다.\n",
      "\n",
      "너도 그렇다\n",
      "\n",
      " \n",
      "\n",
      "풀꽃-나태주 시인\n",
      "\n"
     ]
    }
   ],
   "source": [
    "f = open('../files/myfile.txt', 'r',encoding=\"utf-8\")\n",
    " \n",
    "while True:\n",
    "    sentence = f.readline()\n",
    "    if not sentence:\n",
    "        break\n",
    "    print(sentence)\n",
    " \n",
    "f.close()"
   ]
  },
  {
   "cell_type": "code",
   "execution_count": 73,
   "id": "a9baf6fc",
   "metadata": {},
   "outputs": [
    {
     "name": "stdout",
     "output_type": "stream",
     "text": [
      "['\\n', '자세히 보아야\\n', '예쁘다\\n', '오래 보아야\\n', '사랑스럽다.\\n', '너도 그렇다\\n', ' \\n', '풀꽃-나태주 시인\\n']\n",
      "\n",
      "\n",
      "자세히 보아야\n",
      "\n",
      "예쁘다\n",
      "\n",
      "오래 보아야\n",
      "\n",
      "사랑스럽다.\n",
      "\n",
      "너도 그렇다\n",
      "\n",
      " \n",
      "\n",
      "풀꽃-나태주 시인\n",
      "\n"
     ]
    }
   ],
   "source": [
    "f = open('../files/myfile.txt', 'r', encoding=\"utf-8\")\n",
    " \n",
    "all = f.readlines()\n",
    " \n",
    "print(all)\n",
    " \n",
    "for sentence in all:\n",
    "    print(sentence)\n",
    " \n",
    "f.close()"
   ]
  },
  {
   "cell_type": "code",
   "execution_count": 74,
   "id": "871c4b2b",
   "metadata": {},
   "outputs": [
    {
     "name": "stdout",
     "output_type": "stream",
     "text": [
      "\n",
      "자세히 보아야\n",
      "예쁘다\n",
      "오래 보아야\n",
      "사랑스럽다.\n",
      "너도 그렇다\n",
      " \n",
      "풀꽃-나태주 시인\n",
      "\n"
     ]
    }
   ],
   "source": [
    "f = open('../files/myfile.txt', 'r', encoding=\"utf-8\")\n",
    " \n",
    "string = f.read()\n",
    " \n",
    "print(string)\n",
    " \n",
    "f.close()"
   ]
  },
  {
   "cell_type": "code",
   "execution_count": 75,
   "id": "d881e550",
   "metadata": {},
   "outputs": [
    {
     "name": "stdout",
     "output_type": "stream",
     "text": [
      "\n",
      "자세히 보아야\n",
      "예쁘다\n",
      "오래 보아야\n",
      "사랑스럽다.\n",
      "너도 그렇다\n",
      " \n",
      "풀꽃-나태주 시인\n"
     ]
    }
   ],
   "source": [
    "f = open('../files/myfile.txt', 'r', encoding=\"utf-8\")\n",
    " \n",
    "for line in f:\n",
    "    print(line, end=\"\") #end=\"\"  개행문자 두 번실행되지 않는다.\n",
    " \n",
    "f.close()"
   ]
  },
  {
   "cell_type": "code",
   "execution_count": 77,
   "id": "8a871569",
   "metadata": {},
   "outputs": [
    {
     "name": "stdout",
     "output_type": "stream",
     "text": [
      "첫번째\n",
      "두번째\n",
      "세번째\n"
     ]
    }
   ],
   "source": [
    "fr = open(\"../files/data2.txt\",\"x\",encoding='utf-8') #data2.txt파일이 존재하면 오류난다.\n",
    "fr.writelines(s2)\n",
    "fr.close()\n",
    " \n",
    "fr = open(\"../files/data2.txt\",\"r\",encoding='utf-8')\n",
    " \n",
    "for i in fr:\n",
    "    print (i, end=\"\")"
   ]
  },
  {
   "cell_type": "code",
   "execution_count": 78,
   "id": "6c9face1",
   "metadata": {},
   "outputs": [
    {
     "name": "stdout",
     "output_type": "stream",
     "text": [
      "\n",
      "자세히 보아야\n",
      "예쁘다\n",
      "오래 보아야\n",
      "사랑스럽다.\n",
      "너도 그렇다\n",
      " \n",
      "풀꽃-나태주 시인\n"
     ]
    }
   ],
   "source": [
    "with open('../files/myfile.txt', 'r', encoding=\"utf-8\") as f:\n",
    "    for line in f:\n",
    "        print(line,end=\"\")"
   ]
  },
  {
   "cell_type": "code",
   "execution_count": 79,
   "id": "fde8c17a",
   "metadata": {},
   "outputs": [
    {
     "name": "stdout",
     "output_type": "stream",
     "text": [
      "------ 원본 파일 ------\n",
      "\n",
      "자세히 보아야\n",
      "예쁘다\n",
      "오래 보아야\n",
      "사랑스럽다.\n",
      "너도 그렇다\n",
      " \n",
      "풀꽃-나태주 시인\n",
      "\n",
      "------ 데이터를 추가한 후 ------\n",
      "\n",
      "자세히 보아야\n",
      "예쁘다\n",
      "오래 보아야\n",
      "사랑스럽다.\n",
      "너도 그렇다\n",
      " \n",
      "풀꽃-나태주 시인\n",
      "\n",
      " \n",
      "하늘 아래 내가 받은\n",
      "가장 커다란 선물은\n",
      "오늘입니다.\n",
      " \n",
      "오늘 받은 선물 가운데서도\n",
      "가장 아름다운 선물은\n",
      "당신입니다.\n",
      " \n",
      "선물-나태주 시인\n",
      " \n",
      "\n"
     ]
    }
   ],
   "source": [
    "with open('../files/myfile.txt', 'r', encoding=\"utf-8\") as f:\n",
    "    print('------ 원본 파일 ------')\n",
    "    print(f.read())\n",
    " \n",
    "poem2 = '''\n",
    " \n",
    "하늘 아래 내가 받은\n",
    "가장 커다란 선물은\n",
    "오늘입니다.\n",
    " \n",
    "오늘 받은 선물 가운데서도\n",
    "가장 아름다운 선물은\n",
    "당신입니다.\n",
    " \n",
    "선물-나태주 시인\n",
    " \n",
    "'''\n",
    " \n",
    "with open('../files/myfile.txt', 'a', encoding=\"utf-8\") as f:\n",
    "    f.write(poem2)\n",
    " \n",
    "with open('../files/myfile.txt', 'r', encoding=\"utf-8\") as f:\n",
    "    print('------ 데이터를 추가한 후 ------')\n",
    "    print(f.read())"
   ]
  },
  {
   "cell_type": "code",
   "execution_count": 80,
   "id": "58b0e6d0",
   "metadata": {},
   "outputs": [
    {
     "name": "stdout",
     "output_type": "stream",
     "text": [
      "\n",
      "자세히 보아야\n",
      "예쁘다\n",
      "오래 보아야\n",
      "사랑스럽다.\n",
      "너도 그렇다\n",
      " \n",
      "풀꽃-나태주 시인\n",
      "\n",
      " \n",
      "하늘 아래 내가 받은\n",
      "가장 커다란 선물은\n",
      "오늘입니다.\n",
      " \n",
      "오늘 받은 선물 가운데서도\n",
      "가장 아름다운 선물은\n",
      "당신입니다.\n",
      " \n",
      "선물-나태주 시인\n",
      " \n"
     ]
    }
   ],
   "source": [
    "with open('../files/myfile.txt', 'r', encoding='utf-8') as fr :\n",
    "    with open('../files/myfile_copy.txt', 'w', encoding='utf-8') as fw:\n",
    "        fw.write(fr.read())\n",
    " \n",
    " \n",
    "with open('../files/myfile_copy.txt',encoding=\"utf-8\") as fr:\n",
    "    for i in fr :\n",
    "        print(i, end=\"\")"
   ]
  },
  {
   "cell_type": "code",
   "execution_count": 81,
   "id": "9d5fbc17",
   "metadata": {},
   "outputs": [],
   "source": [
    "bufsize = 1024\n",
    " \n",
    "with open('../files/sample.jpg', 'rb') as frb :\n",
    "    with open('../files/sample_copy.jpg', 'wb') as fwb:\n",
    "        data = frb.read(bufsize)\n",
    "        while data:\n",
    "            fwb.write(data)\n",
    "            data = frb.read(bufsize)"
   ]
  },
  {
   "cell_type": "code",
   "execution_count": 82,
   "id": "169c7c36",
   "metadata": {},
   "outputs": [
    {
     "name": "stdout",
     "output_type": "stream",
     "text": [
      "[../files/myfile_copy.txt] 파일을 삭제하겠습니까? (y/n)y\n",
      "[../files/myfile_copy.txt]를 삭제했습니다.\n"
     ]
    }
   ],
   "source": [
    "from os import remove\n",
    " \n",
    "target_file = '../files/myfile_copy.txt'\n",
    " \n",
    "#k = input('[%s] 파일을 삭제하겠습니까? (y/n)' %target_file)\n",
    "k = input('[{}] 파일을 삭제하겠습니까? (y/n)'.format(target_file))\n",
    " \n",
    "if k == 'y':\n",
    " \n",
    "    remove(target_file)\n",
    " \n",
    "    print('[%s]를 삭제했습니다.' %target_file)"
   ]
  },
  {
   "cell_type": "code",
   "execution_count": 83,
   "id": "e98ee668",
   "metadata": {},
   "outputs": [
    {
     "name": "stdout",
     "output_type": "stream",
     "text": [
      "새로 생성할 디렉터리 이름을 입력하세요: test\n",
      "[test] 디렉터리를 새로 생성했습니다.\n"
     ]
    }
   ],
   "source": [
    "import os\n",
    " \n",
    "newfolder = input('새로 생성할 디렉터리 이름을 입력하세요: ')\n",
    " \n",
    "try:\n",
    " \n",
    "    os.mkdir(newfolder)\n",
    " \n",
    "    print('[%s] 디렉터리를 새로 생성했습니다.' %newfolder)\n",
    " \n",
    "except Exception as e:\n",
    " \n",
    "    print(e)"
   ]
  },
  {
   "cell_type": "code",
   "execution_count": 84,
   "id": "78422f68",
   "metadata": {},
   "outputs": [
    {
     "name": "stdout",
     "output_type": "stream",
     "text": [
      "[./test] 디렉터리를 삭제하겠습니까? (y/n)y\n",
      "[./test] 디렉터리를 삭제했습니다.\n"
     ]
    }
   ],
   "source": [
    "import os\n",
    " \n",
    "target_folder = './test'\n",
    " \n",
    "k = input('[%s] 디렉터리를 삭제하겠습니까? (y/n)' %target_folder)\n",
    " \n",
    "if k == 'y':\n",
    " \n",
    "    try:\n",
    " \n",
    "        os.rmdir(target_folder)\n",
    " \n",
    "        print('[%s] 디렉터리를 삭제했습니다.' %target_folder)\n",
    " \n",
    "    except Exception as e:\n",
    " \n",
    "        print(e)"
   ]
  },
  {
   "cell_type": "code",
   "execution_count": null,
   "id": "2e2fc2da",
   "metadata": {},
   "outputs": [],
   "source": []
  }
 ],
 "metadata": {
  "kernelspec": {
   "display_name": "pydata",
   "language": "python",
   "name": "pydata"
  },
  "language_info": {
   "codemirror_mode": {
    "name": "ipython",
    "version": 3
   },
   "file_extension": ".py",
   "mimetype": "text/x-python",
   "name": "python",
   "nbconvert_exporter": "python",
   "pygments_lexer": "ipython3",
   "version": "3.7.11"
  }
 },
 "nbformat": 4,
 "nbformat_minor": 5
}
