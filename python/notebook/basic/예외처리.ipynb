{
 "cells": [
  {
   "cell_type": "code",
   "execution_count": 1,
   "id": "7163e8fd",
   "metadata": {},
   "outputs": [
    {
     "name": "stdout",
     "output_type": "stream",
     "text": [
      "안녕하세요\n",
      "예외가 발생했습니다.\n"
     ]
    }
   ],
   "source": [
    "try:\n",
    "    print('안녕하세요')\n",
    "    print(param)\n",
    "except:\n",
    "    print('예외가 발생했습니다.')"
   ]
  },
  {
   "cell_type": "code",
   "execution_count": 2,
   "id": "85f0d9a2",
   "metadata": {},
   "outputs": [
    {
     "name": "stdout",
     "output_type": "stream",
     "text": [
      "예외가 발생했습니다.\n"
     ]
    }
   ],
   "source": [
    "try:\n",
    "    print(1/0)\n",
    "except:\n",
    "    print('예외가 발생했습니다.')"
   ]
  },
  {
   "cell_type": "code",
   "execution_count": 5,
   "id": "a4327344",
   "metadata": {},
   "outputs": [
    {
     "name": "stdout",
     "output_type": "stream",
     "text": [
      "2.6666666666666665\n",
      "You cannot divide by zero, try again\n"
     ]
    }
   ],
   "source": [
    "def divide_numbers(x,y):\n",
    "    try:\n",
    "        return x/y\n",
    "    except ZeroDivisionError:\n",
    "        return 'You cannot divide by zero, try again'\n",
    "    \n",
    "print(divide_numbers(8,3))\n",
    "print(divide_numbers(8,0))"
   ]
  },
  {
   "cell_type": "code",
   "execution_count": 7,
   "id": "cdc7821b",
   "metadata": {},
   "outputs": [
    {
     "name": "stdout",
     "output_type": "stream",
     "text": [
      "안녕하세요\n",
      "100\n",
      "예외가 발생하지 않았습니다.\n"
     ]
    }
   ],
   "source": [
    "try:\n",
    "    print('안녕하세요')\n",
    "    param = 100\n",
    "    print(param)\n",
    "except:\n",
    "    print('예외가 발생했습니다.')\n",
    "else:\n",
    "    print('예외가 발생하지 않았습니다.')"
   ]
  },
  {
   "cell_type": "code",
   "execution_count": 12,
   "id": "e7fcab64",
   "metadata": {},
   "outputs": [
    {
     "name": "stdout",
     "output_type": "stream",
     "text": [
      "divident : 20\n",
      "divisor : 1.5\n",
      "Your must enter a numeric value\n",
      "retry ane only user numeric values this time\n"
     ]
    }
   ],
   "source": [
    "try:\n",
    "    try:\n",
    "        x = input(\"divident : \")\n",
    "        y = input(\"divisor : \")\n",
    "        x = int(x)\n",
    "        y = int(y)\n",
    "    except ValueError:\n",
    "        print(\"Your must enter a numeric value\")\n",
    "        \n",
    "    z = x/y\n",
    "except ZeroDivisionError:\n",
    "    print(\"You cannot divide by zero\")\n",
    "except TypeError:\n",
    "    print(\"retry ane only user numeric values this time\")\n",
    "else:\n",
    "    print(\"Your quotient is %d\" %z)"
   ]
  },
  {
   "cell_type": "code",
   "execution_count": 15,
   "id": "ed942221",
   "metadata": {},
   "outputs": [
    {
     "name": "stdout",
     "output_type": "stream",
     "text": [
      "첨자를 입력하세요:\n",
      "3\n",
      "잘못된 첨자입니다.\n"
     ]
    }
   ],
   "source": [
    "# 복수개의 except절\n",
    " \n",
    "my_list = [1, 2, 3]\n",
    " \n",
    "try:\n",
    "    print(\"첨자를 입력하세요:\")\n",
    "    index = int(input())\n",
    "    print(my_list[index]/0)\n",
    "except ZeroDivisionError:\n",
    "    print(\"0으로 나눌 수 없습니다.\")\n",
    "except IndexError:\n",
    "    print(\"잘못된 첨자입니다.\")"
   ]
  },
  {
   "cell_type": "code",
   "execution_count": 18,
   "id": "43fc113e",
   "metadata": {},
   "outputs": [
    {
     "name": "stdout",
     "output_type": "stream",
     "text": [
      "첨자를 입력하세요2:\n",
      "6\n",
      "잘못된 첨자입니다. (list index out of range)\n"
     ]
    }
   ],
   "source": [
    "# as로 예외형식을 받아온다.\n",
    " \n",
    "my_list = [1, 2, 3]\n",
    " \n",
    "try:\n",
    "    print(\"첨자를 입력하세요2:\")\n",
    "    index = int(input())\n",
    "    print(my_list[index]/0)\n",
    "except ZeroDivisionError as err:\n",
    "    print(\"0으로 나눌 수 없습니다. ({0})\".format(err))\n",
    "except IndexError as err:\n",
    "    print(\"잘못된 첨자입니다. (%s)\" %err)"
   ]
  },
  {
   "cell_type": "code",
   "execution_count": 19,
   "id": "539c4e62",
   "metadata": {},
   "outputs": [
    {
     "name": "stdout",
     "output_type": "stream",
     "text": [
      "첨자를 입력하세요3:\n",
      "ad\n",
      "예외가 발생했습니다.(invalid literal for int() with base 10: 'ad')\n"
     ]
    }
   ],
   "source": [
    "#Exception 클래스는 모든 예외를 다 받을 수 있다.\n",
    " \n",
    "my_list = [1, 2, 3]\n",
    " \n",
    "try:\n",
    "    print(\"첨자를 입력하세요3:\")\n",
    "    index = int(input())\n",
    "    print(my_list[index]/0)\n",
    "except ZeroDivisionError as err:\n",
    "    print(\"0으로 나눌 수 없습니다. ({0})\".format(err))\n",
    "except Exception as err :\n",
    "    print(\"예외가 발생했습니다.({0})\".format(err))"
   ]
  },
  {
   "cell_type": "code",
   "execution_count": 21,
   "id": "e0403ec8",
   "metadata": {},
   "outputs": [
    {
     "name": "stdout",
     "output_type": "stream",
     "text": [
      "첨자를 입력하세요:\n",
      "1\n",
      "my_list[1]: 2\n",
      "리스트의 요소 출력에 성공했습니다.\n",
      "어떤 일이 있어도 마무리합니다.\n"
     ]
    }
   ],
   "source": [
    "#else는 except절을 만나지 않으면 실행되는 블럭이고, finally는 무조건 실행되는 블럭이다.\n",
    " \n",
    "my_list = [1, 2, 3]\n",
    " \n",
    "try:\n",
    "    print(\"첨자를 입력하세요:\")\n",
    "    index = int(input())\n",
    "    print(\"my_list[{0}]: {1}\".format(index, my_list[index]))\n",
    "except Exception as err:\n",
    "    print(\"예외가 발생했습니다 ({0})\".format(err))\n",
    "else:\n",
    "    print(\"리스트의 요소 출력에 성공했습니다.\")\n",
    "finally:\n",
    "    print(\"어떤 일이 있어도 마무리합니다.\")"
   ]
  },
  {
   "cell_type": "code",
   "execution_count": 24,
   "id": "ae5a5048",
   "metadata": {},
   "outputs": [
    {
     "name": "stdout",
     "output_type": "stream",
     "text": [
      "1~10 사이의 수를 입력하세요:\n",
      "9\n",
      "입력한 수는 9입니다.\n"
     ]
    }
   ],
   "source": [
    "# 예외 일으키기 (raise)\n",
    "def some_function():\n",
    "    print(\"1~10 사이의 수를 입력하세요:\")\n",
    "    num = int(input())\n",
    "    if num < 1 or num > 10:\n",
    "        raise Exception(\"유효하지 않은 숫자입니다.: {0}\".format(num))\n",
    "    else:\n",
    "        print(\"입력한 수는 {0}입니다.\".format(num))\n",
    " \n",
    "try:\n",
    "    some_function()\n",
    "except Exception as err:\n",
    "    print(\"예외가 발생했습니다. {0}\".format(err))\n"
   ]
  },
  {
   "cell_type": "code",
   "execution_count": 29,
   "id": "515fed2f",
   "metadata": {},
   "outputs": [
    {
     "name": "stdout",
     "output_type": "stream",
     "text": [
      "1~10사이의 수를 입력하세요 : \n",
      "0\n",
      "1) 예외가 발생했습니다. 유효하지 않은 숫자입니다. : 0\n",
      "2) 예외가 발생했습니다.유효하지 않은 숫자입니다. : 0\n"
     ]
    }
   ],
   "source": [
    "def some_function2():\n",
    "    print(\"1~10사이의 수를 입력하세요 : \")\n",
    "    num = int(input())\n",
    "    if num < 1 or num > 10:\n",
    "        raise Exception(\"유효하지 않은 숫자입니다. : {0}\".format(num))\n",
    "    else:\n",
    "        print(\"입력한 수는 {0}입니다.\".format(num))\n",
    "        \n",
    "def some_function_caller():\n",
    "    try:\n",
    "        some_function2()\n",
    "    except Exception as err:\n",
    "        print(\"1) 예외가 발생했습니다. {0}\".format(err))\n",
    "        raise\n",
    "        \n",
    "try:\n",
    "    some_function_caller()\n",
    "except Exception as err:\n",
    "    print(\"2) 예외가 발생했습니다.{0}\".format(err))"
   ]
  },
  {
   "cell_type": "code",
   "execution_count": null,
   "id": "1a36064f",
   "metadata": {},
   "outputs": [],
   "source": []
  }
 ],
 "metadata": {
  "kernelspec": {
   "display_name": "pydata",
   "language": "python",
   "name": "pydata"
  },
  "language_info": {
   "codemirror_mode": {
    "name": "ipython",
    "version": 3
   },
   "file_extension": ".py",
   "mimetype": "text/x-python",
   "name": "python",
   "nbconvert_exporter": "python",
   "pygments_lexer": "ipython3",
   "version": "3.7.11"
  }
 },
 "nbformat": 4,
 "nbformat_minor": 5
}
