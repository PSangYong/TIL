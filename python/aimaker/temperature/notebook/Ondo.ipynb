{
 "cells": [
  {
   "cell_type": "markdown",
   "id": "b7922132",
   "metadata": {},
   "source": [
    "# 난수 발생 테스트"
   ]
  },
  {
   "cell_type": "code",
   "execution_count": null,
   "id": "b5eb55f1",
   "metadata": {},
   "outputs": [],
   "source": [
    "from time import sleep\n",
    "import random as rnd\n",
    "\n",
    "#rnd.seed(0) # 1회성 난수 발생 고정\n",
    "data = []\n",
    "for i in range(5):\n",
    "    data.append(rnd.randint(-5, 5)) # -5 ~ 5\n",
    "print(data)"
   ]
  },
  {
   "cell_type": "code",
   "execution_count": 17,
   "id": "02067a52",
   "metadata": {},
   "outputs": [
    {
     "ename": "KeyboardInterrupt",
     "evalue": "",
     "output_type": "error",
     "traceback": [
      "\u001b[0;31m---------------------------------------------------------------------------\u001b[0m",
      "\u001b[0;31mKeyboardInterrupt\u001b[0m                         Traceback (most recent call last)",
      "\u001b[0;32m/var/folders/9v/mrr33jr93lq6q6q76dxm53vr0000gn/T/ipykernel_31327/2172360582.py\u001b[0m in \u001b[0;36m<module>\u001b[0;34m\u001b[0m\n\u001b[1;32m      1\u001b[0m \u001b[0;32mwhile\u001b[0m \u001b[0;32mTrue\u001b[0m\u001b[0;34m:\u001b[0m\u001b[0;34m\u001b[0m\u001b[0;34m\u001b[0m\u001b[0m\n\u001b[1;32m      2\u001b[0m     \u001b[0;31m# sleep(0.5) # 0.5초\u001b[0m\u001b[0;34m\u001b[0m\u001b[0;34m\u001b[0m\u001b[0;34m\u001b[0m\u001b[0m\n\u001b[0;32m----> 3\u001b[0;31m     \u001b[0msleep\u001b[0m\u001b[0;34m(\u001b[0m\u001b[0;36m3\u001b[0m\u001b[0;34m)\u001b[0m \u001b[0;31m# 3초\u001b[0m\u001b[0;34m\u001b[0m\u001b[0;34m\u001b[0m\u001b[0m\n\u001b[0m\u001b[1;32m      4\u001b[0m     \u001b[0mtemperature\u001b[0m \u001b[0;34m=\u001b[0m \u001b[0mrnd\u001b[0m\u001b[0;34m.\u001b[0m\u001b[0mrandint\u001b[0m\u001b[0;34m(\u001b[0m\u001b[0;34m-\u001b[0m\u001b[0;36m5\u001b[0m\u001b[0;34m,\u001b[0m \u001b[0;36m5\u001b[0m\u001b[0;34m)\u001b[0m\u001b[0;34m\u001b[0m\u001b[0;34m\u001b[0m\u001b[0m\n\u001b[1;32m      5\u001b[0m     \u001b[0mprint\u001b[0m\u001b[0;34m(\u001b[0m\u001b[0mtemperature\u001b[0m\u001b[0;34m)\u001b[0m \u001b[0;31m# -5 ~ 5\u001b[0m\u001b[0;34m\u001b[0m\u001b[0;34m\u001b[0m\u001b[0m\n",
      "\u001b[0;31mKeyboardInterrupt\u001b[0m: "
     ]
    }
   ],
   "source": [
    "while True:\n",
    "    # sleep(0.5) # 0.5초\n",
    "    sleep(3) # 3초\n",
    "    temperature = rnd.randint(-5, 5)\n",
    "    print(temperature) # -5 ~ 5"
   ]
  },
  {
   "cell_type": "markdown",
   "id": "c76be9ff",
   "metadata": {},
   "source": [
    "# Python 연동테스트"
   ]
  },
  {
   "cell_type": "code",
   "execution_count": 1,
   "id": "dadcd316",
   "metadata": {},
   "outputs": [
    {
     "ename": "ModuleNotFoundError",
     "evalue": "No module named 'sqlalchemy'",
     "output_type": "error",
     "traceback": [
      "\u001b[0;31m---------------------------------------------------------------------------\u001b[0m",
      "\u001b[0;31mModuleNotFoundError\u001b[0m                       Traceback (most recent call last)",
      "\u001b[0;32m/var/folders/9v/mrr33jr93lq6q6q76dxm53vr0000gn/T/ipykernel_31852/1126820602.py\u001b[0m in \u001b[0;36m<module>\u001b[0;34m\u001b[0m\n\u001b[1;32m      9\u001b[0m \u001b[0;34m\u001b[0m\u001b[0m\n\u001b[1;32m     10\u001b[0m \u001b[0;31m# import mysql.connector\u001b[0m\u001b[0;34m\u001b[0m\u001b[0;34m\u001b[0m\u001b[0;34m\u001b[0m\u001b[0m\n\u001b[0;32m---> 11\u001b[0;31m \u001b[0;32mfrom\u001b[0m \u001b[0msqlalchemy\u001b[0m \u001b[0;32mimport\u001b[0m \u001b[0mcreate_engine\u001b[0m  \u001b[0;31m# Pandas -> Oracle\u001b[0m\u001b[0;34m\u001b[0m\u001b[0;34m\u001b[0m\u001b[0m\n\u001b[0m",
      "\u001b[0;31mModuleNotFoundError\u001b[0m: No module named 'sqlalchemy'"
     ]
    }
   ],
   "source": [
    "from time import sleep\n",
    "import numpy as np\n",
    "import random as rnd\n",
    " \n",
    "import cx_Oracle  # Oracle\n",
    "# import pymysql  # MariaDB, MySQL\n",
    " \n",
    "import pandas as pd\n",
    " \n",
    "# import mysql.connector\n",
    "from sqlalchemy import create_engine  # Pandas -> Oracle"
   ]
  },
  {
   "cell_type": "code",
   "execution_count": 2,
   "id": "1c452bc0",
   "metadata": {},
   "outputs": [
    {
     "ename": "DatabaseError",
     "evalue": "DPI-1047: Cannot locate a 64-bit Oracle Client library: \"dlopen($/usr/local/oracle/instantclient_19_8/lib/libclntsh.dylib, 1): image not found\". See https://cx-oracle.readthedocs.io/en/latest/user_guide/installation.html for help",
     "output_type": "error",
     "traceback": [
      "\u001b[0;31m---------------------------------------------------------------------------\u001b[0m",
      "\u001b[0;31mDatabaseError\u001b[0m                             Traceback (most recent call last)",
      "\u001b[0;32m/var/folders/9v/mrr33jr93lq6q6q76dxm53vr0000gn/T/ipykernel_31852/3096838139.py\u001b[0m in \u001b[0;36m<module>\u001b[0;34m\u001b[0m\n\u001b[1;32m      1\u001b[0m \u001b[0;31m# 등록, SQL 마지막 부분에 세미콜론이 있으면 에러가 발생함으로 삭제 할 것\u001b[0m\u001b[0;34m\u001b[0m\u001b[0;34m\u001b[0m\u001b[0;34m\u001b[0m\u001b[0m\n\u001b[1;32m      2\u001b[0m \u001b[0;31m# Oracle Connection 연결, user1234 계정으로 XE 사용.\u001b[0m\u001b[0;34m\u001b[0m\u001b[0;34m\u001b[0m\u001b[0;34m\u001b[0m\u001b[0m\n\u001b[0;32m----> 3\u001b[0;31m \u001b[0mconn\u001b[0m \u001b[0;34m=\u001b[0m \u001b[0mcx_Oracle\u001b[0m\u001b[0;34m.\u001b[0m\u001b[0mconnect\u001b[0m\u001b[0;34m(\u001b[0m\u001b[0;34m'admin/Gksmf336!@database-1.cxfxuru6havp.ap-northeast-2.rds.amazonaws.com:1521/ORCL'\u001b[0m\u001b[0;34m)\u001b[0m\u001b[0;34m\u001b[0m\u001b[0;34m\u001b[0m\u001b[0m\n\u001b[0m\u001b[1;32m      4\u001b[0m \u001b[0mcursor\u001b[0m \u001b[0;34m=\u001b[0m \u001b[0mconn\u001b[0m\u001b[0;34m.\u001b[0m\u001b[0mcursor\u001b[0m\u001b[0;34m(\u001b[0m\u001b[0;34m)\u001b[0m\u001b[0;34m\u001b[0m\u001b[0;34m\u001b[0m\u001b[0m\n\u001b[1;32m      5\u001b[0m \u001b[0;34m\u001b[0m\u001b[0m\n",
      "\u001b[0;31mDatabaseError\u001b[0m: DPI-1047: Cannot locate a 64-bit Oracle Client library: \"dlopen($/usr/local/oracle/instantclient_19_8/lib/libclntsh.dylib, 1): image not found\". See https://cx-oracle.readthedocs.io/en/latest/user_guide/installation.html for help"
     ]
    }
   ],
   "source": [
    "# 등록, SQL 마지막 부분에 세미콜론이 있으면 에러가 발생함으로 삭제 할 것\n",
    "# Oracle Connection 연결, user1234 계정으로 XE 사용.\n",
    "conn = cx_Oracle.connect('admin/Gksmf336!@database-1.cxfxuru6havp.ap-northeast-2.rds.amazonaws.com:1521/ORCL')\n",
    "cursor = conn.cursor()\n",
    " \n",
    "sql = '''\n",
    "INSERT INTO ondo(ondono, kit, ondo, rdate)\n",
    "VALUES(ondo_seq.nextval, :kit, :ondo, sysdate)\n",
    "''' \n",
    "result = cursor.execute(sql, ('amk3', 23.5))\n",
    "print('result:', result) # None: 정상 처리, Exception: 에러\n",
    "cursor.execute(sql, ('amk3', 24.5))\n",
    "cursor.execute(sql, ('amk3', 25.5))\n",
    "conn.commit() # sql commit;과 동일"
   ]
  },
  {
   "cell_type": "code",
   "execution_count": 19,
   "id": "5131d8ea",
   "metadata": {},
   "outputs": [
    {
     "ename": "NameError",
     "evalue": "name 'cursor' is not defined",
     "output_type": "error",
     "traceback": [
      "\u001b[0;31m---------------------------------------------------------------------------\u001b[0m",
      "\u001b[0;31mNameError\u001b[0m                                 Traceback (most recent call last)",
      "\u001b[0;32m/var/folders/9v/mrr33jr93lq6q6q76dxm53vr0000gn/T/ipykernel_31327/1281257657.py\u001b[0m in \u001b[0;36m<module>\u001b[0;34m\u001b[0m\n\u001b[1;32m      5\u001b[0m   \u001b[0mORDER\u001b[0m \u001b[0mBY\u001b[0m \u001b[0mondono\u001b[0m \u001b[0mDESC\u001b[0m\u001b[0;34m\u001b[0m\u001b[0;34m\u001b[0m\u001b[0m\n\u001b[1;32m      6\u001b[0m '''\n\u001b[0;32m----> 7\u001b[0;31m \u001b[0mcursor\u001b[0m\u001b[0;34m.\u001b[0m\u001b[0mexecute\u001b[0m\u001b[0;34m(\u001b[0m\u001b[0msql\u001b[0m\u001b[0;34m)\u001b[0m\u001b[0;34m\u001b[0m\u001b[0;34m\u001b[0m\u001b[0m\n\u001b[0m\u001b[1;32m      8\u001b[0m \u001b[0mrows\u001b[0m \u001b[0;34m=\u001b[0m \u001b[0mcursor\u001b[0m\u001b[0;34m.\u001b[0m\u001b[0mfetchall\u001b[0m\u001b[0;34m(\u001b[0m\u001b[0;34m)\u001b[0m \u001b[0;31m# 모든 레코드의 산출\u001b[0m\u001b[0;34m\u001b[0m\u001b[0;34m\u001b[0m\u001b[0m\n\u001b[1;32m      9\u001b[0m \u001b[0;31m# print(type(rows))\u001b[0m\u001b[0;34m\u001b[0m\u001b[0;34m\u001b[0m\u001b[0;34m\u001b[0m\u001b[0m\n",
      "\u001b[0;31mNameError\u001b[0m: name 'cursor' is not defined"
     ]
    }
   ],
   "source": [
    "# 목록\n",
    "sql = '''\n",
    "  SELECT ondono, kit, ondo, TO_CHAR(rdate, 'yyyy-mm-dd hh:mi:ss') as rdate \n",
    "  FROM ondo \n",
    "  ORDER BY ondono DESC\n",
    "'''\n",
    "cursor.execute(sql)\n",
    "rows = cursor.fetchall() # 모든 레코드의 산출\n",
    "# print(type(rows))\n",
    "# print(np.array(rows).shape)\n",
    "# print(rows)\n",
    "# print(type(rows[0]))  # <class 'tuple'>\n",
    "for row in rows:\n",
    "    fmt = \"{0}, {1}, {2}, {3}\"\n",
    "    print (fmt.format(row[0], row[1], row[2], row[3]))"
   ]
  },
  {
   "cell_type": "code",
   "execution_count": null,
   "id": "7b448ef9",
   "metadata": {},
   "outputs": [],
   "source": []
  }
 ],
 "metadata": {
  "kernelspec": {
   "display_name": "pydata",
   "language": "python",
   "name": "pydata"
  },
  "language_info": {
   "codemirror_mode": {
    "name": "ipython",
    "version": 3
   },
   "file_extension": ".py",
   "mimetype": "text/x-python",
   "name": "python",
   "nbconvert_exporter": "python",
   "pygments_lexer": "ipython3",
   "version": "3.7.11"
  }
 },
 "nbformat": 4,
 "nbformat_minor": 5
}
